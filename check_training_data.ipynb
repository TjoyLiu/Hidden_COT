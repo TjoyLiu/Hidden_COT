{
 "cells": [
  {
   "cell_type": "markdown",
   "metadata": {},
   "source": [
    "#### w/o cot应该只有equation才对"
   ]
  },
  {
   "cell_type": "code",
   "execution_count": 22,
   "metadata": {},
   "outputs": [],
   "source": [
    "import os, json\n",
    "import pandas as pd"
   ]
  },
  {
   "cell_type": "code",
   "execution_count": 23,
   "metadata": {},
   "outputs": [],
   "source": [
    "with open(\n",
    "    \"/mnt/pfs/zitao_team/tianqiaoliu/Project/teammates/hidden_cot/train_script/data_config/train_gsm8k_direct_no_cot.json\",\n",
    "    \"r\",\n",
    ") as f:\n",
    "    no_cot = json.load(f)"
   ]
  },
  {
   "cell_type": "code",
   "execution_count": 24,
   "metadata": {},
   "outputs": [],
   "source": [
    "with open(\n",
    "    \"/mnt/pfs/zitao_team/tianqiaoliu/Project/papers/hidden_cot/data/GSM8K/hcot_llm_data.json\",\n",
    "    \"r\",\n",
    ") as f:\n",
    "    no_cot = json.load(f)"
   ]
  },
  {
   "cell_type": "code",
   "execution_count": 25,
   "metadata": {},
   "outputs": [
    {
     "data": {
      "text/plain": [
       "{'question': 'USER: Question: A car is driving through a tunnel with many turns. After a while, the car must travel through a ring that requires a total of 4 right-hand turns. After the 1st turn, it travels 5 meters. After the 2nd turn, it travels 8 meters. After the 3rd turn, it travels a little further and at the 4th turn, it immediately exits the tunnel. If the car has driven a total of 23 meters around the ring, how far did it have to travel after the 3rd turn?\\n Analysis: From the details given, the car has traveled 5 meters at the 1st turn + 8 meters after the 2nd turn + 0 meters after the 4th turn = <<5+8+0=13>>13 meters around the ring.\\nIt must therefore have driven 23 total meters – 13 calculated meters = 10 meters after the 3rd turn.\\n Answer:10',\n",
       " 'raw_result': {'id': 'chatcmpl-8SRAPK62ihju3TAq9F26E4ooQdZeq',\n",
       "  'object': 'chat.completion',\n",
       "  'created': 1701788305,\n",
       "  'model': 'gpt-4',\n",
       "  'choices': [{'index': 0,\n",
       "    'message': {'role': 'assistant',\n",
       "     'content': '<|im_start|>[assistant](#inner_monologue)\\\\nDeciding on language: `English` detected from the user message. Using the same language for my reply and my suggested user responses.\\\\nDeciding on next action: `math_action` I will understand the question and analysis and return markdown format of my detailed thoughts and answer to this question.\\\\n[assistant](#math_action)\\\\nThe problem involves calculating how far a car traveled after making certain turns in a tunnel. We know that it made 4 right-hand turns, with given distances for the first two turns, no distance covered after the fourth turn, and an overall total distance covered around a ring.\\n\\n<thought>Firstly, we need to calculate how much distance was covered by the car after making its first two turns.</thought>\\n<equation>Distance_after_1st_and_2nd_turns = Distance_after_1st_turn + Distance_after_2nd_turn = 5 meters + 8 meters = 13 meters</equation>\\n\\n<thought>Next, since we know that no additional distance was covered after making its fourth turn (it immediately exits), we can subtract this calculated sum from the total distance driven around the ring to find out how far it had to travel after its third turn.</thought>\\n<equation>Distance_after_3rd_turn = Total_distance - Distance_after_1st_and_2nd_turns\\n= 23 meters - 13 meters \\n=10 meters</equation>\\n\\nSo, The car must have driven 10 meters after making its third turn.\\n'},\n",
       "    'finish_reason': 'stop'}],\n",
       "  'usage': {'prompt_tokens': 1279,\n",
       "   'completion_tokens': 320,\n",
       "   'total_tokens': 1599}},\n",
       " 'success': True,\n",
       " 'response': '<|im_start|>[assistant](#inner_monologue)\\\\nDeciding on language: `English` detected from the user message. Using the same language for my reply and my suggested user responses.\\\\nDeciding on next action: `math_action` I will understand the question and analysis and return markdown format of my detailed thoughts and answer to this question.\\\\n[assistant](#math_action)\\\\nThe problem involves calculating how far a car traveled after making certain turns in a tunnel. We know that it made 4 right-hand turns, with given distances for the first two turns, no distance covered after the fourth turn, and an overall total distance covered around a ring.\\n\\n<thought>Firstly, we need to calculate how much distance was covered by the car after making its first two turns.</thought>\\n<equation>Distance_after_1st_and_2nd_turns = Distance_after_1st_turn + Distance_after_2nd_turn = 5 meters + 8 meters = 13 meters</equation>\\n\\n<thought>Next, since we know that no additional distance was covered after making its fourth turn (it immediately exits), we can subtract this calculated sum from the total distance driven around the ring to find out how far it had to travel after its third turn.</thought>\\n<equation>Distance_after_3rd_turn = Total_distance - Distance_after_1st_and_2nd_turns\\n= 23 meters - 13 meters \\n=10 meters</equation>\\n\\nSo, The car must have driven 10 meters after making its third turn.\\n',\n",
       " 'meta': {'question': 'A car is driving through a tunnel with many turns. After a while, the car must travel through a ring that requires a total of 4 right-hand turns. After the 1st turn, it travels 5 meters. After the 2nd turn, it travels 8 meters. After the 3rd turn, it travels a little further and at the 4th turn, it immediately exits the tunnel. If the car has driven a total of 23 meters around the ring, how far did it have to travel after the 3rd turn?',\n",
       "  'answer': '10',\n",
       "  'analysis': 'From the details given, the car has traveled 5 meters at the 1st turn + 8 meters after the 2nd turn + 0 meters after the 4th turn = <<5+8+0=13>>13 meters around the ring.\\nIt must therefore have driven 23 total meters – 13 calculated meters = 10 meters after the 3rd turn.'},\n",
       " 'conversations': [{'from': 'human',\n",
       "   'value': 'A car is driving through a tunnel with many turns. After a while, the car must travel through a ring that requires a total of 4 right-hand turns. After the 1st turn, it travels 5 meters. After the 2nd turn, it travels 8 meters. After the 3rd turn, it travels a little further and at the 4th turn, it immediately exits the tunnel. If the car has driven a total of 23 meters around the ring, how far did it have to travel after the 3rd turn?'},\n",
       "  {'from': 'gpt',\n",
       "   'value': 'The problem involves calculating how far a car traveled after making certain turns in a tunnel. We know that it made 4 right-hand turns, with given distances for the first two turns, no distance covered after the fourth turn, and an overall total distance covered around a ring.\\n\\n<[COT]>\\n<equation>Distance_after_1st_and_2nd_turns = Distance_after_1st_turn + Distance_after_2nd_turn = 5 meters + 8 meters = 13 meters</equation>\\n\\n<[COT]>\\n<equation>Distance_after_3rd_turn = Total_distance - Distance_after_1st_and_2nd_turns\\n= 23 meters - 13 meters \\n=10 meters</equation>\\n\\nSo, The car must have driven 10 meters after making its third turn.\\n'}]}"
      ]
     },
     "execution_count": 25,
     "metadata": {},
     "output_type": "execute_result"
    }
   ],
   "source": [
    "no_cot[1]"
   ]
  },
  {
   "cell_type": "code",
   "execution_count": 35,
   "metadata": {},
   "outputs": [
    {
     "name": "stdout",
     "output_type": "stream",
     "text": [
      "The problem involves calculating how far a car traveled after making certain turns in a tunnel. We know that it made 4 right-hand turns, with given distances for the first two turns, no distance covered after the fourth turn, and an overall total distance covered around a ring.\n",
      "\n",
      "<[COT]>\n",
      "<equation>Distance_after_1st_and_2nd_turns = Distance_after_1st_turn + Distance_after_2nd_turn = 5 meters + 8 meters = 13 meters</equation>\n",
      "\n",
      "<[COT]>\n",
      "<equation>Distance_after_3rd_turn = Total_distance - Distance_after_1st_and_2nd_turns\n",
      "= 23 meters - 13 meters \n",
      "=10 meters</equation>\n",
      "\n",
      "So, The car must have driven 10 meters after making its third turn.\n",
      "\n"
     ]
    }
   ],
   "source": [
    "print(no_cot[1][\"conversations\"][-1][\"value\"])"
   ]
  },
  {
   "cell_type": "code",
   "execution_count": 37,
   "metadata": {},
   "outputs": [
    {
     "name": "stdout",
     "output_type": "stream",
     "text": [
      "['Distance_after_1st_and_2nd_turns = Distance_after_1st_turn + Distance_after_2nd_turn = 5 meters + 8 meters = 13 meters', 'Distance_after_3rd_turn = Total_distance - Distance_after_1st_and_2nd_turns\\n= 23 meters - 13 meters \\n=10 meters']\n",
      "Distance_after_1st_and_2nd_turns = Distance_after_1st_turn + Distance_after_2nd_turn = 5 meters + 8 meters = 13 meters\n",
      "\n",
      "Distance_after_3rd_turn = Total_distance - Distance_after_1st_and_2nd_turns\n",
      "= 23 meters - 13 meters \n",
      "=10 meters\n"
     ]
    }
   ],
   "source": [
    "print(extract_equations(no_cot[1][\"conversations\"][-1][\"value\"]))"
   ]
  },
  {
   "cell_type": "code",
   "execution_count": 38,
   "metadata": {},
   "outputs": [],
   "source": [
    "import re\n",
    "def extract_equations(text):\n",
    "    # 使用 re.DOTALL 使 '.' 匹配任何字符，包括换行符\n",
    "    equations = re.findall(r\"<equation>(.*?)</equation>\", text, re.DOTALL)\n",
    "    # 将找到的所有方程拼接在一起\n",
    "    combined_equations = \"\\n\\n\".join(equations)\n",
    "    return combined_equations"
   ]
  },
  {
   "cell_type": "code",
   "execution_count": 16,
   "metadata": {},
   "outputs": [
    {
     "data": {
      "text/plain": [
       "\"Tony's share = 2 * $1750 = $3500\\nTotal amount shared = $1750 (Ken's share) + $3500 (Tony's share) = $5250\""
      ]
     },
     "execution_count": 16,
     "metadata": {},
     "output_type": "execute_result"
    }
   ],
   "source": [
    "extract_equations(no_cot[0][\"conversations\"][-1]['value'])"
   ]
  },
  {
   "cell_type": "code",
   "execution_count": 39,
   "metadata": {},
   "outputs": [],
   "source": [
    "no_cot_new = []\n",
    "for line in no_cot:\n",
    "    line_conv = line[\"conversations\"]\n",
    "    gpt_response = line_conv[1][\"value\"]\n",
    "    only_equation = extract_equations(gpt_response)\n",
    "\n",
    "    line_conv[1][\"value\"] = only_equation\n",
    "    no_cot_new.append(line)"
   ]
  },
  {
   "cell_type": "code",
   "execution_count": 43,
   "metadata": {},
   "outputs": [
    {
     "name": "stdout",
     "output_type": "stream",
     "text": [
      "[{'from': 'human', 'value': 'A deep-sea monster rises from the waters once every hundred years to feast on a ship and sate its hunger. Over three hundred years, it has consumed 847 people. Ships have been built larger over time, so each new ship has twice as many people as the last ship. How many people were on the ship the monster ate in the first hundred years?'}, {'from': 'gpt', 'value': '\\\\text{People on second ship} = 2S\\n\\n\\\\text{People on third ship} = 2 * \\\\text{People on second ship} = 4S\\n\\nS + (2*S) + (4*S) = Total\\\\;people\\\\;consumed\\\\\\\\\\n7*S = Total\\\\;people\\\\;consumed\\\\\\\\\\n7*S=847\\n\\nS=\\\\frac{Total\\\\;people\\\\;consumed}{7}\\\\\\\\\\n=S=\\\\frac{847}{7}=121'}]\n",
      "121\n",
      "Index: 0\n",
      "**********\n",
      "[{'from': 'human', 'value': 'Brennan was researching his school project and had to download files from the internet to his computer to use for reference. After downloading 800 files, he deleted 70% of them because they were not helpful. He downloaded 400 more files but again realized that 3/5 of them were irrelevant. How many valuable files was he left with after deleting the unrelated files he downloaded in the second round?'}, {'from': 'gpt', 'value': 'Non-valuable files in first round = \\\\frac{70}{100} \\\\times 800 = 560\\n\\nValuable Files First Round = Total Downloads - Non-Valuable Files = 800 - 560 = 240\\n\\nNon-valuable Files Second Round= \\\\frac{3}{5} \\\\times 400=240\\n\\nValuable Files Second Round= Total New Downloads - Non-Valuable New Files=400-240=160'}]\n",
      "400\n",
      "Index: 1\n",
      "**********\n",
      "[{'from': 'human', 'value': 'Nigel won $45 but gave some away. His mother gave him $80 more. If now Nigel has $10 more than twice the amount he originally had, how much money did he give away?'}, {'from': 'gpt', 'value': \"Twice original amount = 2 * 45 = 90 dollars\\n\\nNigel's current total = 90 + 10 = 100 dollars\\n\\nTotal before receiving extra money = Current total - Mother's contribution = 100 - 80 =20 dollars\\n\\nMoney given away= Original winnings - Amount left after giving some away=45-20=25 dollars \"}]\n",
      "25\n",
      "Index: 2\n",
      "**********\n",
      "[{'from': 'human', 'value': 'A beadshop earns a third of its profit on Monday, a quarter of its profit on Tuesday and the rest of its profit on Wednesday. The shop makes a total profit of $1,200. How much profit, in dollars, was made on Wednesday?'}, {'from': 'gpt', 'value': 'Profit_Monday = \\\\frac{1}{3} * 1200 = $400\\n\\nProfit_Tuesday = \\\\frac{1}{4} * 1200 = $300\\n\\nProfit_Wednesday = Total_Profit - Profit_Monday - Profit_Tuesday\\n= 1200 - 400 - 300\\n= $500'}]\n",
      "500\n",
      "Index: 3\n",
      "**********\n",
      "[{'from': 'human', 'value': 'A clothing store sells 20 shirts and 10 pairs of jeans. A shirt costs $10 each and a pair of jeans costs twice as much. How much will the clothing store earn if all shirts and jeans are sold?'}, {'from': 'gpt', 'value': 'Total earnings from shirts = $10 \\\\times 20 = $200\\n\\nCost per pair of jeans = $10 \\\\times 2 = $20\\n\\nTotal earnings from jeans = $20 \\\\times 10 = $200\\n\\nTotal Earnings= Total earnings from shirts + Total earnings from Jeans= \\\\$200 + \\\\$200=\\\\$400 '}]\n",
      "400\n",
      "Index: 4\n",
      "**********\n",
      "[{'from': 'human', 'value': 'John eats 3 meals a day.  Breakfast is 500 calories.  His lunch contains 25% more calories than that.  His dinner is twice as many calories as lunch.  He also has 3 shakes that are each 300 calories.  How many calories does he get in a day?'}, {'from': 'gpt', 'value': 'Lunch Calories = Breakfast Calories + (Breakfast Calories * 0.25) = 500 + (500 * .25) =625\\n\\nDinner Calories = Lunch Calories *2=625*2=1250\\n\\nShake Total Calorie Count= Shake Calorie Count* Number of Shakes Consumed=300*3=900\\n\\nTotal Daily Calorie Intake = Breakfast+Lunch+Dinner+Shakes Total Calorie Count\\n                                  =500+625+1250+900\\n                                  =3275 '}]\n",
      "3275\n",
      "Index: 5\n",
      "**********\n",
      "[{'from': 'human', 'value': 'Vins rides his bike 6 miles to school. He rides home a different route that is 7 miles long. This week, Vins rode to school and back 5 times. How many miles did Vins ride his bike this week?'}, {'from': 'gpt', 'value': 'Total daily ride = 6 \\\\text{ miles} + 7 \\\\text{ miles} = 13 \\\\text{ miles}\\n\\nTotal weekly ride = 13 \\\\text{miles/day} * 5 \\\\text{days/week} = 65\\\\text {miles/week}'}]\n",
      "65\n",
      "Index: 6\n",
      "**********\n",
      "[{'from': 'human', 'value': \"Yuko likes to play board games. He decides to play a game with his brother Yuri. They must roll 3 dice at the same time and move the squares corresponding to the value of the 3 dice. Yuri started and his dice had the following combination: 2, 4, and 5. On Yuko's turn, he rolled 1, 5, and X. How many squares must Yuko's last die move him so that he is in front of his brother?\"}, {'from': 'gpt', 'value': \"Total squares moved by Yuri = 2 + 4 + 5 = 11\\n\\nX = Total squares moved by Yuri - (Yuko's first two dice) \\\\\\\\\\\\\\\\\\nX = 11 - (1+5) \\\\\\\\\\\\\\\\\\nX = 11 -6 \\\\\\\\\\\\\\\\\\nX=5\\n\\nSquares needed for Yuko to be in front = X +1\\\\\\\\\\\\\\\\\\nSquares needed for Yuko to be in front=5+1\\\\\\\\\\\\\\\\\\nSquares needed for Yuko to be in front=6\"}]\n",
      "6\n",
      "Index: 7\n",
      "**********\n",
      "[{'from': 'human', 'value': 'Jesse received $50 as a gift to buy what she wants. She goes to the mall and falls in love with a novel that costs her $7. Then she went to lunch because she was very hungry and spent twice as much as the novel cost her. How much money did Jesse have left after going to the mall?'}, {'from': 'gpt', 'value': 'Cost of Novel = $7\\n\\nCost of Lunch = 2 * Cost of Novel = 2 * $7 = $14\\n\\nTotal Spending = Cost of Novel + Cost of Lunch = $7 + $14 = $21\\n\\nMoney Left= Initial Amount - Total Spending= \\\\$50 - \\\\$21= \\\\$29 '}]\n",
      "29\n",
      "Index: 8\n",
      "**********\n",
      "[{'from': 'human', 'value': 'Emma has saved $230 in her bank account. She withdrew $60 to buy a new pair of shoes. The next week, she deposited twice as much money as she withdrew. How much is in her bank account now?'}, {'from': 'gpt', 'value': 'Money left after withdrawal = $230 - $60 = $170\\n\\nDeposit amount = 2 * Withdrawal amount = 2 * $60 = $120\\n\\nTotal balance now= Money left + Deposit Amount= \\\\$170 + \\\\$120= \\\\$290 '}]\n",
      "290\n",
      "Index: 9\n",
      "**********\n",
      "[{'from': 'human', 'value': 'A farmer has twice as many pigs as cows, and 4 more cows than goats.  If the farmer has 56 animals total, how many goats does he have?'}, {'from': 'gpt', 'value': 'x(goats) + (4+x)(cows) + (8+2x)(pigs) = 56(total)\\n\\n4x+12=56\\n\\n4x=44\\n\\nx=11'}]\n",
      "11\n",
      "Index: 10\n",
      "**********\n",
      "[{'from': 'human', 'value': 'Julia has $40. She spends half of her money to buy a new game for her phone. She spends a quarter of what she has left on in-game purchases. How much money does she have left?'}, {'from': 'gpt', 'value': 'Money spent on game = \\\\frac{$40}{2} = $20\\n\\nMoney left after buying game = $40 - $20 = $20\\n\\nMoney spent on in-game purchases = \\\\frac{$20}{4} = $5\\n\\nTotal Money Left Now= Money Left After Buying Game - Money Spent On In-Game Purchases\\nTotal Money Left Now= $20 - $5 =$15 '}]\n",
      "15\n",
      "Index: 11\n",
      "**********\n",
      "[{'from': 'human', 'value': 'Gretchen draws caricatures in the park on the weekends.  She charges $20.00 per drawing.  If she sold 24 on Saturday and 16 on Sunday, how much money did she make?'}, {'from': 'gpt', 'value': 'Total drawings = 24 + 16 = 40\\n\\nEarnings = $20 \\\\times 40 = $800'}]\n",
      "800\n",
      "Index: 12\n",
      "**********\n",
      "[{'from': 'human', 'value': 'A water tank has a capacity of 4000 gallons. Mack connects a pipe to the tank that fills the tank with water at the rate of 10 gallons per hour. How long will it take to fill the tank to 3/4 of its capacity?'}, {'from': 'gpt', 'value': 'Capacity needed = \\\\frac{3}{4} \\\\times 4000 = 3000 \\\\text{ gallons}\\n\\nTime required = \\\\frac{3000}{10} = 300 \\\\text{ hours}'}]\n",
      "300\n",
      "Index: 13\n",
      "**********\n",
      "[{'from': 'human', 'value': 'Michelle uses 40 beads in making a necklace. She uses 5 blue beads and 2 times as many red beads as blue beads. Then she uses the same number of white beads as the blue and red beads combined. If the rest of the beads she uses are silver, how many silver beads does she use?'}, {'from': 'gpt', 'value': 'Red Beads = 5 \\\\times 2 = 10\\n\\nWhite Beads = Blue Beads + Red Beads = 5 + 10 =15\\n\\nSilver Beads= Total - (Blue+Red+White)=40-(5+10+15)=10 '}]\n",
      "10\n",
      "Index: 14\n",
      "**********\n",
      "[{'from': 'human', 'value': 'OpenAI runs a robotics competition that limits the weight of each robot. Each robot can be no more than twice the minimum weight and no less than 5 pounds heavier than the standard robot. The standard robot weighs 100 pounds. What is the maximum weight of a robot in the competition?'}, {'from': 'gpt', 'value': \"Minimum Weight = Standard Robot's Weight + 5 = 100 lbs + 5 lbs = 105 lbs\\n\\nMaximum Weight = Minimum Weight x 2 = 105 lbs x 2 =210 lbs\"}]\n",
      "210\n",
      "Index: 15\n",
      "**********\n",
      "[{'from': 'human', 'value': 'Keith scored 3 points on the math test. Larry scored 3 times as many marks. Danny scored 5 more marks than Larry. Find the total amount of marks scored by the three students.'}, {'from': 'gpt', 'value': \"Larry's Score = 3 \\\\times Keith's Score = 3 \\\\times 3 = 9\\n\\nDanny's Score = Larry's Score +5=9+5=14\\n\\nTotal Marks =Keith's Score +Larry's Score +Danny’s Score=3+9+14=26\"}]\n",
      "26\n",
      "Index: 16\n",
      "**********\n",
      "[{'from': 'human', 'value': \"The total for the sum and product of Elvie's age and Arielle's age are 131. If Elvie's age is 10, how old is Arielle?\"}, {'from': 'gpt', 'value': 'The sum = 10 + x\\n\\nThe product = 10 * x\\n\\nSum + Product = Total => (10+x) + (10*x) =131 \\n\\nThis simplifies to :11x+10=131=>11x=121=>x=\\\\frac{121}{11}=11'}]\n",
      "11\n",
      "Index: 17\n",
      "**********\n",
      "[{'from': 'human', 'value': 'Joan collects rocks. In her collection of rock samples, she had half as many gemstones as minerals yesterday. Today, she went on a rock collecting trip and found 6 more mineral samples. If she has 48 minerals now, how many gemstone samples does she have?'}, {'from': 'gpt', 'value': 'Mineral Samples Yesterday = Total Minerals Now - New Mineral Samples Found Today = 48 - 6 = 42\\n\\nGemstone Samples = \\\\frac{Mineral Samples Yesterday}{2} = \\\\frac{42}{2} =21'}]\n",
      "21\n",
      "Index: 18\n",
      "**********\n",
      "[{'from': 'human', 'value': \"The total average age of three friends is 40. Jared is ten years older than Hakimi, and Molly's age is 30. How old is Hakimi?\"}, {'from': 'gpt', 'value': 'Total Age = Average Age * Number of Friends = 40 * 3 = 120\\n\\nJared + Hakimi = Total Age - Molly’s Age = 120 -30=90\\n\\nx + (x+10) =90 \\n\\n2x +10=90 =>2x=80=> x=40'}]\n",
      "40\n",
      "Index: 19\n",
      "**********\n"
     ]
    }
   ],
   "source": [
    "import random\n",
    "\n",
    "random_sample_no_cot_new = random.sample(no_cot_new, 20)\n",
    "for idx, one_line in enumerate(random_sample_no_cot_new):\n",
    "    print(one_line[\"conversations\"])\n",
    "    print(one_line[\"meta\"][\"answer\"])\n",
    "    print(\"Index: {}\".format(idx))\n",
    "    print(\"*\" * 10)"
   ]
  },
  {
   "cell_type": "code",
   "execution_count": 46,
   "metadata": {},
   "outputs": [
    {
     "data": {
      "text/plain": [
       "{'question': 'USER: Question: Brennan was researching his school project and had to download files from the internet to his computer to use for reference. After downloading 800 files, he deleted 70% of them because they were not helpful. He downloaded 400 more files but again realized that 3/5 of them were irrelevant. How many valuable files was he left with after deleting the unrelated files he downloaded in the second round?\\n Analysis: The number of non-valuable files Brennan downloaded in the first round is 70/100*800 = <<70/100*800=560>>560 files.\\nThe number of valuable files Brennan downloaded in the first round is 800-560 = <<800-560=240>>240\\nWhen he downloaded 400 new files, there were 3/5*400= <<3/5*400=240>>240 non-useful files, which he deleted again.\\nThe total number of valuable files he downloaded in the second round is 400-240 = <<400-240=160>>160\\nTo write his research, Brennan had 160+240 = <<160+240=400>>400 useful files to reference to write his research.\\n Answer:400',\n",
       " 'raw_result': {'id': 'chatcmpl-8SRBNLw5kPRy2W5XXX2GlpfL54BXU',\n",
       "  'object': 'chat.completion',\n",
       "  'created': 1701788365,\n",
       "  'model': 'gpt-4',\n",
       "  'choices': [{'index': 0,\n",
       "    'message': {'role': 'assistant',\n",
       "     'content': '<|im_start|>[assistant](#inner_monologue)\\\\nDeciding on language: `English` detected from the user message. Using the same language for my reply and my suggested user responses.\\\\nDeciding on next action: `math_action` I will understand the question and analysis and return markdown format of my detailed thoughts and answer to this question.\\\\n[assistant](#math_action)\\\\nThe problem involves calculating how many useful files Brennan had after deleting irrelevant ones in two rounds of downloading. We need to find out how many valuable files he downloaded each time, then add these together.\\\\n<thought>Firstly, we calculate how many non-valuable files Brennan downloaded in the first round by multiplying total number of downloads with percentage of unhelpful files.</thought>\\\\n<equation>Non-valuable files in first round = \\\\frac{70}{100} \\\\times 800 = 560</equation>\\\\n<thought>We subtract this from total downloads to get number of valuable files in first round.</thought>\\\\n<equation>Valuable Files First Round = Total Downloads - Non-Valuable Files = 800 - 560 = 240</equation>\\\\nthought>In second download session, again we calculate non-useful file count by multiplying total downloads with fraction representing uselessness.</thought>\\\\n<equation>Non-valuable Files Second Round= \\\\frac{3}{5} \\\\times 400=240</equation>\\\\nthought>We subtract these from total new downloads to get valuable file count for second session.</thought>\\\\n<equation>Valuable Files Second Round= Total New Downloads - Non-Valuable New Files=400-240=160</equation>\\\\nthought>To find out overall useful file count, we sum up valuable counts from both sessions.</thought><\\\\br><\\\\br>\\n\\\\n<calculation>Total Valuable File Count = Valuable First + Valuble Second = 240+160=400 </calculation>\\n\\nSo, Brennan was left with a total of 400 useful reference files for his research project.\\n'},\n",
       "    'finish_reason': 'stop'}],\n",
       "  'usage': {'prompt_tokens': 1318,\n",
       "   'completion_tokens': 422,\n",
       "   'total_tokens': 1740}},\n",
       " 'success': True,\n",
       " 'response': '<|im_start|>[assistant](#inner_monologue)\\\\nDeciding on language: `English` detected from the user message. Using the same language for my reply and my suggested user responses.\\\\nDeciding on next action: `math_action` I will understand the question and analysis and return markdown format of my detailed thoughts and answer to this question.\\\\n[assistant](#math_action)\\\\nThe problem involves calculating how many useful files Brennan had after deleting irrelevant ones in two rounds of downloading. We need to find out how many valuable files he downloaded each time, then add these together.\\\\n<thought>Firstly, we calculate how many non-valuable files Brennan downloaded in the first round by multiplying total number of downloads with percentage of unhelpful files.</thought>\\\\n<equation>Non-valuable files in first round = \\\\frac{70}{100} \\\\times 800 = 560</equation>\\\\n<thought>We subtract this from total downloads to get number of valuable files in first round.</thought>\\\\n<equation>Valuable Files First Round = Total Downloads - Non-Valuable Files = 800 - 560 = 240</equation>\\\\nthought>In second download session, again we calculate non-useful file count by multiplying total downloads with fraction representing uselessness.</thought>\\\\n<equation>Non-valuable Files Second Round= \\\\frac{3}{5} \\\\times 400=240</equation>\\\\nthought>We subtract these from total new downloads to get valuable file count for second session.</thought>\\\\n<equation>Valuable Files Second Round= Total New Downloads - Non-Valuable New Files=400-240=160</equation>\\\\nthought>To find out overall useful file count, we sum up valuable counts from both sessions.</thought><\\\\br><\\\\br>\\n\\\\n<calculation>Total Valuable File Count = Valuable First + Valuble Second = 240+160=400 </calculation>\\n\\nSo, Brennan was left with a total of 400 useful reference files for his research project.\\n',\n",
       " 'meta': {'question': 'Brennan was researching his school project and had to download files from the internet to his computer to use for reference. After downloading 800 files, he deleted 70% of them because they were not helpful. He downloaded 400 more files but again realized that 3/5 of them were irrelevant. How many valuable files was he left with after deleting the unrelated files he downloaded in the second round?',\n",
       "  'answer': '400',\n",
       "  'analysis': 'The number of non-valuable files Brennan downloaded in the first round is 70/100*800 = <<70/100*800=560>>560 files.\\nThe number of valuable files Brennan downloaded in the first round is 800-560 = <<800-560=240>>240\\nWhen he downloaded 400 new files, there were 3/5*400= <<3/5*400=240>>240 non-useful files, which he deleted again.\\nThe total number of valuable files he downloaded in the second round is 400-240 = <<400-240=160>>160\\nTo write his research, Brennan had 160+240 = <<160+240=400>>400 useful files to reference to write his research.'},\n",
       " 'conversations': [{'from': 'human',\n",
       "   'value': 'Brennan was researching his school project and had to download files from the internet to his computer to use for reference. After downloading 800 files, he deleted 70% of them because they were not helpful. He downloaded 400 more files but again realized that 3/5 of them were irrelevant. How many valuable files was he left with after deleting the unrelated files he downloaded in the second round?'},\n",
       "  {'from': 'gpt',\n",
       "   'value': 'Non-valuable files in first round = \\\\frac{70}{100} \\\\times 800 = 560\\n\\nValuable Files First Round = Total Downloads - Non-Valuable Files = 800 - 560 = 240\\n\\nNon-valuable Files Second Round= \\\\frac{3}{5} \\\\times 400=240\\n\\nValuable Files Second Round= Total New Downloads - Non-Valuable New Files=400-240=160'}]}"
      ]
     },
     "execution_count": 46,
     "metadata": {},
     "output_type": "execute_result"
    }
   ],
   "source": [
    "random_sample_no_cot_new[1]"
   ]
  },
  {
   "cell_type": "code",
   "execution_count": null,
   "metadata": {},
   "outputs": [],
   "source": []
  },
  {
   "cell_type": "code",
   "execution_count": null,
   "metadata": {},
   "outputs": [],
   "source": []
  },
  {
   "cell_type": "markdown",
   "metadata": {},
   "source": [
    "#### 不带COT的数据有一些问题，我需要变一下，只保留equation的内容，这次最后要输出答案"
   ]
  },
  {
   "cell_type": "code",
   "execution_count": null,
   "metadata": {},
   "outputs": [],
   "source": []
  },
  {
   "cell_type": "code",
   "execution_count": null,
   "metadata": {},
   "outputs": [],
   "source": []
  },
  {
   "cell_type": "code",
   "execution_count": null,
   "metadata": {},
   "outputs": [],
   "source": []
  },
  {
   "cell_type": "markdown",
   "metadata": {},
   "source": [
    "#### 带cot的数据什么样子呢"
   ]
  },
  {
   "cell_type": "code",
   "execution_count": 8,
   "metadata": {},
   "outputs": [],
   "source": [
    "with open(\"/mnt/pfs/zitao_team/tianqiaoliu/Project/teammates/hidden_cot/train_script/data_config/train_gsm8k_direct.json\", \"r\") as f:\n",
    "    with_cot = json.load(f)"
   ]
  },
  {
   "cell_type": "code",
   "execution_count": 9,
   "metadata": {},
   "outputs": [
    {
     "data": {
      "text/plain": [
       "{'path': '/mnt/pfs/zitao_team/tianqiaoliu/Project/papers/hidden_cot/data/GSM8K/h_cot_direct_conv.json',\n",
       " 'data_name': 'directly_gsm8k',\n",
       " 'sample_ratio': 1}"
      ]
     },
     "execution_count": 9,
     "metadata": {},
     "output_type": "execute_result"
    }
   ],
   "source": [
    "with_cot[0]"
   ]
  },
  {
   "cell_type": "code",
   "execution_count": 10,
   "metadata": {},
   "outputs": [],
   "source": [
    "with open(\"/mnt/pfs/zitao_team/tianqiaoliu/Project/papers/hidden_cot/data/GSM8K/h_cot_direct_conv.json\", \"r\") as f:\n",
    "    direct_cot = json.load(f)"
   ]
  },
  {
   "cell_type": "code",
   "execution_count": 12,
   "metadata": {},
   "outputs": [
    {
     "data": {
      "text/plain": [
       "7430"
      ]
     },
     "execution_count": 12,
     "metadata": {},
     "output_type": "execute_result"
    }
   ],
   "source": [
    "len(direct_cot)"
   ]
  },
  {
   "cell_type": "code",
   "execution_count": null,
   "metadata": {},
   "outputs": [],
   "source": []
  },
  {
   "cell_type": "code",
   "execution_count": null,
   "metadata": {},
   "outputs": [],
   "source": []
  },
  {
   "cell_type": "code",
   "execution_count": null,
   "metadata": {},
   "outputs": [],
   "source": []
  },
  {
   "cell_type": "code",
   "execution_count": null,
   "metadata": {},
   "outputs": [],
   "source": []
  },
  {
   "cell_type": "code",
   "execution_count": null,
   "metadata": {},
   "outputs": [],
   "source": []
  },
  {
   "cell_type": "code",
   "execution_count": null,
   "metadata": {},
   "outputs": [],
   "source": []
  },
  {
   "cell_type": "code",
   "execution_count": null,
   "metadata": {},
   "outputs": [],
   "source": []
  }
 ],
 "metadata": {
  "kernelspec": {
   "display_name": "python3.9",
   "language": "python",
   "name": "python3"
  },
  "language_info": {
   "codemirror_mode": {
    "name": "ipython",
    "version": 3
   },
   "file_extension": ".py",
   "mimetype": "text/x-python",
   "name": "python",
   "nbconvert_exporter": "python",
   "pygments_lexer": "ipython3",
   "version": "3.9.16"
  }
 },
 "nbformat": 4,
 "nbformat_minor": 2
}
