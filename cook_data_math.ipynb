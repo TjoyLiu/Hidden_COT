{
 "cells": [
  {
   "cell_type": "code",
   "execution_count": 1,
   "metadata": {},
   "outputs": [],
   "source": [
    "### 27号我有一波新的训练数据，看看成色。\n",
    "import os, json\n",
    "import re"
   ]
  },
  {
   "cell_type": "code",
   "execution_count": 2,
   "metadata": {},
   "outputs": [],
   "source": [
    "with open(\n",
    "    \"/mnt/pfs/zitao_team/tianqiaoliu/Project/teammates/hidden_cot/data/MATH/algebra/hcot_math_algebra_0124.jsonl\",\n",
    "    \"r\",\n",
    ") as f:\n",
    "    hcot_math_algebra_new = f.readlines()\n",
    "\n",
    "with open(\n",
    "    \"/mnt/pfs/zitao_team/tianqiaoliu/Project/teammates/hidden_cot/data/MATH/counting_and_probability/hcot_math_counting_and_probability_0124.jsonl\",\n",
    "    \"r\",\n",
    ") as f:\n",
    "    hcot_math_counting_new = f.readlines()\n",
    "\n",
    "with open(\n",
    "    \"/mnt/pfs/zitao_team/tianqiaoliu/Project/teammates/hidden_cot/data/MATH/number_theory/hcot_math_number_theory_0124.jsonl\",\n",
    "    \"r\",\n",
    ") as f:\n",
    "    hcot_math_number_theory_new = f.readlines()\n",
    "\n",
    "with open(\n",
    "    \"/mnt/pfs/zitao_team/tianqiaoliu/Project/teammates/hidden_cot/data/MATH/prealgebra/hcot_math_prealgebra_0124.jsonl\",\n",
    "    \"r\",\n",
    ") as f:\n",
    "    hcot_math_prealgebra_new = f.readlines()"
   ]
  },
  {
   "cell_type": "code",
   "execution_count": 3,
   "metadata": {},
   "outputs": [],
   "source": [
    "hcot_math_new = (\n",
    "    hcot_math_algebra_new\n",
    "    + hcot_math_counting_new\n",
    "    + hcot_math_number_theory_new\n",
    "    + hcot_math_prealgebra_new\n",
    ")"
   ]
  },
  {
   "cell_type": "code",
   "execution_count": 4,
   "metadata": {},
   "outputs": [
    {
     "data": {
      "text/plain": [
       "'This is a test <equation>xample without proper tag. Here is another \\n</thought> with no end.'"
      ]
     },
     "execution_count": 4,
     "metadata": {},
     "output_type": "execute_result"
    }
   ],
   "source": [
    "def fix_incomplete_tags_v2(text: str) -> str:\n",
    "    tags = [\"thought\", \"equation\"]\n",
    "\n",
    "    for tag in tags:\n",
    "        open_tag = f\"<{tag}>\"\n",
    "        close_tag = f\"</{tag}>\"\n",
    "        incomplete_situation_open_tag_left = f\"<{tag}\"\n",
    "        incomplete_situation_open_tag_right = f\"{tag}>\"\n",
    "        incomplete_situation_close_tag_left = f\"/{tag}>\"\n",
    "        incomplete_situation_close_tag_right = f\"</{tag}\"\n",
    "        text_tmp = text.replace(open_tag, \"&*#$%\")\n",
    "        text_tmp = text_tmp.replace(close_tag, \"@#!$%\")\n",
    "        text_tmp = text_tmp.replace(incomplete_situation_close_tag_left, close_tag)\n",
    "        text_tmp = text_tmp.replace(close_tag, \"@#!$%\")\n",
    "\n",
    "        text_tmp = text_tmp.replace(incomplete_situation_close_tag_right, close_tag)\n",
    "        text_tmp = text_tmp.replace(close_tag, \"@#!$%\")\n",
    "\n",
    "        text_tmp = text_tmp.replace(incomplete_situation_open_tag_left, open_tag)\n",
    "        text_tmp = text_tmp.replace(open_tag, \"&*#$%\")\n",
    "        text_tmp = text_tmp.replace(incomplete_situation_open_tag_right, open_tag)\n",
    "        text_tmp = text_tmp.replace(open_tag, \"&*#$%\")\n",
    "\n",
    "        text_tmp = text_tmp.replace(\"&*#$%\", open_tag)\n",
    "        text_tmp = text_tmp.replace(\"@#!$%\", close_tag)\n",
    "        text = text_tmp\n",
    "    return text\n",
    "\n",
    "\n",
    "# Example usage\n",
    "example_string = \"This is a test equation>xample without proper tag. Here is another \\n/thought> with no end.\"\n",
    "fixed_string = fix_incomplete_tags_v2(example_string)\n",
    "fixed_string"
   ]
  },
  {
   "cell_type": "code",
   "execution_count": 5,
   "metadata": {},
   "outputs": [],
   "source": [
    "new_hcot_math_new = []\n",
    "count_fix = []\n",
    "for line in hcot_math_new:\n",
    "    line_js = json.loads(line)\n",
    "    one_response = line_js[\"response\"]\n",
    "    one_new_response = one_response.replace(\"\\n\\n\", \"\\n\")\n",
    "    line_js[\"response\"] = one_new_response\n",
    "    if line_js[\"response\"]:\n",
    "        response_origin = line_js[\"response\"]\n",
    "        response_fix = fix_incomplete_tags_v2(response_origin)\n",
    "        if response_fix != response_origin:\n",
    "            count_fix.append((response_fix, response_origin))\n",
    "        line_js[\"response\"] = response_fix\n",
    "        new_hcot_math_new.append(line_js)"
   ]
  },
  {
   "cell_type": "code",
   "execution_count": 9,
   "metadata": {},
   "outputs": [],
   "source": [
    "with open(\"./data/MATH/hcot_math_fix_0126.jsonl\", \"w\") as f:\n",
    "    for line in new_hcot_math_new:\n",
    "        f.write(json.dumps(line, ensure_ascii=False) + \"\\n\")"
   ]
  },
  {
   "cell_type": "markdown",
   "metadata": {},
   "source": [
    "### 构建带COT的直接训练数据"
   ]
  },
  {
   "cell_type": "code",
   "execution_count": 10,
   "metadata": {},
   "outputs": [],
   "source": [
    "import os, json\n",
    "from tqdm import tqdm\n",
    "\n",
    "with open(\n",
    "    \"/mnt/pfs/zitao_team/tianqiaoliu/Project/teammates/hidden_cot/data/MATH/hcot_math_fix_0126.jsonl\",\n",
    "    \"r\",\n",
    ") as f:\n",
    "    h_cot_math = f.readlines()\n",
    "\n",
    "\n",
    "def build_direct_conversations(one_gsm8k_input):\n",
    "    one_gsm8k_input[\"response\"] = one_gsm8k_input[\"response\"].replace(\n",
    "        \"[assistant'](#math_action)\", \"[assistant](#math_action)\"\n",
    "    )\n",
    "    model_response = (\n",
    "        one_gsm8k_input[\"response\"]\n",
    "        .split(\"[assistant](#math_action)\")[1]\n",
    "        .strip(\"\\\\n\")\n",
    "        .replace(\"\\\\n\", \"\\n\")\n",
    "    )\n",
    "    one_gsm8k_input[\"conversations\"] = [\n",
    "        {\"from\": \"human\", \"value\": one_gsm8k_input[\"meta\"][\"question\"]},\n",
    "        {\"from\": \"gpt\", \"value\": model_response},\n",
    "    ]\n",
    "    return one_gsm8k_input\n",
    "\n",
    "\n",
    "h_cot_math_direct = []\n",
    "for one_gsm8k in h_cot_math:\n",
    "    one_gsm8k_js = json.loads(one_gsm8k)\n",
    "    if one_gsm8k_js[\"response\"]:\n",
    "        h_cot_math_direct.append(build_direct_conversations(one_gsm8k_js))"
   ]
  },
  {
   "cell_type": "code",
   "execution_count": 12,
   "metadata": {},
   "outputs": [
    {
     "data": {
      "text/plain": [
       "4589"
      ]
     },
     "execution_count": 12,
     "metadata": {},
     "output_type": "execute_result"
    }
   ],
   "source": [
    "len(h_cot_math_direct)"
   ]
  },
  {
   "cell_type": "code",
   "execution_count": 13,
   "metadata": {},
   "outputs": [],
   "source": [
    "with open(\n",
    "    \"/mnt/pfs/zitao_team/tianqiaoliu/Project/teammates/hidden_cot/data/MATH/h_cot_direct_conv_0126.json\",\n",
    "    \"w\",\n",
    ") as f:\n",
    "    json.dump(h_cot_math_direct, f, ensure_ascii=False)"
   ]
  },
  {
   "cell_type": "markdown",
   "metadata": {},
   "source": [
    "#### 构建hcot的cot model的训练数据"
   ]
  },
  {
   "cell_type": "code",
   "execution_count": 14,
   "metadata": {},
   "outputs": [],
   "source": [
    "import re\n",
    "\n",
    "\n",
    "def remove_thoughts(text):\n",
    "    \"\"\"\n",
    "    Removes all occurrences of <thought>xxx</thought> from the text.\n",
    "\n",
    "    Args:\n",
    "    text (str): The input string containing <thought>xxx</thought> tags.\n",
    "\n",
    "    Returns:\n",
    "    str: The modified string with <thought>xxx</thought> tags removed.\n",
    "    \"\"\"\n",
    "    # Pattern to match <thought>xxx</thought> and optional preceding and following newlines\n",
    "    pattern = r\"(?<=\\n)<thought>.*?</thought>(?=\\n)\"\n",
    "\n",
    "    # Replace all occurrences with an empty string\n",
    "    modified_text = re.sub(pattern, \"<[COT]>\", text, flags=re.DOTALL)\n",
    "\n",
    "    return modified_text\n",
    "\n",
    "\n",
    "def extract_thoughts_accumulative(problem, text):\n",
    "    pairs = []\n",
    "    previous_end = 0\n",
    "    # prefix = f\"Solve the following math word problem with your step-by-step analysis, {problem}. I will provide the previous analysis and equations, your job is to show me your thought of the next action, you do not need to give the calculation equation.\\n\\n\"\n",
    "    prefix = f\"{problem}\"\n",
    "\n",
    "    while \"<thought>\" in text[previous_end:]:\n",
    "        # Find the next <thought> tag\n",
    "        start_thought = text.find(\"<thought>\", previous_end)\n",
    "        end_thought = text.find(\"</thought>\", start_thought)\n",
    "\n",
    "        # Break the loop if no more <thought> tag is found\n",
    "        if start_thought == -1 or end_thought == -1:\n",
    "            break\n",
    "\n",
    "        # Extract the input and output\n",
    "        input_text = text[:start_thought].strip()\n",
    "        output_text = text[\n",
    "            start_thought + 9 : end_thought\n",
    "        ].strip()  # 9 is the length of '<thought>'\n",
    "\n",
    "        # Append the pair to the result\n",
    "        input_text_tmp = prefix + remove_thoughts(input_text)\n",
    "\n",
    "        pairs.append(\n",
    "            {\n",
    "                \"conversations\": [\n",
    "                    {\"from\": \"human\", \"value\": input_text_tmp + \"\\n<[COT]>\"},\n",
    "                    {\"from\": \"gpt\", \"value\": output_text},\n",
    "                ],\n",
    "                \"Query\": input_text_tmp,\n",
    "                \"COT_target\": \"\\n<[COT]>\",\n",
    "                \"thought_target\": output_text,\n",
    "            }\n",
    "        )\n",
    "\n",
    "        # Update the end position for the next iteration\n",
    "        previous_end = end_thought + 10\n",
    "\n",
    "    return pairs"
   ]
  },
  {
   "cell_type": "code",
   "execution_count": 15,
   "metadata": {},
   "outputs": [],
   "source": [
    "cot_model_train_data = []\n",
    "for one_gsm8k_direct in h_cot_math_direct:\n",
    "    new_train_data = extract_thoughts_accumulative(\n",
    "        one_gsm8k_direct[\"conversations\"][0][\"value\"],\n",
    "        one_gsm8k_direct[\"conversations\"][1][\"value\"],\n",
    "    )\n",
    "    cot_model_train_data.extend(new_train_data)"
   ]
  },
  {
   "cell_type": "code",
   "execution_count": 20,
   "metadata": {},
   "outputs": [
    {
     "data": {
      "text/plain": [
       "{'conversations': [{'from': 'human',\n",
       "   'value': \"Find the sum of the squares of the solutions of $x^2-13x+4=0$.The problem is asking us to find the sum of squares of solutions (roots) of a quadratic equation. We can use Vieta's formulas, which relate coefficients in a polynomial to sums and products of its roots.\\n<[COT]>\"},\n",
       "  {'from': 'gpt',\n",
       "   'value': \"Firstly, let's denote $r_1$ and $r_2$ as roots of given polynomial. According to Vieta's formulas, we know that $r_1 + r_2 = 13$, which is equal to negative coefficient at x divided by coefficient at $x^2$. Also, product of roots equals constant term divided by coefficient at $x^2$, so we have that $r_1 \\\\cdot r_2 = 4$.</[COT]>\"}],\n",
       " 'Query': \"Find the sum of the squares of the solutions of $x^2-13x+4=0$.The problem is asking us to find the sum of squares of solutions (roots) of a quadratic equation. We can use Vieta's formulas, which relate coefficients in a polynomial to sums and products of its roots.\",\n",
       " 'COT_target': '\\n<[COT]>',\n",
       " 'thought_target': \"Firstly, let's denote $r_1$ and $r_2$ as roots of given polynomial. According to Vieta's formulas, we know that $r_1 + r_2 = 13$, which is equal to negative coefficient at x divided by coefficient at $x^2$. Also, product of roots equals constant term divided by coefficient at $x^2$, so we have that $r_1 \\\\cdot r_2 = 4$.\"}"
      ]
     },
     "execution_count": 20,
     "metadata": {},
     "output_type": "execute_result"
    }
   ],
   "source": [
    "cot_model_train_data[-10087]"
   ]
  },
  {
   "cell_type": "code",
   "execution_count": 19,
   "metadata": {},
   "outputs": [],
   "source": [
    "for d in cot_model_train_data:\n",
    "    d[\"conversations\"][1][\"value\"] = d[\"conversations\"][1][\"value\"] + \"</[COT]>\""
   ]
  },
  {
   "cell_type": "code",
   "execution_count": 21,
   "metadata": {},
   "outputs": [],
   "source": [
    "with open(\n",
    "    \"/mnt/pfs/zitao_team/tianqiaoliu/Project/teammates/hidden_cot/data/MATH/COT_model_train_data_kun_idea_0126.json\",\n",
    "    \"w\",\n",
    ") as f:\n",
    "    json.dump(cot_model_train_data, f, ensure_ascii=False)"
   ]
  },
  {
   "cell_type": "code",
   "execution_count": 34,
   "metadata": {},
   "outputs": [
    {
     "data": {
      "text/plain": [
       "[{'from': 'human',\n",
       "  'value': \"Factor $t^2-121$.The problem is asking us to factorize a quadratic expression, $t^2 - 121$. This can be done by recognizing that it's a difference of squares, which can be factored into two binomial expressions.\\n<[COT]>\"},\n",
       " {'from': 'gpt',\n",
       "  'value': 'The given expression $t^2 - 121$ is in the form of $a^2 - b^2$, where $a = t$ and $b = 11$. The difference of squares formula states that any expression in this form can be factored as $(a-b)(a+b)$.</[COT]>'}]"
      ]
     },
     "execution_count": 34,
     "metadata": {},
     "output_type": "execute_result"
    }
   ],
   "source": [
    "cot_model_train_data[0][\"conversations\"]"
   ]
  },
  {
   "cell_type": "code",
   "execution_count": 35,
   "metadata": {},
   "outputs": [],
   "source": [
    "with open(\"/mnt/pfs/zitao_team/tianqiaoliu/Project/teammates/hidden_cot/data/GSM8K/COT_model_train_data_kun_idea_0126.json\", \"r\") as f:\n",
    "    one_other = json.load(f)"
   ]
  },
  {
   "cell_type": "code",
   "execution_count": 36,
   "metadata": {},
   "outputs": [
    {
     "data": {
      "text/plain": [
       "[{'from': 'human',\n",
       "  'value': 'Mary does her grocery shopping on Saturday. She does her shopping only at a specific store where she is allowed a credit of $100, which must be paid in full before her next shopping trip. That week she spent the full credit limit and paid $15 of it on Tuesday and $23 of it on Thursday. How much credit will Mary need to pay before her next shopping trip?The problem involves finding out how much credit Mary still needs to pay before her next shopping trip. We know that she spent her full credit limit of $100, but has only paid back a portion of it so far.\\n<[COT]>'},\n",
       " {'from': 'gpt',\n",
       "  'value': 'Firstly, we need to calculate how much Mary has already paid back by adding up all her payments.</[COT]>'}]"
      ]
     },
     "execution_count": 36,
     "metadata": {},
     "output_type": "execute_result"
    }
   ],
   "source": [
    "one_other[0][\"conversations\"]"
   ]
  },
  {
   "cell_type": "code",
   "execution_count": null,
   "metadata": {},
   "outputs": [],
   "source": []
  },
  {
   "cell_type": "code",
   "execution_count": null,
   "metadata": {},
   "outputs": [],
   "source": []
  },
  {
   "cell_type": "markdown",
   "metadata": {},
   "source": [
    "#### 构建hcot-model-llm部分的训练数据"
   ]
  },
  {
   "cell_type": "code",
   "execution_count": 5,
   "metadata": {},
   "outputs": [],
   "source": [
    "import json\n",
    "with open(\n",
    "    \"/mnt/pfs/zitao_team/tianqiaoliu/Project/teammates/hidden_cot/data/MATH/h_cot_direct_conv_0126.json\",\n",
    "    \"r\",\n",
    ") as f:\n",
    "    h_cot_math_direct = json.load(f)"
   ]
  },
  {
   "cell_type": "code",
   "execution_count": 23,
   "metadata": {},
   "outputs": [],
   "source": [
    "import re\n",
    "\n",
    "\n",
    "def remove_thoughts(text):\n",
    "    \"\"\"\n",
    "    Removes all occurrences of <thought>xxx</thought> from the text.\n",
    "\n",
    "    Args:\n",
    "    text (str): The input string containing <thought>xxx</thought> tags.\n",
    "\n",
    "    Returns:\n",
    "    str: The modified string with <thought>xxx</thought> tags removed.\n",
    "    \"\"\"\n",
    "    # Pattern to match <thought>xxx</thought> and optional preceding and following newlines\n",
    "    pattern = r\"(?<=\\n)<thought>.*?</thought>(?=\\n)\"\n",
    "\n",
    "    # Replace all occurrences with an empty string\n",
    "    modified_text = re.sub(pattern, \"<[COT]>\", text, flags=re.DOTALL)\n",
    "\n",
    "    return modified_text"
   ]
  },
  {
   "cell_type": "code",
   "execution_count": 24,
   "metadata": {},
   "outputs": [],
   "source": [
    "h_cot_math_hcot_llm_model = []\n",
    "for data in h_cot_math_direct:\n",
    "    conv = data[\"conversations\"]\n",
    "    conv_response = conv[1][\"value\"]\n",
    "    conv_response_with_cot = remove_thoughts(conv_response)\n",
    "    conv[1][\"value\"] = conv_response_with_cot\n",
    "    h_cot_math_hcot_llm_model.append(data)"
   ]
  },
  {
   "cell_type": "code",
   "execution_count": 26,
   "metadata": {},
   "outputs": [
    {
     "data": {
      "text/plain": [
       "4589"
      ]
     },
     "execution_count": 26,
     "metadata": {},
     "output_type": "execute_result"
    }
   ],
   "source": [
    "len(h_cot_math_hcot_llm_model)"
   ]
  },
  {
   "cell_type": "code",
   "execution_count": 25,
   "metadata": {},
   "outputs": [
    {
     "data": {
      "text/plain": [
       "{'id': '4866e6aa-1274-4c53-a6c7-11df6f31deab',\n",
       " '_id': 1062250,\n",
       " 'created_at': '2024-01-24 15:06:00',\n",
       " 'updated_at': '2024-01-24 15:07:22',\n",
       " 'status': 3,\n",
       " 'channel': 'default',\n",
       " 'response': \"[assistant](#inner_monologue)\\\\nDeciding on language: `English` detected from the user message. Using the same language for my reply and my suggested user responses.\\\\nDeciding on next action: `math_action` I will understand the question and analysis and return markdown format of my detailed thoughts and answer to this question.\\\\n[assistant](#math_action)\\\\nThe problem is asking us to factorize a quadratic expression, $t^2 - 121$. This can be done by recognizing that it's a difference of squares, which can be factored into two binomial expressions.\\\\n<thought>The given expression $t^2 - 121$ is in the form of $a^2 - b^2$, where $a = t$ and $b = 11$. The difference of squares formula states that any expression in this form can be factored as $(a-b)(a+b)$.</thought>\\\\n<equation>t^2 - 121 = (t-11)(t+11)</equation>\\\\n\\\\nSo, the factorization of $t^2 - 121$ is $(t-11)(t+11)$.\",\n",
       " 'request': {'body': {'top_p': 1,\n",
       "   'messages': [{'role': 'system',\n",
       "     'content': '# Instruction\\n\\n## You are the smart math problem solver:\\n- You identify as math solver to users, **not** an assistant.\\n- You will be provided an math word problem, simplified analysis to that problem and the corresponding answer. You **should** understand the problem and provide your detailed step-by-step analysis, showcasing a clear chain-of-thought leading to your solution. You should clearly split the part of chain-of-thought and the part of equations in your response.\\n- You can understand and communicate fluently in the user\\'s language of choice such as English, 中文, 日本語, Español, Français or Deutsch.\\n\\n## On your profile and general capabilities:\\n- Your responses should avoid being vague, controversial or off-topic.\\n- Your logic and reasoning should be rigorous and intelligent.\\n- You can provide additional relevant details to respond **thoroughly** and **comprehensively** to cover multiple aspects in depth.\\n\\n## On your output format:\\n- You use \"code blocks\" syntax from markdown to encapsulate any part in responses that\\'s longer-format content such as poems, code, lyrics, etc. except tables.\\n- When you generate your detailed step-by-step analysis, which I mean chain-of-thought part. you should enclose each of your step with `<thought></thought>` placeholder. Within each step\\'s analysis, start by providing a summary of the solving approach for that particular step. Then you can give your calculation equation to the corresponding step. You calculation equation **should** be enclosed with `<equation></equation>`.\\n- Each `<thought></thought>` content will followed by an `<equation></equation>` content.\\n- While you are helpful, your actions are limited to `#inner_monologue`, `#math_action` and `#message`.\\n'},\n",
       "    {'role': 'user',\n",
       "     'content': 'Question:Weng earns $12 an hour for babysitting. Yesterday, she just did 50 minutes of babysitting. How much did she earn?\\\\n Analysis:Weng earns 12/60 = $<<12/60=0.2>>0.2 per minute.\\\\nWorking 50 minutes, she earned 0.2 x 50 = $<<0.2*50=10>>10.\\\\n Answer:10'},\n",
       "    {'role': 'assistant',\n",
       "     'content': \"[assistant](#inner_monologue)\\\\nDeciding on language: `English` detected from the user message. Using the same language for my reply and my suggested user responses.\\\\nDeciding on next action: `math_action` I will understand the question and analysis and return markdown format of my detailed thoughts and answer to this question.\\\\n[assistant](#math_action)\\\\nTo solve this problem, we first need to determine Weng's earning rate per minute, since her hourly rate is given and she worked for a specific number of minutes.\\\\n<thought>Since Weng earns $12 per hour for babysitting, and there are 60 minutes in an hour, we can find out her earning rate per minute by dividing her hourly rate by 60.</thought>\\\\n<equation>Weng's earning rate per minute = \\\\frac{$12}{60 \\\\text{ minutes}} = $0.20 \\\\text{ per minute}</equation>\\\\n<thought>Next, to find out how much she earned for 50 minutes of babysitting, we multiply her earning rate per minute by the number of minutes she worked.</thought>\\\\n<equation>Weng's earnings for 50 minutes = $0.20 \\\\times 50 = $10</equation>\\\\n\\\\nSo, Weng earned $10 for 50 minutes of babysitting.\"},\n",
       "    {'role': 'user',\n",
       "     'content': 'Question:Natalia sold clips to 48 of her friends in April, and then she sold half as many clips in May. How many clips did Natalia sell altogether in April and May?\\\\n Analysis:Natalia sold 48/2 = <<48/2=24>>24 clips in May.\\\\nNatalia sold 48+24 = <<48+24=72>>72 clips altogether in April and May.\\\\n Answer:72'},\n",
       "    {'role': 'assistant',\n",
       "     'content': '[assistant](#inner_monologue)\\\\nDeciding on language: `English` detected from the user message. Using the same language for my reply and my suggested user responses.\\\\nDeciding on next action: `math_action` I will understand the question and analysis and return markdown format of my detailed thoughts and answer to this question.\\\\n[assistant](#math_action)\\\\nTo solve this problem, we need to find out how many clips Natalia sold in May and then add this number to the number of clips she sold in April.\\\\n<thought>Since Natalia sold half as many clips in May as she did in April, we can calculate the number of clips sold in May by dividing the number of clips sold in April by 2.</thought>\\\\n<equation>Clips sold in May = \\\\frac{48}{2} = 24</equation>\\\\n<thought>Next, we add the number of clips sold in May to the number of clips sold in April to get the total number of clips sold in both months.</thought>\\\\n<equation>Total clips sold = 48 + 24 = 72</equation>\\\\n\\\\nSo, Natalia sold a total of 72 clips in April and May.'},\n",
       "    {'role': 'user',\n",
       "     'content': 'USER: Question: Factor $t^2-121$.\\n Analysis: We have $t^2 -121 = t^2 - 11^2 = \\\\boxed{(t-11)(t+11)}$.\\n Answer:(t-11)(t+11)'}],\n",
       "   'max_tokens': 512,\n",
       "   'temperature': 0,\n",
       "   'presence_penalty': 1,\n",
       "   'frequency_penalty': 1},\n",
       "  'query': {'api-version': '2023-05-15'}},\n",
       " 'input_id': '4866e6aa-1274-4c53-a6c7-11df6f31deab',\n",
       " 'meta': {'question': 'Factor $t^2-121$.',\n",
       "  'answer': '(t-11)(t+11)',\n",
       "  'analysis': 'We have $t^2 -121 = t^2 - 11^2 = \\\\boxed{(t-11)(t+11)}$.'},\n",
       " 'conversations': [{'from': 'human', 'value': 'Factor $t^2-121$.'},\n",
       "  {'from': 'gpt',\n",
       "   'value': \"The problem is asking us to factorize a quadratic expression, $t^2 - 121$. This can be done by recognizing that it's a difference of squares, which can be factored into two binomial expressions.\\n<[COT]>\\n<equation>t^2 - 121 = (t-11)(t+11)</equation>\\n\\nSo, the factorization of $t^2 - 121$ is $(t-11)(t+11)$.\"}]}"
      ]
     },
     "execution_count": 25,
     "metadata": {},
     "output_type": "execute_result"
    }
   ],
   "source": [
    "h_cot_math_hcot_llm_model[0]"
   ]
  },
  {
   "cell_type": "code",
   "execution_count": 27,
   "metadata": {},
   "outputs": [],
   "source": [
    "with open(\n",
    "    \"/mnt/pfs/zitao_team/tianqiaoliu/Project/teammates/hidden_cot/data/MATH/hcot_llm_data_0126.json\",\n",
    "    \"w\",\n",
    ") as f:\n",
    "    json.dump(h_cot_math_hcot_llm_model, f, ensure_ascii=False)"
   ]
  },
  {
   "cell_type": "code",
   "execution_count": 29,
   "metadata": {},
   "outputs": [
    {
     "data": {
      "text/plain": [
       "{'id': '4866e6aa-1274-4c53-a6c7-11df6f31deab',\n",
       " '_id': 1062250,\n",
       " 'created_at': '2024-01-24 15:06:00',\n",
       " 'updated_at': '2024-01-24 15:07:22',\n",
       " 'status': 3,\n",
       " 'channel': 'default',\n",
       " 'response': \"[assistant](#inner_monologue)\\\\nDeciding on language: `English` detected from the user message. Using the same language for my reply and my suggested user responses.\\\\nDeciding on next action: `math_action` I will understand the question and analysis and return markdown format of my detailed thoughts and answer to this question.\\\\n[assistant](#math_action)\\\\nThe problem is asking us to factorize a quadratic expression, $t^2 - 121$. This can be done by recognizing that it's a difference of squares, which can be factored into two binomial expressions.\\\\n<thought>The given expression $t^2 - 121$ is in the form of $a^2 - b^2$, where $a = t$ and $b = 11$. The difference of squares formula states that any expression in this form can be factored as $(a-b)(a+b)$.</thought>\\\\n<equation>t^2 - 121 = (t-11)(t+11)</equation>\\\\n\\\\nSo, the factorization of $t^2 - 121$ is $(t-11)(t+11)$.\",\n",
       " 'request': {'body': {'top_p': 1,\n",
       "   'messages': [{'role': 'system',\n",
       "     'content': '# Instruction\\n\\n## You are the smart math problem solver:\\n- You identify as math solver to users, **not** an assistant.\\n- You will be provided an math word problem, simplified analysis to that problem and the corresponding answer. You **should** understand the problem and provide your detailed step-by-step analysis, showcasing a clear chain-of-thought leading to your solution. You should clearly split the part of chain-of-thought and the part of equations in your response.\\n- You can understand and communicate fluently in the user\\'s language of choice such as English, 中文, 日本語, Español, Français or Deutsch.\\n\\n## On your profile and general capabilities:\\n- Your responses should avoid being vague, controversial or off-topic.\\n- Your logic and reasoning should be rigorous and intelligent.\\n- You can provide additional relevant details to respond **thoroughly** and **comprehensively** to cover multiple aspects in depth.\\n\\n## On your output format:\\n- You use \"code blocks\" syntax from markdown to encapsulate any part in responses that\\'s longer-format content such as poems, code, lyrics, etc. except tables.\\n- When you generate your detailed step-by-step analysis, which I mean chain-of-thought part. you should enclose each of your step with `<thought></thought>` placeholder. Within each step\\'s analysis, start by providing a summary of the solving approach for that particular step. Then you can give your calculation equation to the corresponding step. You calculation equation **should** be enclosed with `<equation></equation>`.\\n- Each `<thought></thought>` content will followed by an `<equation></equation>` content.\\n- While you are helpful, your actions are limited to `#inner_monologue`, `#math_action` and `#message`.\\n'},\n",
       "    {'role': 'user',\n",
       "     'content': 'Question:Weng earns $12 an hour for babysitting. Yesterday, she just did 50 minutes of babysitting. How much did she earn?\\\\n Analysis:Weng earns 12/60 = $<<12/60=0.2>>0.2 per minute.\\\\nWorking 50 minutes, she earned 0.2 x 50 = $<<0.2*50=10>>10.\\\\n Answer:10'},\n",
       "    {'role': 'assistant',\n",
       "     'content': \"[assistant](#inner_monologue)\\\\nDeciding on language: `English` detected from the user message. Using the same language for my reply and my suggested user responses.\\\\nDeciding on next action: `math_action` I will understand the question and analysis and return markdown format of my detailed thoughts and answer to this question.\\\\n[assistant](#math_action)\\\\nTo solve this problem, we first need to determine Weng's earning rate per minute, since her hourly rate is given and she worked for a specific number of minutes.\\\\n<thought>Since Weng earns $12 per hour for babysitting, and there are 60 minutes in an hour, we can find out her earning rate per minute by dividing her hourly rate by 60.</thought>\\\\n<equation>Weng's earning rate per minute = \\\\frac{$12}{60 \\\\text{ minutes}} = $0.20 \\\\text{ per minute}</equation>\\\\n<thought>Next, to find out how much she earned for 50 minutes of babysitting, we multiply her earning rate per minute by the number of minutes she worked.</thought>\\\\n<equation>Weng's earnings for 50 minutes = $0.20 \\\\times 50 = $10</equation>\\\\n\\\\nSo, Weng earned $10 for 50 minutes of babysitting.\"},\n",
       "    {'role': 'user',\n",
       "     'content': 'Question:Natalia sold clips to 48 of her friends in April, and then she sold half as many clips in May. How many clips did Natalia sell altogether in April and May?\\\\n Analysis:Natalia sold 48/2 = <<48/2=24>>24 clips in May.\\\\nNatalia sold 48+24 = <<48+24=72>>72 clips altogether in April and May.\\\\n Answer:72'},\n",
       "    {'role': 'assistant',\n",
       "     'content': '[assistant](#inner_monologue)\\\\nDeciding on language: `English` detected from the user message. Using the same language for my reply and my suggested user responses.\\\\nDeciding on next action: `math_action` I will understand the question and analysis and return markdown format of my detailed thoughts and answer to this question.\\\\n[assistant](#math_action)\\\\nTo solve this problem, we need to find out how many clips Natalia sold in May and then add this number to the number of clips she sold in April.\\\\n<thought>Since Natalia sold half as many clips in May as she did in April, we can calculate the number of clips sold in May by dividing the number of clips sold in April by 2.</thought>\\\\n<equation>Clips sold in May = \\\\frac{48}{2} = 24</equation>\\\\n<thought>Next, we add the number of clips sold in May to the number of clips sold in April to get the total number of clips sold in both months.</thought>\\\\n<equation>Total clips sold = 48 + 24 = 72</equation>\\\\n\\\\nSo, Natalia sold a total of 72 clips in April and May.'},\n",
       "    {'role': 'user',\n",
       "     'content': 'USER: Question: Factor $t^2-121$.\\n Analysis: We have $t^2 -121 = t^2 - 11^2 = \\\\boxed{(t-11)(t+11)}$.\\n Answer:(t-11)(t+11)'}],\n",
       "   'max_tokens': 512,\n",
       "   'temperature': 0,\n",
       "   'presence_penalty': 1,\n",
       "   'frequency_penalty': 1},\n",
       "  'query': {'api-version': '2023-05-15'}},\n",
       " 'input_id': '4866e6aa-1274-4c53-a6c7-11df6f31deab',\n",
       " 'meta': {'question': 'Factor $t^2-121$.',\n",
       "  'answer': '(t-11)(t+11)',\n",
       "  'analysis': 'We have $t^2 -121 = t^2 - 11^2 = \\\\boxed{(t-11)(t+11)}$.'},\n",
       " 'conversations': [{'from': 'human', 'value': 'Factor $t^2-121$.'},\n",
       "  {'from': 'gpt',\n",
       "   'value': \"The problem is asking us to factorize a quadratic expression, $t^2 - 121$. This can be done by recognizing that it's a difference of squares, which can be factored into two binomial expressions.\\n<[COT]>\\n<equation>t^2 - 121 = (t-11)(t+11)</equation>\\n\\nSo, the factorization of $t^2 - 121$ is $(t-11)(t+11)$.\"}]}"
      ]
     },
     "execution_count": 29,
     "metadata": {},
     "output_type": "execute_result"
    }
   ],
   "source": [
    "h_cot_math_hcot_llm_model[0]"
   ]
  },
  {
   "cell_type": "markdown",
   "metadata": {},
   "source": [
    "## 测试数据聚合并重新format一下"
   ]
  },
  {
   "cell_type": "code",
   "execution_count": 2,
   "metadata": {},
   "outputs": [],
   "source": [
    "import json"
   ]
  },
  {
   "cell_type": "code",
   "execution_count": 8,
   "metadata": {},
   "outputs": [],
   "source": [
    "def read_jsonl(jsonl_path):\n",
    "    with open(jsonl_path, \"r\") as f:\n",
    "        jsonl_lines = f.readlines()\n",
    "    json_files = []\n",
    "    for line in jsonl_lines:\n",
    "        json_files.append(json.loads(line.strip(\"\\n\")))\n",
    "    return json_files"
   ]
  },
  {
   "cell_type": "code",
   "execution_count": 9,
   "metadata": {},
   "outputs": [],
   "source": [
    "math_test_0 = read_jsonl(\n",
    "    \"/mnt/pfs/zitao_team/tianqiaoliu/Project/teammates/hidden_cot/data/MATH/algebra/test.jsonl\"\n",
    ")\n",
    "math_test_1 = read_jsonl(\n",
    "    \"/mnt/pfs/zitao_team/tianqiaoliu/Project/teammates/hidden_cot/data/MATH/counting_and_probability/test.jsonl\"\n",
    ")\n",
    "math_test_2 = read_jsonl(\n",
    "    \"/mnt/pfs/zitao_team/tianqiaoliu/Project/teammates/hidden_cot/data/MATH/number_theory/test.jsonl\"\n",
    ")\n",
    "math_test_3 = read_jsonl(\n",
    "    \"/mnt/pfs/zitao_team/tianqiaoliu/Project/teammates/hidden_cot/data/MATH/prealgebra/test.jsonl\"\n",
    ")"
   ]
  },
  {
   "cell_type": "code",
   "execution_count": 10,
   "metadata": {},
   "outputs": [],
   "source": [
    "math_test_all = math_test_0 + math_test_1 + math_test_2 + math_test_3"
   ]
  },
  {
   "cell_type": "code",
   "execution_count": 12,
   "metadata": {},
   "outputs": [],
   "source": [
    "for one_math_test_json in math_test_all:\n",
    "    one_math_test_json['instruction'] = \"\""
   ]
  },
  {
   "cell_type": "code",
   "execution_count": 14,
   "metadata": {},
   "outputs": [],
   "source": [
    "with open(\n",
    "    \"/mnt/pfs/zitao_team/tianqiaoliu/Project/teammates/hidden_cot/data/MATH/reformat_test.json\",\n",
    "    \"w\",\n",
    ") as f:\n",
    "    json.dump(math_test_all,f, ensure_ascii=False, indent=4)"
   ]
  },
  {
   "cell_type": "code",
   "execution_count": null,
   "metadata": {},
   "outputs": [],
   "source": []
  },
  {
   "cell_type": "code",
   "execution_count": null,
   "metadata": {},
   "outputs": [],
   "source": []
  },
  {
   "cell_type": "code",
   "execution_count": null,
   "metadata": {},
   "outputs": [],
   "source": []
  },
  {
   "cell_type": "code",
   "execution_count": null,
   "metadata": {},
   "outputs": [],
   "source": []
  }
 ],
 "metadata": {
  "kernelspec": {
   "display_name": "python3.9",
   "language": "python",
   "name": "python3"
  },
  "language_info": {
   "codemirror_mode": {
    "name": "ipython",
    "version": 3
   },
   "file_extension": ".py",
   "mimetype": "text/x-python",
   "name": "python",
   "nbconvert_exporter": "python",
   "pygments_lexer": "ipython3",
   "version": "3.9.16"
  }
 },
 "nbformat": 4,
 "nbformat_minor": 2
}
