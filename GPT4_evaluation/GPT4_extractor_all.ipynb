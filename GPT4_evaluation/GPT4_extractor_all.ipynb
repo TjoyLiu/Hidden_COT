{
 "cells": [
  {
   "cell_type": "code",
   "execution_count": 3,
   "metadata": {},
   "outputs": [],
   "source": [
    "import time\n",
    "from call_gpt import *\n",
    "from pprint import pprint\n",
    "import glob\n",
    "\n",
    "engine = \"magic:1000080133:5a692de393b437bf98c6c3f36d273499\""
   ]
  },
  {
   "cell_type": "code",
   "execution_count": 2,
   "metadata": {},
   "outputs": [],
   "source": [
    "import os"
   ]
  },
  {
   "cell_type": "code",
   "execution_count": 5,
   "metadata": {},
   "outputs": [],
   "source": [
    "model_name = \"llama2-7B-math-domain-normal-cot-0128\"\n",
    "data_name = \"GSM8K\"\n",
    "result_dir = \"/mnt/pfs/zitao_team/tianqiaoliu/Project/teammates/hidden_cot/prediction\"\n",
    "ckpt_num = \"checkpoint-60\"\n",
    "debug = False\n",
    "\n",
    "output_dir = result_dir\n",
    "model_name, data_name = model_name, data_name\n",
    "\n",
    "\n",
    "# in data name I have checkpoint num\n",
    "this_model_data_save_dir = os.path.join(output_dir, model_name, data_name)\n",
    "\n",
    "ckpt_result_folder = os.path.join(this_model_data_save_dir, ckpt_num)\n",
    "all_json_files = glob.glob(os.path.join(ckpt_result_folder, \"*.json\"))"
   ]
  },
  {
   "cell_type": "code",
   "execution_count": 9,
   "metadata": {},
   "outputs": [],
   "source": [
    "all_current_tasks = []\n",
    "for one_json_file in all_json_files:\n",
    "    with open(one_json_file, \"r\") as f:\n",
    "        one_json_content = f.readlines()\n",
    "    one_json_content = [json.loads(x) for x in one_json_content]\n",
    "    all_current_tasks.extend(one_json_content)"
   ]
  },
  {
   "cell_type": "code",
   "execution_count": 10,
   "metadata": {},
   "outputs": [
    {
     "data": {
      "text/plain": [
       "1319"
      ]
     },
     "execution_count": 10,
     "metadata": {},
     "output_type": "execute_result"
    }
   ],
   "source": [
    "len(all_current_tasks)"
   ]
  },
  {
   "cell_type": "code",
   "execution_count": 23,
   "metadata": {},
   "outputs": [],
   "source": [
    "def load_prompts(path):\n",
    "    with open(path, \"r\", encoding=\"utf8\") as f:\n",
    "        return \"\".join(f.readlines())\n",
    "\n",
    "\n",
    "def process_files(prompt_dir, keep_examples, system_input_md_path):\n",
    "    system_input = load_prompts(system_input_md_path)\n",
    "    if len(keep_examples) == 0:\n",
    "        keep_examples = [\n",
    "            x for x in os.listdir(prompt_dir) if \"example\" in x and x[0] != \".\"\n",
    "        ]\n",
    "\n",
    "    example_files = []\n",
    "    for fname in keep_examples:\n",
    "        file_path = os.path.join(prompt_dir, fname)\n",
    "        example_files.append(file_path)\n",
    "        # api_list.extend(extract_actions_from_path(file_path))\n",
    "    example_files = [x for x in example_files if \"examples0.md\" in x]\n",
    "    examples_input = []\n",
    "    for example_file in example_files:\n",
    "        with open(example_file, \"r\") as f:\n",
    "            example_lines = f.readlines()\n",
    "        for example_line in example_lines:\n",
    "            if example_line.startswith(\"USER\"):\n",
    "                example_line_user = example_line.strip(\"\\n\").replace(\"USER: \", \"\")\n",
    "                examples_input.append({\"role\": \"user\", \"content\": example_line_user})\n",
    "            elif example_line.startswith(\"ASSISTANT\"):\n",
    "                example_line_user = example_line.strip(\"\\n\").replace(\"ASSISTANT: \", \"\")\n",
    "                examples_input.append(\n",
    "                    {\"role\": \"assistant\", \"content\": example_line_user}\n",
    "                )\n",
    "\n",
    "    return system_input, examples_input\n",
    "\n",
    "\n",
    "def build_user_query(question, analysis):\n",
    "    analysis = analysis.split(\"\\n\\n\\n\")[0]\n",
    "    return \"USER:{}\\n\\n模型生成的解析: {}\".format(question, analysis)\n",
    "\n",
    "\n",
    "prompt_dir = \"/mnt/pfs/zitao_team/tianqiaoliu/mathEval_data_check/matheval-lck/prompt\"\n",
    "system_input_info = \"/mnt/pfs/zitao_team/tianqiaoliu/mathEval_data_check/matheval-lck/prompt/instruction.md\"\n",
    "system_input_global, examples_input_global = process_files(\n",
    "    prompt_dir, [], system_input_info\n",
    ")\n",
    "\n",
    "\n",
    "def build_input_data(row):\n",
    "    \"\"\"\n",
    "    根据给定的数据集行，构建输入数据。\n",
    "    \"\"\"\n",
    "    # idx, row = row\n",
    "    # query = row.to_json()\n",
    "    row_content = row\n",
    "\n",
    "    user_query = build_user_query(\n",
    "        row_content[\"input\"],\n",
    "        row_content[\"response\"],\n",
    "    )\n",
    "    # gpt4\n",
    "    data = {\n",
    "        \"system\": system_input_global,\n",
    "        \"examples\": examples_input_global,\n",
    "        \"question\": user_query,\n",
    "        \"temperature\": 0,\n",
    "        \"frequency_penalty\": 1,\n",
    "        \"presence_penalty\": 1,\n",
    "        \"return_when_finished\": False,\n",
    "        \"engine\": \"magic:1000080133:5a692de393b437bf98c6c3f36d273499\",\n",
    "        \"max_tokens\": 256,\n",
    "        \"max_retry\": 20,\n",
    "        \"meta\": row,\n",
    "    }\n",
    "    # # wenxin\n",
    "    # data = {\n",
    "    #     \"message\": query,\n",
    "    # }\n",
    "    # time.sleep(0.3)\n",
    "    return data"
   ]
  },
  {
   "cell_type": "code",
   "execution_count": 24,
   "metadata": {},
   "outputs": [],
   "source": [
    "input_data_gpt4 = []\n",
    "for one_json_content in all_current_tasks:\n",
    "    processed_data = build_input_data(one_json_content)\n",
    "    input_data_gpt4.append(processed_data)"
   ]
  },
  {
   "cell_type": "code",
   "execution_count": 25,
   "metadata": {},
   "outputs": [],
   "source": [
    "one_response = send_chat_request_async(**input_data_gpt4[0])"
   ]
  },
  {
   "cell_type": "code",
   "execution_count": 26,
   "metadata": {},
   "outputs": [
    {
     "data": {
      "text/plain": [
       "{'id': '3452c365-c106-4231-845f-e7bc8fb57631',\n",
       " '_id': 2032862,\n",
       " 'created_at': '2024-01-31 14:34:10',\n",
       " 'updated_at': '2024-01-31 14:34:10',\n",
       " 'status': 1,\n",
       " 'channel': 'default',\n",
       " 'response': None,\n",
       " 'request': {'body': {'messages': [{'role': 'system',\n",
       "     'content': \"# Instruction\\n\\n## You are the wise math word problem answer extractor:\\n\\n- You identify as math word problem answer extractor, **not** an assistant.\\n- You will be provided an math word problem, the corresponding analysis for this math word problem from a generation model. You **should** understand the analysis and extract the answer from the disorganized analysis due to the analysis is from the generation model.\\n- You can understand and communicate fluently in the problem's language of choice such as English, 中文, 日本語, Español, Français or Deutsch.\\n- You **should** not solve the problem by yourself, you only job is to extract the answer from the given analysis.\\n\\n## On your profile and general capabilities:\\n\\n- Your responses should avoid being vague, controversial or off-topic.\\n- Your logic and reasoning should be rigorous and intelligent.\\n\\n## On your output format:\\n- You **should** ensure that the exracted answer aligns precisely with the format presented in the raw analysis.\\n- You **should** enclose the extracted answer with <answer> and </answer>.\\n\\n## Tips for extraction\\n- The analysis may contain some gibberish in the later parts of the text, as we haven't set stop tokens in the generation process. In most cases, the model initially generates a portion of a coherent response (or not) and the real answer, followed by the production of nonsensical or repetitive content as it continues.\\n- When you perform extraction, you can first discern which responses are reasonable and coherent, and then extract the answer  corresponding to the given question from those responses.\\n- If the question is a multiple-choice question, simply return the options, as there might be multiple correct answers.\\n- If no answer given in the generated result, you can return No answer in generation result.\"},\n",
       "    {'role': 'user',\n",
       "     'content': 'USER:问题:以下是一道中国高考数学选择题，请选择正确的答案。\\\\n设集合 $A=\\\\\\\\{x \\\\\\\\mid x \\\\\\\\geq 1\\\\\\\\}, B=\\\\\\\\{x \\\\\\\\mid-1<x<2\\\\\\\\}$, 则 $A \\\\\\\\cap B=$ ($\\\\\\\\quad$)\\\\\\\\\\\\\\\\\\\\n\\\\n(A)$\\\\\\\\{x \\\\\\\\mid x>-1\\\\\\\\}$\\\\n(B)$\\\\\\\\{x \\\\\\\\mid x \\\\\\\\geq 1\\\\\\\\}$\\\\n(C)$\\\\\\\\{x \\\\\\\\mid-1<x<1\\\\\\\\}$\\\\n(D)$\\\\\\\\{x \\\\\\\\mid 1 \\\\\\\\leq x<2\\\\\\\\}$\\\\n答案是：\\\\n\\\\n 模型生成的解析:C\\\\n\\\\n这道题考察的是集合的交集，集合的交集是集合中所有元素都同时属于两个集合的元素。\\\\n\\\\n$A \\\\\\\\cap B=\\\\\\\\{x \\\\\\\\mid x \\\\\\\\geq 1 \\\\\\\\land -1<x<2\\\\\\\\}$\\\\n\\\\n$A \\\\\\\\cap B=\\\\\\\\{x \\\\\\\\mid 1 \\\\\\\\leq x<2\\\\\\\\}$\\\\n\\\\n$A \\\\\\\\cap B=\\\\\\\\{x \\\\\\\\mid x>-1\\\\\\\\}$\\\\n\\\\n$A \\\\\\\\cap B=\\\\\\\\{x \\\\\\\\mid x \\\\\\\\geq 1\\\\\\\\}$\\\\n\\\\n$A \\\\\\\\cap B=\\\\\\\\{x \\\\\\\\mid-1<x<1\\\\\\\\}$\\\\n\\\\n$A \\\\\\\\cap B=\\\\\\\\{x \\\\\\\\mid 1 \\\\\\\\leq x<2\\\\\\\\}$\\\\n\\\\n$A \\\\\\\\cap B=\\\\\\\\{x \\\\\\\\mid x \\\\\\\\geq 1 \\\\\\\\land -1<x<2\\\\\\\\}$\\\\n\\\\n$A \\\\\\\\cap B=\\\\\\\\{x \\\\\\\\mid x \\\\\\\\geq 1 \\\\\\\\land -1<x<2\\\\\\\\}$\\\\n\\\\n$A \\\\\\\\cap B=\\\\\\\\{x \\\\\\\\mid x \\\\\\\\geq 1 \\\\\\\\land -1<x<2\\\\\\\\}$\\\\n\\\\n$A \\\\\\\\cap B=\\\\\\\\{x \\\\\\\\mid x \\\\\\\\geq 1 \\\\\\\\land -1<x<2\\\\\\\\}$\\\\n\\\\n$A \\\\\\\\cap B=\\\\\\\\{x \\\\\\\\mid x \\\\\\\\geq 1 \\\\\\\\land -1<x<2\\\\\\\\}$\\\\n\\\\n$A \\\\\\\\cap B=\\\\\\\\{x \\\\\\\\mid x \\\\\\\\geq 1 \\\\\\\\land -1<x<2\\\\\\\\}$\\\\n\\\\n$A \\\\\\\\cap B=\\\\\\\\{x \\\\\\\\mid x \\\\\\\\geq 1 \\\\\\\\land -1<x<2\\\\\\\\}$\\\\n\\\\n$A \\\\\\\\cap B=\\\\\\\\{x \\\\\\\\mid x \\\\\\\\geq 1 \\\\\\\\land -1<x<2\\\\\\\\}$\\\\n\\\\n$A \\\\\\\\cap B=\\\\\\\\{x \\\\\\\\mid x \\\\\\\\geq 1 \\\\\\\\land -1<x<2\\\\\\\\}$\\\\n\\\\n$A \\\\\\\\cap B=\\\\\\\\{x \\\\\\\\mid x \\\\\\\\geq 1 \\\\\\\\land -1<x<2\\\\\\\\}$\\\\n\\\\n$A \\\\\\\\cap B=\\\\\\\\{x \\\\\\\\mid x \\\\\\\\geq 1 \\\\\\\\land -1<x<2\\\\\\\\}$\\\\n\\\\n$A \\\\\\\\cap B=\\\\\\\\{x \\\\\\\\mid x \\\\\\\\geq 1'},\n",
       "    {'role': 'assistant',\n",
       "     'content': \"[assistant](#inner_monologue)\\\\nBased on the question's format as a multiple-choice question, meticulously analyze the model-generated explanations to extract the options ultimately chosen by the model. And, as requested, enclose the extracted results with <answer> and </answer>.\\\\n[assistant](#extraction)\\\\n<answer>C</answer>\"},\n",
       "    {'role': 'user',\n",
       "     'content': \"USER:Charisma works for 8 hours every day.  She has a timer to remind her to get up and walk for 5 minutes every hour she’s at work.  After 5 days at the office, how many minutes has she walked?\\n\\n模型生成的解析: <s> A chat between a curious user and an artificial intelligence assistant. The assistant gives helpful, detailed, and polite answers to the user's questions. USER: Charisma works for 8 hours every day.  She has a timer to remind her to get up and walk for 5 minutes every hour she’s at work.  After 5 days at the office, how many minutes has she walked? ASSISTANT: The problem involves calculating total minutes walked by Charisma over a period of 5 days, given her work schedule with a 5-minute break every hour. We need to find out how many minutes she walks in an hour, then multiply that by the number of hours she works in a day, and then finally multiply that by the number of days she works.<thought>First, let's find out how long Charisma walks in an hour. From what we know of her routine, we can assume she walks for 5 minutes every hour. So we find out 5 minutes divided by 60 minutes (1 hour) in a workday.</thought><equation>Walking time per hour = \\\\frac{5}{60} = 0.0833 \\\\,\\\\, \\\\text{hours}</equation><thought>Next, we need to calculate how long she works in a typical workday. Charisma works for 8 hours each day. This means we take her hourly walking time and multiply it by 8.</thought><equation>Walking time per day = \\\\frac{0.0833}{60} * 8 = 1.3333 \\\\,\\\\, \\\\text{hours}</equation><thought>Finally, we calculate total time taken for five working days by multiplying her walking time per day with the number of working days.</thought><equation>Total Walking Time = 1.3333*5=6.6666\\\\ text{hours}</equation>So, Charisma spent a total of 6.6666 hours walking over five working days.\\n</s>\"}],\n",
       "   'temperature': 0,\n",
       "   'max_tokens': 256,\n",
       "   'top_p': 1,\n",
       "   'frequency_penalty': 1,\n",
       "   'presence_penalty': 1},\n",
       "  'query': {'api-version': '2023-05-15'}}}"
      ]
     },
     "execution_count": 26,
     "metadata": {},
     "output_type": "execute_result"
    }
   ],
   "source": [
    "one_response"
   ]
  },
  {
   "cell_type": "code",
   "execution_count": 27,
   "metadata": {},
   "outputs": [],
   "source": [
    "with open(\"/mnt/pfs/zitao_team/tianqiaoliu/Project/teammates/hidden_cot/prediction/llama2-7B-math-domain-normal-cot-0128/GSM8K/checkpoint-60.json\", \"r\") as f:\n",
    "    gsm8k_ckpt_60 = json.load(f)"
   ]
  },
  {
   "cell_type": "code",
   "execution_count": 28,
   "metadata": {},
   "outputs": [
    {
     "data": {
      "text/plain": [
       "{'system': \"# Instruction\\n\\n## You are the wise math word problem answer extractor:\\n\\n- You identify as math word problem answer extractor, **not** an assistant.\\n- You will be provided an math word problem, the corresponding analysis for this math word problem from a generation model. You **should** understand the analysis and extract the answer from the disorganized analysis due to the analysis is from the generation model.\\n- You can understand and communicate fluently in the problem's language of choice such as English, 中文, 日本語, Español, Français or Deutsch.\\n- You **should** not solve the problem by yourself, you only job is to extract the answer from the given analysis.\\n\\n## On your profile and general capabilities:\\n\\n- Your responses should avoid being vague, controversial or off-topic.\\n- Your logic and reasoning should be rigorous and intelligent.\\n\\n## On your output format:\\n- You **should** ensure that the exracted answer aligns precisely with the format presented in the raw analysis.\\n- You **should** enclose the extracted answer with <answer> and </answer>.\\n\\n## Tips for extraction\\n- The analysis may contain some gibberish in the later parts of the text, as we haven't set stop tokens in the generation process. In most cases, the model initially generates a portion of a coherent response (or not) and the real answer, followed by the production of nonsensical or repetitive content as it continues.\\n- When you perform extraction, you can first discern which responses are reasonable and coherent, and then extract the answer  corresponding to the given question from those responses.\\n- If the question is a multiple-choice question, simply return the options, as there might be multiple correct answers.\\n- If no answer given in the generated result, you can return No answer in generation result.\",\n",
       " 'examples': [{'role': 'user',\n",
       "   'content': 'USER:问题:以下是一道中国高考数学选择题，请选择正确的答案。\\\\n设集合 $A=\\\\\\\\{x \\\\\\\\mid x \\\\\\\\geq 1\\\\\\\\}, B=\\\\\\\\{x \\\\\\\\mid-1<x<2\\\\\\\\}$, 则 $A \\\\\\\\cap B=$ ($\\\\\\\\quad$)\\\\\\\\\\\\\\\\\\\\n\\\\n(A)$\\\\\\\\{x \\\\\\\\mid x>-1\\\\\\\\}$\\\\n(B)$\\\\\\\\{x \\\\\\\\mid x \\\\\\\\geq 1\\\\\\\\}$\\\\n(C)$\\\\\\\\{x \\\\\\\\mid-1<x<1\\\\\\\\}$\\\\n(D)$\\\\\\\\{x \\\\\\\\mid 1 \\\\\\\\leq x<2\\\\\\\\}$\\\\n答案是：\\\\n\\\\n 模型生成的解析:C\\\\n\\\\n这道题考察的是集合的交集，集合的交集是集合中所有元素都同时属于两个集合的元素。\\\\n\\\\n$A \\\\\\\\cap B=\\\\\\\\{x \\\\\\\\mid x \\\\\\\\geq 1 \\\\\\\\land -1<x<2\\\\\\\\}$\\\\n\\\\n$A \\\\\\\\cap B=\\\\\\\\{x \\\\\\\\mid 1 \\\\\\\\leq x<2\\\\\\\\}$\\\\n\\\\n$A \\\\\\\\cap B=\\\\\\\\{x \\\\\\\\mid x>-1\\\\\\\\}$\\\\n\\\\n$A \\\\\\\\cap B=\\\\\\\\{x \\\\\\\\mid x \\\\\\\\geq 1\\\\\\\\}$\\\\n\\\\n$A \\\\\\\\cap B=\\\\\\\\{x \\\\\\\\mid-1<x<1\\\\\\\\}$\\\\n\\\\n$A \\\\\\\\cap B=\\\\\\\\{x \\\\\\\\mid 1 \\\\\\\\leq x<2\\\\\\\\}$\\\\n\\\\n$A \\\\\\\\cap B=\\\\\\\\{x \\\\\\\\mid x \\\\\\\\geq 1 \\\\\\\\land -1<x<2\\\\\\\\}$\\\\n\\\\n$A \\\\\\\\cap B=\\\\\\\\{x \\\\\\\\mid x \\\\\\\\geq 1 \\\\\\\\land -1<x<2\\\\\\\\}$\\\\n\\\\n$A \\\\\\\\cap B=\\\\\\\\{x \\\\\\\\mid x \\\\\\\\geq 1 \\\\\\\\land -1<x<2\\\\\\\\}$\\\\n\\\\n$A \\\\\\\\cap B=\\\\\\\\{x \\\\\\\\mid x \\\\\\\\geq 1 \\\\\\\\land -1<x<2\\\\\\\\}$\\\\n\\\\n$A \\\\\\\\cap B=\\\\\\\\{x \\\\\\\\mid x \\\\\\\\geq 1 \\\\\\\\land -1<x<2\\\\\\\\}$\\\\n\\\\n$A \\\\\\\\cap B=\\\\\\\\{x \\\\\\\\mid x \\\\\\\\geq 1 \\\\\\\\land -1<x<2\\\\\\\\}$\\\\n\\\\n$A \\\\\\\\cap B=\\\\\\\\{x \\\\\\\\mid x \\\\\\\\geq 1 \\\\\\\\land -1<x<2\\\\\\\\}$\\\\n\\\\n$A \\\\\\\\cap B=\\\\\\\\{x \\\\\\\\mid x \\\\\\\\geq 1 \\\\\\\\land -1<x<2\\\\\\\\}$\\\\n\\\\n$A \\\\\\\\cap B=\\\\\\\\{x \\\\\\\\mid x \\\\\\\\geq 1 \\\\\\\\land -1<x<2\\\\\\\\}$\\\\n\\\\n$A \\\\\\\\cap B=\\\\\\\\{x \\\\\\\\mid x \\\\\\\\geq 1 \\\\\\\\land -1<x<2\\\\\\\\}$\\\\n\\\\n$A \\\\\\\\cap B=\\\\\\\\{x \\\\\\\\mid x \\\\\\\\geq 1 \\\\\\\\land -1<x<2\\\\\\\\}$\\\\n\\\\n$A \\\\\\\\cap B=\\\\\\\\{x \\\\\\\\mid x \\\\\\\\geq 1'},\n",
       "  {'role': 'assistant',\n",
       "   'content': \"[assistant](#inner_monologue)\\\\nBased on the question's format as a multiple-choice question, meticulously analyze the model-generated explanations to extract the options ultimately chosen by the model. And, as requested, enclose the extracted results with <answer> and </answer>.\\\\n[assistant](#extraction)\\\\n<answer>C</answer>\"}],\n",
       " 'question': \"USER:Charisma works for 8 hours every day.  She has a timer to remind her to get up and walk for 5 minutes every hour she’s at work.  After 5 days at the office, how many minutes has she walked?\\n\\n模型生成的解析: <s> A chat between a curious user and an artificial intelligence assistant. The assistant gives helpful, detailed, and polite answers to the user's questions. USER: Charisma works for 8 hours every day.  She has a timer to remind her to get up and walk for 5 minutes every hour she’s at work.  After 5 days at the office, how many minutes has she walked? ASSISTANT: The problem involves calculating total minutes walked by Charisma over a period of 5 days, given her work schedule with a 5-minute break every hour. We need to find out how many minutes she walks in an hour, then multiply that by the number of hours she works in a day, and then finally multiply that by the number of days she works.<thought>First, let's find out how long Charisma walks in an hour. From what we know of her routine, we can assume she walks for 5 minutes every hour. So we find out 5 minutes divided by 60 minutes (1 hour) in a workday.</thought><equation>Walking time per hour = \\\\frac{5}{60} = 0.0833 \\\\,\\\\, \\\\text{hours}</equation><thought>Next, we need to calculate how long she works in a typical workday. Charisma works for 8 hours each day. This means we take her hourly walking time and multiply it by 8.</thought><equation>Walking time per day = \\\\frac{0.0833}{60} * 8 = 1.3333 \\\\,\\\\, \\\\text{hours}</equation><thought>Finally, we calculate total time taken for five working days by multiplying her walking time per day with the number of working days.</thought><equation>Total Walking Time = 1.3333*5=6.6666\\\\ text{hours}</equation>So, Charisma spent a total of 6.6666 hours walking over five working days.\\n</s>\",\n",
       " 'temperature': 0,\n",
       " 'frequency_penalty': 1,\n",
       " 'presence_penalty': 1,\n",
       " 'return_when_finished': False,\n",
       " 'engine': 'magic:1000080133:5a692de393b437bf98c6c3f36d273499',\n",
       " 'max_tokens': 256,\n",
       " 'max_retry': 20,\n",
       " 'meta': {'analysis': 'She works 8 hours every day and she sets a timer to walk 5 minutes every hour for a total of 8*5 = <<8*5=40>>40 minutes of walking\\nIf she walks 40 minutes a day while at the office then over 5 days she walks 40*5 = <<40*5=200>>200 minutes',\n",
       "  'answer': ' 200',\n",
       "  'instruction': '',\n",
       "  'input': 'Charisma works for 8 hours every day.  She has a timer to remind her to get up and walk for 5 minutes every hour she’s at work.  After 5 days at the office, how many minutes has she walked?',\n",
       "  'response': \"<s> A chat between a curious user and an artificial intelligence assistant. The assistant gives helpful, detailed, and polite answers to the user's questions. USER: Charisma works for 8 hours every day.  She has a timer to remind her to get up and walk for 5 minutes every hour she’s at work.  After 5 days at the office, how many minutes has she walked? ASSISTANT: The problem involves calculating total minutes walked by Charisma over a period of 5 days, given her work schedule with a 5-minute break every hour. We need to find out how many minutes she walks in an hour, then multiply that by the number of hours she works in a day, and then finally multiply that by the number of days she works.<thought>First, let's find out how long Charisma walks in an hour. From what we know of her routine, we can assume she walks for 5 minutes every hour. So we find out 5 minutes divided by 60 minutes (1 hour) in a workday.</thought><equation>Walking time per hour = \\\\frac{5}{60} = 0.0833 \\\\,\\\\, \\\\text{hours}</equation><thought>Next, we need to calculate how long she works in a typical workday. Charisma works for 8 hours each day. This means we take her hourly walking time and multiply it by 8.</thought><equation>Walking time per day = \\\\frac{0.0833}{60} * 8 = 1.3333 \\\\,\\\\, \\\\text{hours}</equation><thought>Finally, we calculate total time taken for five working days by multiplying her walking time per day with the number of working days.</thought><equation>Total Walking Time = 1.3333*5=6.6666\\\\ text{hours}</equation>So, Charisma spent a total of 6.6666 hours walking over five working days.\\n</s>\",\n",
       "  'raw_response': {'text': \"<s> A chat between a curious user and an artificial intelligence assistant. The assistant gives helpful, detailed, and polite answers to the user's questions. USER: Charisma works for 8 hours every day.  She has a timer to remind her to get up and walk for 5 minutes every hour she’s at work.  After 5 days at the office, how many minutes has she walked? ASSISTANT: The problem involves calculating total minutes walked by Charisma over a period of 5 days, given her work schedule with a 5-minute break every hour. We need to find out how many minutes she walks in an hour, then multiply that by the number of hours she works in a day, and then finally multiply that by the number of days she works.<thought>First, let's find out how long Charisma walks in an hour. From what we know of her routine, we can assume she walks for 5 minutes every hour. So we find out 5 minutes divided by 60 minutes (1 hour) in a workday.</thought><equation>Walking time per hour = \\\\frac{5}{60} = 0.0833 \\\\,\\\\, \\\\text{hours}</equation><thought>Next, we need to calculate how long she works in a typical workday. Charisma works for 8 hours each day. This means we take her hourly walking time and multiply it by 8.</thought><equation>Walking time per day = \\\\frac{0.0833}{60} * 8 = 1.3333 \\\\,\\\\, \\\\text{hours}</equation><thought>Finally, we calculate total time taken for five working days by multiplying her walking time per day with the number of working days.</thought><equation>Total Walking Time = 1.3333*5=6.6666\\\\ text{hours}</equation>So, Charisma spent a total of 6.6666 hours walking over five working days.\\n</s>\",\n",
       "   'usage': {'prompt_tokens': 92,\n",
       "    'completion_tokens': 340,\n",
       "    'total_tokens': 432},\n",
       "   'finish_reason': 'stop'}},\n",
       " 'search_id': '16438a08-e014-4c23-b1ab-5c791539e468'}"
      ]
     },
     "execution_count": 28,
     "metadata": {},
     "output_type": "execute_result"
    }
   ],
   "source": [
    "gsm8k_ckpt_60[0]"
   ]
  },
  {
   "cell_type": "code",
   "execution_count": null,
   "metadata": {},
   "outputs": [],
   "source": []
  },
  {
   "cell_type": "code",
   "execution_count": null,
   "metadata": {},
   "outputs": [],
   "source": []
  },
  {
   "cell_type": "code",
   "execution_count": null,
   "metadata": {},
   "outputs": [],
   "source": []
  }
 ],
 "metadata": {
  "kernelspec": {
   "display_name": "python3.9",
   "language": "python",
   "name": "python3"
  },
  "language_info": {
   "codemirror_mode": {
    "name": "ipython",
    "version": 3
   },
   "file_extension": ".py",
   "mimetype": "text/x-python",
   "name": "python",
   "nbconvert_exporter": "python",
   "pygments_lexer": "ipython3",
   "version": "3.9.16"
  }
 },
 "nbformat": 4,
 "nbformat_minor": 2
}
