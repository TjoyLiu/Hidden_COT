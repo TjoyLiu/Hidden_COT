{
 "cells": [
  {
   "cell_type": "markdown",
   "metadata": {},
   "source": [
    "### 先清洗一波我的训练数据"
   ]
  },
  {
   "cell_type": "code",
   "execution_count": 1,
   "metadata": {},
   "outputs": [],
   "source": [
    "### 27号我有一波新的训练数据，看看成色。\n",
    "import os, json\n",
    "import re"
   ]
  },
  {
   "cell_type": "code",
   "execution_count": 2,
   "metadata": {},
   "outputs": [],
   "source": [
    "with open(\n",
    "    \"/mnt/pfs/zitao_team/tianqiaoliu/Project/papers/hidden_cot/data/GSM8K/hcot_gsm8k.jsonl\",\n",
    "    \"r\",\n",
    ") as f:\n",
    "    hcot_gsm8k_new = f.readlines()"
   ]
  },
  {
   "cell_type": "code",
   "execution_count": 3,
   "metadata": {},
   "outputs": [
    {
     "data": {
      "text/plain": [
       "'This is a test <equation>xample without proper tag. Here is another \\n</thought> with no end.'"
      ]
     },
     "execution_count": 3,
     "metadata": {},
     "output_type": "execute_result"
    }
   ],
   "source": [
    "def fix_incomplete_tags_v2(text: str) -> str:\n",
    "    tags = [\"thought\", \"equation\"]\n",
    "\n",
    "    for tag in tags:\n",
    "        open_tag = f\"<{tag}>\"\n",
    "        close_tag = f\"</{tag}>\"\n",
    "        incomplete_situation_open_tag_left = f\"<{tag}\"\n",
    "        incomplete_situation_open_tag_right = f\"{tag}>\"\n",
    "        incomplete_situation_close_tag_left = f\"/{tag}>\"\n",
    "        incomplete_situation_close_tag_right = f\"</{tag}\"\n",
    "        text_tmp = text.replace(open_tag, \"&*#$%\")\n",
    "        text_tmp = text_tmp.replace(close_tag, \"@#!$%\")\n",
    "        text_tmp = text_tmp.replace(incomplete_situation_close_tag_left, close_tag)\n",
    "        text_tmp = text_tmp.replace(close_tag, \"@#!$%\")\n",
    "\n",
    "        text_tmp = text_tmp.replace(incomplete_situation_close_tag_right, close_tag)\n",
    "        text_tmp = text_tmp.replace(close_tag, \"@#!$%\")\n",
    "\n",
    "        text_tmp = text_tmp.replace(incomplete_situation_open_tag_left, open_tag)\n",
    "        text_tmp = text_tmp.replace(open_tag, \"&*#$%\")\n",
    "        text_tmp = text_tmp.replace(incomplete_situation_open_tag_right, open_tag)\n",
    "        text_tmp = text_tmp.replace(open_tag, \"&*#$%\")\n",
    "\n",
    "        text_tmp = text_tmp.replace(\"&*#$%\", open_tag)\n",
    "        text_tmp = text_tmp.replace(\"@#!$%\", close_tag)\n",
    "        text = text_tmp\n",
    "    return text\n",
    "\n",
    "\n",
    "# Example usage\n",
    "example_string = \"This is a test equation>xample without proper tag. Here is another \\n/thought> with no end.\"\n",
    "fixed_string = fix_incomplete_tags_v2(example_string)\n",
    "fixed_string"
   ]
  },
  {
   "cell_type": "code",
   "execution_count": 4,
   "metadata": {},
   "outputs": [
    {
     "data": {
      "text/plain": [
       "{'question': 'USER: Question: Mr. Sam shared a certain amount of money between his two sons, Ken and Tony. If Ken got $1750, and Tony got twice as much as Ken, how much was the money shared?\\n Analysis: Tony got twice $1750 which is 2*$1750 = $<<2*1750=3500>>3500\\nThe total amount shared was $1750+$3500 = $<<1750+3500=5250>>5250\\n Answer:5250',\n",
       " 'raw_result': {'id': 'chatcmpl-8SRAP0aNifsGKlamyFXbqSkeQiSKe',\n",
       "  'object': 'chat.completion',\n",
       "  'created': 1701788305,\n",
       "  'model': 'gpt-4',\n",
       "  'choices': [{'index': 0,\n",
       "    'message': {'role': 'assistant',\n",
       "     'content': \"<|im_start|>[assistant](#inner_monologue)\\\\nDeciding on language: `English` detected from the user message. Using the same language for my reply and my suggested user responses.\\\\nDeciding on next action: `math_action` I will understand the question and analysis and return markdown format of my detailed thoughts and answer to this question.\\\\n[assistant](#math_action)\\\\nThe problem involves finding out how much money Mr. Sam shared between his two sons, given that Ken received a certain amount, and Tony received twice as much as Ken.\\\\n<thought>Firstly, since Tony got twice as much money as Ken did, we can find out how much Tony got by multiplying Ken's share by 2.</thought>\\\\n<equation>Tony's share = 2 * $1750 = $3500</equation>\\\\n<thought>Next, to find out the total amount of money shared by Mr. Sam between his two sons, we add up what each son received.</thought>\\\\n<equation>Total amount shared = $1750 (Ken's share) + $3500 (Tony's share) = $5250</equation>\\\\n\\\\nSo, Mr. Sam shared a total of $5250 between his two sons.\"},\n",
       "    'finish_reason': 'stop'}],\n",
       "  'usage': {'prompt_tokens': 1181,\n",
       "   'completion_tokens': 261,\n",
       "   'total_tokens': 1442}},\n",
       " 'success': True,\n",
       " 'response': \"<|im_start|>[assistant](#inner_monologue)\\\\nDeciding on language: `English` detected from the user message. Using the same language for my reply and my suggested user responses.\\\\nDeciding on next action: `math_action` I will understand the question and analysis and return markdown format of my detailed thoughts and answer to this question.\\\\n[assistant](#math_action)\\\\nThe problem involves finding out how much money Mr. Sam shared between his two sons, given that Ken received a certain amount, and Tony received twice as much as Ken.\\\\n<thought>Firstly, since Tony got twice as much money as Ken did, we can find out how much Tony got by multiplying Ken's share by 2.</thought>\\\\n<equation>Tony's share = 2 * $1750 = $3500</equation>\\\\n<thought>Next, to find out the total amount of money shared by Mr. Sam between his two sons, we add up what each son received.</thought>\\\\n<equation>Total amount shared = $1750 (Ken's share) + $3500 (Tony's share) = $5250</equation>\\\\n\\\\nSo, Mr. Sam shared a total of $5250 between his two sons.\",\n",
       " 'meta': {'question': 'Mr. Sam shared a certain amount of money between his two sons, Ken and Tony. If Ken got $1750, and Tony got twice as much as Ken, how much was the money shared?',\n",
       "  'answer': '5250',\n",
       "  'analysis': 'Tony got twice $1750 which is 2*$1750 = $<<2*1750=3500>>3500\\nThe total amount shared was $1750+$3500 = $<<1750+3500=5250>>5250'}}"
      ]
     },
     "execution_count": 4,
     "metadata": {},
     "output_type": "execute_result"
    }
   ],
   "source": [
    "json.loads(hcot_gsm8k_new[0])"
   ]
  },
  {
   "cell_type": "code",
   "execution_count": 5,
   "metadata": {},
   "outputs": [],
   "source": [
    "new_hcot_gsm8k_new = []\n",
    "for line in hcot_gsm8k_new:\n",
    "    line_js = json.loads(line)\n",
    "    if line_js[\"response\"]:\n",
    "        response_origin = line_js[\"response\"]\n",
    "        response_fix = fix_incomplete_tags_v2(response_origin)\n",
    "        line_js[\"response\"] = response_fix\n",
    "        new_hcot_gsm8k_new.append(line_js)"
   ]
  },
  {
   "cell_type": "code",
   "execution_count": 6,
   "metadata": {},
   "outputs": [],
   "source": [
    "with open(\"./data/GSM8K/hcot_gsm8k_fix.jsonl\", \"w\") as f:\n",
    "    for line in new_hcot_gsm8k_new:\n",
    "        f.write(json.dumps(line, ensure_ascii=False)+\"\\n\")"
   ]
  },
  {
   "cell_type": "markdown",
   "metadata": {},
   "source": [
    "### 构建带cot的直接训练数据"
   ]
  },
  {
   "cell_type": "code",
   "execution_count": 7,
   "metadata": {},
   "outputs": [],
   "source": [
    "import os, json\n",
    "from tqdm import tqdm\n",
    "\n",
    "with open(\n",
    "    \"/mnt/pfs/zitao_team/tianqiaoliu/Project/teammates/hidden_cot/data/GSM8K/hcot_gsm8k_fix.jsonl\",\n",
    "    \"r\",\n",
    ") as f:\n",
    "    h_cot_gsm8k = f.readlines()\n",
    "\n",
    "\n",
    "def build_direct_conversations(one_gsm8k_input):\n",
    "    one_gsm8k_input[\"response\"] = one_gsm8k_input[\"response\"].replace(\n",
    "        \"[assistant'](#math_action)\", \"[assistant](#math_action)\"\n",
    "    )\n",
    "    model_response = (\n",
    "        one_gsm8k_input[\"response\"]\n",
    "        .split(\"[assistant](#math_action)\")[1]\n",
    "        .strip(\"\\\\n\")\n",
    "        .replace(\"\\\\n\", \"\\n\")\n",
    "    )\n",
    "    one_gsm8k_input[\"conversations\"] = [\n",
    "        {\"from\": \"human\", \"value\": one_gsm8k_input[\"meta\"][\"question\"]},\n",
    "        {\"from\": \"gpt\", \"value\": model_response},\n",
    "    ]\n",
    "    return one_gsm8k_input\n",
    "\n",
    "\n",
    "h_cot_gsm8k_direct = []\n",
    "for one_gsm8k in h_cot_gsm8k:\n",
    "    one_gsm8k_js = json.loads(one_gsm8k)\n",
    "    if one_gsm8k_js[\"response\"]:\n",
    "        h_cot_gsm8k_direct.append(build_direct_conversations(one_gsm8k_js))"
   ]
  },
  {
   "cell_type": "code",
   "execution_count": 8,
   "metadata": {},
   "outputs": [],
   "source": [
    "with open(\n",
    "    \"/mnt/pfs/zitao_team/tianqiaoliu/Project/teammates/hidden_cot/data/GSM8K/h_cot_direct_conv.json\",\n",
    "    \"w\",\n",
    ") as f:\n",
    "    json.dump(h_cot_gsm8k_direct, f, ensure_ascii=False)"
   ]
  },
  {
   "cell_type": "code",
   "execution_count": 9,
   "metadata": {},
   "outputs": [
    {
     "data": {
      "text/plain": [
       "7430"
      ]
     },
     "execution_count": 9,
     "metadata": {},
     "output_type": "execute_result"
    }
   ],
   "source": [
    "len(h_cot_gsm8k_direct)"
   ]
  },
  {
   "cell_type": "code",
   "execution_count": 10,
   "metadata": {},
   "outputs": [
    {
     "data": {
      "text/plain": [
       "{'question': 'USER: Question: Mr. Sam shared a certain amount of money between his two sons, Ken and Tony. If Ken got $1750, and Tony got twice as much as Ken, how much was the money shared?\\n Analysis: Tony got twice $1750 which is 2*$1750 = $<<2*1750=3500>>3500\\nThe total amount shared was $1750+$3500 = $<<1750+3500=5250>>5250\\n Answer:5250',\n",
       " 'raw_result': {'id': 'chatcmpl-8SRAP0aNifsGKlamyFXbqSkeQiSKe',\n",
       "  'object': 'chat.completion',\n",
       "  'created': 1701788305,\n",
       "  'model': 'gpt-4',\n",
       "  'choices': [{'index': 0,\n",
       "    'message': {'role': 'assistant',\n",
       "     'content': \"<|im_start|>[assistant](#inner_monologue)\\\\nDeciding on language: `English` detected from the user message. Using the same language for my reply and my suggested user responses.\\\\nDeciding on next action: `math_action` I will understand the question and analysis and return markdown format of my detailed thoughts and answer to this question.\\\\n[assistant](#math_action)\\\\nThe problem involves finding out how much money Mr. Sam shared between his two sons, given that Ken received a certain amount, and Tony received twice as much as Ken.\\\\n<thought>Firstly, since Tony got twice as much money as Ken did, we can find out how much Tony got by multiplying Ken's share by 2.</thought>\\\\n<equation>Tony's share = 2 * $1750 = $3500</equation>\\\\n<thought>Next, to find out the total amount of money shared by Mr. Sam between his two sons, we add up what each son received.</thought>\\\\n<equation>Total amount shared = $1750 (Ken's share) + $3500 (Tony's share) = $5250</equation>\\\\n\\\\nSo, Mr. Sam shared a total of $5250 between his two sons.\"},\n",
       "    'finish_reason': 'stop'}],\n",
       "  'usage': {'prompt_tokens': 1181,\n",
       "   'completion_tokens': 261,\n",
       "   'total_tokens': 1442}},\n",
       " 'success': True,\n",
       " 'response': \"<|im_start|>[assistant](#inner_monologue)\\\\nDeciding on language: `English` detected from the user message. Using the same language for my reply and my suggested user responses.\\\\nDeciding on next action: `math_action` I will understand the question and analysis and return markdown format of my detailed thoughts and answer to this question.\\\\n[assistant](#math_action)\\\\nThe problem involves finding out how much money Mr. Sam shared between his two sons, given that Ken received a certain amount, and Tony received twice as much as Ken.\\\\n<thought>Firstly, since Tony got twice as much money as Ken did, we can find out how much Tony got by multiplying Ken's share by 2.</thought>\\\\n<equation>Tony's share = 2 * $1750 = $3500</equation>\\\\n<thought>Next, to find out the total amount of money shared by Mr. Sam between his two sons, we add up what each son received.</thought>\\\\n<equation>Total amount shared = $1750 (Ken's share) + $3500 (Tony's share) = $5250</equation>\\\\n\\\\nSo, Mr. Sam shared a total of $5250 between his two sons.\",\n",
       " 'meta': {'question': 'Mr. Sam shared a certain amount of money between his two sons, Ken and Tony. If Ken got $1750, and Tony got twice as much as Ken, how much was the money shared?',\n",
       "  'answer': '5250',\n",
       "  'analysis': 'Tony got twice $1750 which is 2*$1750 = $<<2*1750=3500>>3500\\nThe total amount shared was $1750+$3500 = $<<1750+3500=5250>>5250'},\n",
       " 'conversations': [{'from': 'human',\n",
       "   'value': 'Mr. Sam shared a certain amount of money between his two sons, Ken and Tony. If Ken got $1750, and Tony got twice as much as Ken, how much was the money shared?'},\n",
       "  {'from': 'gpt',\n",
       "   'value': \"The problem involves finding out how much money Mr. Sam shared between his two sons, given that Ken received a certain amount, and Tony received twice as much as Ken.\\n<thought>Firstly, since Tony got twice as much money as Ken did, we can find out how much Tony got by multiplying Ken's share by 2.</thought>\\n<equation>Tony's share = 2 * $1750 = $3500</equation>\\n<thought>Next, to find out the total amount of money shared by Mr. Sam between his two sons, we add up what each son received.</thought>\\n<equation>Total amount shared = $1750 (Ken's share) + $3500 (Tony's share) = $5250</equation>\\n\\nSo, Mr. Sam shared a total of $5250 between his two sons.\"}]}"
      ]
     },
     "execution_count": 10,
     "metadata": {},
     "output_type": "execute_result"
    }
   ],
   "source": [
    "h_cot_gsm8k_direct[0]"
   ]
  },
  {
   "cell_type": "markdown",
   "metadata": {},
   "source": [
    "#### 构建hcot的cot model的训练数据"
   ]
  },
  {
   "cell_type": "code",
   "execution_count": 11,
   "metadata": {},
   "outputs": [],
   "source": [
    "import re\n",
    "\n",
    "\n",
    "def remove_thoughts(text):\n",
    "    \"\"\"\n",
    "    Removes all occurrences of <thought>xxx</thought> from the text.\n",
    "\n",
    "    Args:\n",
    "    text (str): The input string containing <thought>xxx</thought> tags.\n",
    "\n",
    "    Returns:\n",
    "    str: The modified string with <thought>xxx</thought> tags removed.\n",
    "    \"\"\"\n",
    "    # Pattern to match <thought>xxx</thought> and optional preceding and following newlines\n",
    "    pattern = r\"(?<=\\n)<thought>.*?</thought>(?=\\n)\"\n",
    "\n",
    "    # Replace all occurrences with an empty string\n",
    "    modified_text = re.sub(pattern, \"<[COT]>\", text, flags=re.DOTALL)\n",
    "\n",
    "    return modified_text\n",
    "\n",
    "\n",
    "def extract_thoughts_accumulative(problem, text):\n",
    "    pairs = []\n",
    "    previous_end = 0\n",
    "    # prefix = f\"Solve the following math word problem with your step-by-step analysis, {problem}. I will provide the previous analysis and equations, your job is to show me your thought of the next action, you do not need to give the calculation equation.\\n\\n\"\n",
    "    prefix = f\"{problem}\"\n",
    "\n",
    "    while \"<thought>\" in text[previous_end:]:\n",
    "        # Find the next <thought> tag\n",
    "        start_thought = text.find(\"<thought>\", previous_end)\n",
    "        end_thought = text.find(\"</thought>\", start_thought)\n",
    "\n",
    "        # Break the loop if no more <thought> tag is found\n",
    "        if start_thought == -1 or end_thought == -1:\n",
    "            break\n",
    "\n",
    "        # Extract the input and output\n",
    "        input_text = text[:start_thought].strip()\n",
    "        output_text = text[\n",
    "            start_thought + 9 : end_thought\n",
    "        ].strip()  # 9 is the length of '<thought>'\n",
    "\n",
    "        # Append the pair to the result\n",
    "        input_text_tmp = prefix + remove_thoughts(input_text)\n",
    "\n",
    "        pairs.append(\n",
    "            {\n",
    "                \"conversations\": [\n",
    "                    {\"from\": \"human\", \"value\": input_text_tmp + \"\\n<[COT]>\"},\n",
    "                    {\"from\": \"gpt\", \"value\": output_text},\n",
    "                ],\n",
    "                \"Query\": input_text_tmp,\n",
    "                \"COT_target\": \"\\n<[COT]>\",\n",
    "                \"thought_target\": output_text,\n",
    "            }\n",
    "        )\n",
    "\n",
    "        # Update the end position for the next iteration\n",
    "        previous_end = end_thought + 10\n",
    "\n",
    "    return pairs"
   ]
  },
  {
   "cell_type": "code",
   "execution_count": 12,
   "metadata": {},
   "outputs": [],
   "source": [
    "cot_model_train_data = []\n",
    "for one_gsm8k_direct in h_cot_gsm8k_direct:\n",
    "    new_train_data = extract_thoughts_accumulative(\n",
    "        one_gsm8k_direct[\"conversations\"][0][\"value\"],\n",
    "        one_gsm8k_direct[\"conversations\"][1][\"value\"],\n",
    "    )\n",
    "    cot_model_train_data.extend(new_train_data)"
   ]
  },
  {
   "cell_type": "code",
   "execution_count": 64,
   "metadata": {},
   "outputs": [],
   "source": [
    "cot_model_train_data = []\n",
    "for one_gsm8k_direct in h_cot_gsm8k_direct:\n",
    "    new_train_data = extract_thoughts_accumulative(\n",
    "        one_gsm8k_direct[\"conversations\"][0][\"value\"],\n",
    "        one_gsm8k_direct[\"conversations\"][1][\"value\"],\n",
    "    )\n",
    "    cot_model_train_data.extend(new_train_data)"
   ]
  },
  {
   "cell_type": "code",
   "execution_count": 13,
   "metadata": {},
   "outputs": [
    {
     "data": {
      "text/plain": [
       "{'conversations': [{'from': 'human',\n",
       "   'value': 'Mr. Sam shared a certain amount of money between his two sons, Ken and Tony. If Ken got $1750, and Tony got twice as much as Ken, how much was the money shared?The problem involves finding out how much money Mr. Sam shared between his two sons, given that Ken received a certain amount, and Tony received twice as much as Ken.\\n<[COT]>'},\n",
       "  {'from': 'gpt',\n",
       "   'value': \"Firstly, since Tony got twice as much money as Ken did, we can find out how much Tony got by multiplying Ken's share by 2.\"}],\n",
       " 'Query': 'Mr. Sam shared a certain amount of money between his two sons, Ken and Tony. If Ken got $1750, and Tony got twice as much as Ken, how much was the money shared?The problem involves finding out how much money Mr. Sam shared between his two sons, given that Ken received a certain amount, and Tony received twice as much as Ken.',\n",
       " 'COT_target': '\\n<[COT]>',\n",
       " 'thought_target': \"Firstly, since Tony got twice as much money as Ken did, we can find out how much Tony got by multiplying Ken's share by 2.\"}"
      ]
     },
     "execution_count": 13,
     "metadata": {},
     "output_type": "execute_result"
    }
   ],
   "source": [
    "cot_model_train_data[0]"
   ]
  },
  {
   "cell_type": "code",
   "execution_count": 14,
   "metadata": {},
   "outputs": [
    {
     "data": {
      "text/plain": [
       "\"The problem involves finding out how much money Mr. Sam shared between his two sons, given that Ken received a certain amount, and Tony received twice as much as Ken.\\n<thought>Firstly, since Tony got twice as much money as Ken did, we can find out how much Tony got by multiplying Ken's share by 2.</thought>\\n<equation>Tony's share = 2 * $1750 = $3500</equation>\\n<thought>Next, to find out the total amount of money shared by Mr. Sam between his two sons, we add up what each son received.</thought>\\n<equation>Total amount shared = $1750 (Ken's share) + $3500 (Tony's share) = $5250</equation>\\n\\nSo, Mr. Sam shared a total of $5250 between his two sons.\""
      ]
     },
     "execution_count": 14,
     "metadata": {},
     "output_type": "execute_result"
    }
   ],
   "source": [
    "h_cot_gsm8k_direct[0][\"conversations\"][1][\"value\"]"
   ]
  },
  {
   "cell_type": "code",
   "execution_count": 66,
   "metadata": {},
   "outputs": [],
   "source": [
    "jesus = extract_thoughts_accumulative(\n",
    "    h_cot_gsm8k_direct[0][\"conversations\"][0][\"value\"],\n",
    "    h_cot_gsm8k_direct[0][\"conversations\"][1][\"value\"],\n",
    ")"
   ]
  },
  {
   "cell_type": "code",
   "execution_count": 15,
   "metadata": {},
   "outputs": [],
   "source": [
    "with open(\n",
    "    \"/mnt/pfs/zitao_team/tianqiaoliu/Project/teammates/hidden_cot/data/GSM8K/COT_model_train_data_kun_idea.json\",\n",
    "    \"w\",\n",
    ") as f:\n",
    "    json.dump(cot_model_train_data, f, ensure_ascii=False)"
   ]
  },
  {
   "cell_type": "markdown",
   "metadata": {},
   "source": [
    "#### 构建hcot-model-llm部分的训练数据"
   ]
  },
  {
   "cell_type": "code",
   "execution_count": 16,
   "metadata": {},
   "outputs": [],
   "source": [
    "with open(\n",
    "    \"/mnt/pfs/zitao_team/tianqiaoliu/Project/teammates/hidden_cot/data/GSM8K/h_cot_direct_conv.json\",\n",
    "    \"r\",\n",
    ") as f:\n",
    "    h_cot_gsm8k_direct = json.load(f)"
   ]
  },
  {
   "cell_type": "code",
   "execution_count": 17,
   "metadata": {},
   "outputs": [],
   "source": [
    "import re\n",
    "\n",
    "\n",
    "def remove_thoughts(text):\n",
    "    \"\"\"\n",
    "    Removes all occurrences of <thought>xxx</thought> from the text.\n",
    "\n",
    "    Args:\n",
    "    text (str): The input string containing <thought>xxx</thought> tags.\n",
    "\n",
    "    Returns:\n",
    "    str: The modified string with <thought>xxx</thought> tags removed.\n",
    "    \"\"\"\n",
    "    # Pattern to match <thought>xxx</thought> and optional preceding and following newlines\n",
    "    pattern = r\"(?<=\\n)<thought>.*?</thought>(?=\\n)\"\n",
    "\n",
    "    # Replace all occurrences with an empty string\n",
    "    modified_text = re.sub(pattern, \"<[COT]>\", text, flags=re.DOTALL)\n",
    "\n",
    "    return modified_text"
   ]
  },
  {
   "cell_type": "code",
   "execution_count": null,
   "metadata": {},
   "outputs": [
    {
     "data": {
      "text/plain": [
       "\"The problem involves finding out how much money Mr. Sam shared between his two sons, given that Ken received a certain amount, and Tony received twice as much as Ken.\\n<[COT]>\\n<equation>Tony's share = 2 * $1750 = $3500</equation>\\n<[COT]>\\n<equation>Total amount shared = $1750 (Ken's share) + $3500 (Tony's share) = $5250</equation>\\n\\nSo, Mr. Sam shared a total of $5250 between his two sons.\""
      ]
     },
     "execution_count": 12,
     "metadata": {},
     "output_type": "execute_result"
    }
   ],
   "source": [
    "one_text = \"The problem involves finding out how much money Mr. Sam shared between his two sons, given that Ken received a certain amount, and Tony received twice as much as Ken.\\n<thought>Firstly, since Tony got twice as much money as Ken did, we can find out how much Tony got by multiplying Ken's share by 2.</thought>\\n<equation>Tony's share = 2 * $1750 = $3500</equation>\\n<thought>Next, to find out the total amount of money shared by Mr. Sam between his two sons, we add up what each son received.</thought>\\n<equation>Total amount shared = $1750 (Ken's share) + $3500 (Tony's share) = $5250</equation>\\n\\nSo, Mr. Sam shared a total of $5250 between his two sons.\"\n",
    "remove_thoughts(one_text)"
   ]
  },
  {
   "cell_type": "code",
   "execution_count": 18,
   "metadata": {},
   "outputs": [],
   "source": [
    "h_cot_gsm8k_hcot_llm_model = []\n",
    "for data in h_cot_gsm8k_direct:\n",
    "    conv = data[\"conversations\"]\n",
    "    conv_response = conv[1][\"value\"]\n",
    "    conv_response_with_cot = remove_thoughts(conv_response)\n",
    "    conv[1][\"value\"] = conv_response_with_cot\n",
    "    h_cot_gsm8k_hcot_llm_model.append(data)"
   ]
  },
  {
   "cell_type": "code",
   "execution_count": 19,
   "metadata": {},
   "outputs": [
    {
     "data": {
      "text/plain": [
       "{'question': 'USER: Question: Mr. Sam shared a certain amount of money between his two sons, Ken and Tony. If Ken got $1750, and Tony got twice as much as Ken, how much was the money shared?\\n Analysis: Tony got twice $1750 which is 2*$1750 = $<<2*1750=3500>>3500\\nThe total amount shared was $1750+$3500 = $<<1750+3500=5250>>5250\\n Answer:5250',\n",
       " 'raw_result': {'id': 'chatcmpl-8SRAP0aNifsGKlamyFXbqSkeQiSKe',\n",
       "  'object': 'chat.completion',\n",
       "  'created': 1701788305,\n",
       "  'model': 'gpt-4',\n",
       "  'choices': [{'index': 0,\n",
       "    'message': {'role': 'assistant',\n",
       "     'content': \"<|im_start|>[assistant](#inner_monologue)\\\\nDeciding on language: `English` detected from the user message. Using the same language for my reply and my suggested user responses.\\\\nDeciding on next action: `math_action` I will understand the question and analysis and return markdown format of my detailed thoughts and answer to this question.\\\\n[assistant](#math_action)\\\\nThe problem involves finding out how much money Mr. Sam shared between his two sons, given that Ken received a certain amount, and Tony received twice as much as Ken.\\\\n<thought>Firstly, since Tony got twice as much money as Ken did, we can find out how much Tony got by multiplying Ken's share by 2.</thought>\\\\n<equation>Tony's share = 2 * $1750 = $3500</equation>\\\\n<thought>Next, to find out the total amount of money shared by Mr. Sam between his two sons, we add up what each son received.</thought>\\\\n<equation>Total amount shared = $1750 (Ken's share) + $3500 (Tony's share) = $5250</equation>\\\\n\\\\nSo, Mr. Sam shared a total of $5250 between his two sons.\"},\n",
       "    'finish_reason': 'stop'}],\n",
       "  'usage': {'prompt_tokens': 1181,\n",
       "   'completion_tokens': 261,\n",
       "   'total_tokens': 1442}},\n",
       " 'success': True,\n",
       " 'response': \"<|im_start|>[assistant](#inner_monologue)\\\\nDeciding on language: `English` detected from the user message. Using the same language for my reply and my suggested user responses.\\\\nDeciding on next action: `math_action` I will understand the question and analysis and return markdown format of my detailed thoughts and answer to this question.\\\\n[assistant](#math_action)\\\\nThe problem involves finding out how much money Mr. Sam shared between his two sons, given that Ken received a certain amount, and Tony received twice as much as Ken.\\\\n<thought>Firstly, since Tony got twice as much money as Ken did, we can find out how much Tony got by multiplying Ken's share by 2.</thought>\\\\n<equation>Tony's share = 2 * $1750 = $3500</equation>\\\\n<thought>Next, to find out the total amount of money shared by Mr. Sam between his two sons, we add up what each son received.</thought>\\\\n<equation>Total amount shared = $1750 (Ken's share) + $3500 (Tony's share) = $5250</equation>\\\\n\\\\nSo, Mr. Sam shared a total of $5250 between his two sons.\",\n",
       " 'meta': {'question': 'Mr. Sam shared a certain amount of money between his two sons, Ken and Tony. If Ken got $1750, and Tony got twice as much as Ken, how much was the money shared?',\n",
       "  'answer': '5250',\n",
       "  'analysis': 'Tony got twice $1750 which is 2*$1750 = $<<2*1750=3500>>3500\\nThe total amount shared was $1750+$3500 = $<<1750+3500=5250>>5250'},\n",
       " 'conversations': [{'from': 'human',\n",
       "   'value': 'Mr. Sam shared a certain amount of money between his two sons, Ken and Tony. If Ken got $1750, and Tony got twice as much as Ken, how much was the money shared?'},\n",
       "  {'from': 'gpt',\n",
       "   'value': \"The problem involves finding out how much money Mr. Sam shared between his two sons, given that Ken received a certain amount, and Tony received twice as much as Ken.\\n<[COT]>\\n<equation>Tony's share = 2 * $1750 = $3500</equation>\\n<[COT]>\\n<equation>Total amount shared = $1750 (Ken's share) + $3500 (Tony's share) = $5250</equation>\\n\\nSo, Mr. Sam shared a total of $5250 between his two sons.\"}]}"
      ]
     },
     "execution_count": 19,
     "metadata": {},
     "output_type": "execute_result"
    }
   ],
   "source": [
    "h_cot_gsm8k_hcot_llm_model[0]"
   ]
  },
  {
   "cell_type": "code",
   "execution_count": null,
   "metadata": {},
   "outputs": [],
   "source": []
  },
  {
   "cell_type": "code",
   "execution_count": null,
   "metadata": {},
   "outputs": [],
   "source": [
    "with open(\n",
    "    \"/mnt/pfs/zitao_team/tianqiaoliu/Project/teammates/hidden_cot/data/GSM8K/hcot_llm_data.json\",\n",
    "    \"w\",\n",
    ") as f:\n",
    "    json.dump(h_cot_gsm8k_hcot_llm_model, f, ensure_ascii=False)"
   ]
  },
  {
   "cell_type": "code",
   "execution_count": null,
   "metadata": {},
   "outputs": [],
   "source": []
  },
  {
   "cell_type": "code",
   "execution_count": null,
   "metadata": {},
   "outputs": [],
   "source": [
    "import os,json"
   ]
  },
  {
   "cell_type": "code",
   "execution_count": null,
   "metadata": {},
   "outputs": [],
   "source": [
    "with open(\"/mnt/pfs/zitao_team/tianqiaoliu/Project/papers/hidden_cot/data/GSM8K/hcot_llm_data.json\", \"r\") as f:\n",
    "    file = json.load(f)"
   ]
  },
  {
   "cell_type": "code",
   "execution_count": null,
   "metadata": {},
   "outputs": [
    {
     "data": {
      "text/plain": [
       "{'question': 'USER: Question: Mr. Sam shared a certain amount of money between his two sons, Ken and Tony. If Ken got $1750, and Tony got twice as much as Ken, how much was the money shared?\\n Analysis: Tony got twice $1750 which is 2*$1750 = $<<2*1750=3500>>3500\\nThe total amount shared was $1750+$3500 = $<<1750+3500=5250>>5250\\n Answer:5250',\n",
       " 'raw_result': {'id': 'chatcmpl-8SRAP0aNifsGKlamyFXbqSkeQiSKe',\n",
       "  'object': 'chat.completion',\n",
       "  'created': 1701788305,\n",
       "  'model': 'gpt-4',\n",
       "  'choices': [{'index': 0,\n",
       "    'message': {'role': 'assistant',\n",
       "     'content': \"<|im_start|>[assistant](#inner_monologue)\\\\nDeciding on language: `English` detected from the user message. Using the same language for my reply and my suggested user responses.\\\\nDeciding on next action: `math_action` I will understand the question and analysis and return markdown format of my detailed thoughts and answer to this question.\\\\n[assistant](#math_action)\\\\nThe problem involves finding out how much money Mr. Sam shared between his two sons, given that Ken received a certain amount, and Tony received twice as much as Ken.\\\\n<thought>Firstly, since Tony got twice as much money as Ken did, we can find out how much Tony got by multiplying Ken's share by 2.</thought>\\\\n<equation>Tony's share = 2 * $1750 = $3500</equation>\\\\n<thought>Next, to find out the total amount of money shared by Mr. Sam between his two sons, we add up what each son received.</thought>\\\\n<equation>Total amount shared = $1750 (Ken's share) + $3500 (Tony's share) = $5250</equation>\\\\n\\\\nSo, Mr. Sam shared a total of $5250 between his two sons.\"},\n",
       "    'finish_reason': 'stop'}],\n",
       "  'usage': {'prompt_tokens': 1181,\n",
       "   'completion_tokens': 261,\n",
       "   'total_tokens': 1442}},\n",
       " 'success': True,\n",
       " 'response': \"<|im_start|>[assistant](#inner_monologue)\\\\nDeciding on language: `English` detected from the user message. Using the same language for my reply and my suggested user responses.\\\\nDeciding on next action: `math_action` I will understand the question and analysis and return markdown format of my detailed thoughts and answer to this question.\\\\n[assistant](#math_action)\\\\nThe problem involves finding out how much money Mr. Sam shared between his two sons, given that Ken received a certain amount, and Tony received twice as much as Ken.\\\\n<thought>Firstly, since Tony got twice as much money as Ken did, we can find out how much Tony got by multiplying Ken's share by 2.</thought>\\\\n<equation>Tony's share = 2 * $1750 = $3500</equation>\\\\n<thought>Next, to find out the total amount of money shared by Mr. Sam between his two sons, we add up what each son received.</thought>\\\\n<equation>Total amount shared = $1750 (Ken's share) + $3500 (Tony's share) = $5250</equation>\\\\n\\\\nSo, Mr. Sam shared a total of $5250 between his two sons.\",\n",
       " 'meta': {'question': 'Mr. Sam shared a certain amount of money between his two sons, Ken and Tony. If Ken got $1750, and Tony got twice as much as Ken, how much was the money shared?',\n",
       "  'answer': '5250',\n",
       "  'analysis': 'Tony got twice $1750 which is 2*$1750 = $<<2*1750=3500>>3500\\nThe total amount shared was $1750+$3500 = $<<1750+3500=5250>>5250'},\n",
       " 'conversations': [{'from': 'human',\n",
       "   'value': 'Mr. Sam shared a certain amount of money between his two sons, Ken and Tony. If Ken got $1750, and Tony got twice as much as Ken, how much was the money shared?'},\n",
       "  {'from': 'gpt',\n",
       "   'value': \"The problem involves finding out how much money Mr. Sam shared between his two sons, given that Ken received a certain amount, and Tony received twice as much as Ken.\\n<[COT]>\\n<equation>Tony's share = 2 * $1750 = $3500</equation>\\n<[COT]>\\n<equation>Total amount shared = $1750 (Ken's share) + $3500 (Tony's share) = $5250</equation>\\n\\nSo, Mr. Sam shared a total of $5250 between his two sons.\"}]}"
      ]
     },
     "execution_count": 3,
     "metadata": {},
     "output_type": "execute_result"
    }
   ],
   "source": [
    "file[0]"
   ]
  },
  {
   "cell_type": "code",
   "execution_count": null,
   "metadata": {},
   "outputs": [
    {
     "data": {
      "text/plain": [
       "{'question': 'USER: Question: A car is driving through a tunnel with many turns. After a while, the car must travel through a ring that requires a total of 4 right-hand turns. After the 1st turn, it travels 5 meters. After the 2nd turn, it travels 8 meters. After the 3rd turn, it travels a little further and at the 4th turn, it immediately exits the tunnel. If the car has driven a total of 23 meters around the ring, how far did it have to travel after the 3rd turn?\\n Analysis: From the details given, the car has traveled 5 meters at the 1st turn + 8 meters after the 2nd turn + 0 meters after the 4th turn = <<5+8+0=13>>13 meters around the ring.\\nIt must therefore have driven 23 total meters – 13 calculated meters = 10 meters after the 3rd turn.\\n Answer:10',\n",
       " 'raw_result': {'id': 'chatcmpl-8SRAPK62ihju3TAq9F26E4ooQdZeq',\n",
       "  'object': 'chat.completion',\n",
       "  'created': 1701788305,\n",
       "  'model': 'gpt-4',\n",
       "  'choices': [{'index': 0,\n",
       "    'message': {'role': 'assistant',\n",
       "     'content': '<|im_start|>[assistant](#inner_monologue)\\\\nDeciding on language: `English` detected from the user message. Using the same language for my reply and my suggested user responses.\\\\nDeciding on next action: `math_action` I will understand the question and analysis and return markdown format of my detailed thoughts and answer to this question.\\\\n[assistant](#math_action)\\\\nThe problem involves calculating how far a car traveled after making certain turns in a tunnel. We know that it made 4 right-hand turns, with given distances for the first two turns, no distance covered after the fourth turn, and an overall total distance covered around a ring.\\n\\n<thought>Firstly, we need to calculate how much distance was covered by the car after making its first two turns.</thought>\\n<equation>Distance_after_1st_and_2nd_turns = Distance_after_1st_turn + Distance_after_2nd_turn = 5 meters + 8 meters = 13 meters</equation>\\n\\n<thought>Next, since we know that no additional distance was covered after making its fourth turn (it immediately exits), we can subtract this calculated sum from the total distance driven around the ring to find out how far it had to travel after its third turn.</thought>\\n<equation>Distance_after_3rd_turn = Total_distance - Distance_after_1st_and_2nd_turns\\n= 23 meters - 13 meters \\n=10 meters</equation>\\n\\nSo, The car must have driven 10 meters after making its third turn.\\n'},\n",
       "    'finish_reason': 'stop'}],\n",
       "  'usage': {'prompt_tokens': 1279,\n",
       "   'completion_tokens': 320,\n",
       "   'total_tokens': 1599}},\n",
       " 'success': True,\n",
       " 'response': '<|im_start|>[assistant](#inner_monologue)\\\\nDeciding on language: `English` detected from the user message. Using the same language for my reply and my suggested user responses.\\\\nDeciding on next action: `math_action` I will understand the question and analysis and return markdown format of my detailed thoughts and answer to this question.\\\\n[assistant](#math_action)\\\\nThe problem involves calculating how far a car traveled after making certain turns in a tunnel. We know that it made 4 right-hand turns, with given distances for the first two turns, no distance covered after the fourth turn, and an overall total distance covered around a ring.\\n\\n<thought>Firstly, we need to calculate how much distance was covered by the car after making its first two turns.</thought>\\n<equation>Distance_after_1st_and_2nd_turns = Distance_after_1st_turn + Distance_after_2nd_turn = 5 meters + 8 meters = 13 meters</equation>\\n\\n<thought>Next, since we know that no additional distance was covered after making its fourth turn (it immediately exits), we can subtract this calculated sum from the total distance driven around the ring to find out how far it had to travel after its third turn.</thought>\\n<equation>Distance_after_3rd_turn = Total_distance - Distance_after_1st_and_2nd_turns\\n= 23 meters - 13 meters \\n=10 meters</equation>\\n\\nSo, The car must have driven 10 meters after making its third turn.\\n',\n",
       " 'meta': {'question': 'A car is driving through a tunnel with many turns. After a while, the car must travel through a ring that requires a total of 4 right-hand turns. After the 1st turn, it travels 5 meters. After the 2nd turn, it travels 8 meters. After the 3rd turn, it travels a little further and at the 4th turn, it immediately exits the tunnel. If the car has driven a total of 23 meters around the ring, how far did it have to travel after the 3rd turn?',\n",
       "  'answer': '10',\n",
       "  'analysis': 'From the details given, the car has traveled 5 meters at the 1st turn + 8 meters after the 2nd turn + 0 meters after the 4th turn = <<5+8+0=13>>13 meters around the ring.\\nIt must therefore have driven 23 total meters – 13 calculated meters = 10 meters after the 3rd turn.'},\n",
       " 'conversations': [{'from': 'human',\n",
       "   'value': 'A car is driving through a tunnel with many turns. After a while, the car must travel through a ring that requires a total of 4 right-hand turns. After the 1st turn, it travels 5 meters. After the 2nd turn, it travels 8 meters. After the 3rd turn, it travels a little further and at the 4th turn, it immediately exits the tunnel. If the car has driven a total of 23 meters around the ring, how far did it have to travel after the 3rd turn?'},\n",
       "  {'from': 'gpt',\n",
       "   'value': 'The problem involves calculating how far a car traveled after making certain turns in a tunnel. We know that it made 4 right-hand turns, with given distances for the first two turns, no distance covered after the fourth turn, and an overall total distance covered around a ring.\\n\\n<[COT]>\\n<equation>Distance_after_1st_and_2nd_turns = Distance_after_1st_turn + Distance_after_2nd_turn = 5 meters + 8 meters = 13 meters</equation>\\n\\n<[COT]>\\n<equation>Distance_after_3rd_turn = Total_distance - Distance_after_1st_and_2nd_turns\\n= 23 meters - 13 meters \\n=10 meters</equation>\\n\\nSo, The car must have driven 10 meters after making its third turn.\\n'}]}"
      ]
     },
     "execution_count": 4,
     "metadata": {},
     "output_type": "execute_result"
    }
   ],
   "source": [
    "file[1]"
   ]
  },
  {
   "cell_type": "code",
   "execution_count": null,
   "metadata": {},
   "outputs": [],
   "source": [
    "has_thought = []\n",
    "for one in file:\n",
    "    one_content = one[\"conversations\"][1][\"value\"]\n",
    "    if \"<thought>\" in one_content:\n",
    "        has_thought.append(one)"
   ]
  },
  {
   "cell_type": "code",
   "execution_count": null,
   "metadata": {},
   "outputs": [
    {
     "data": {
      "text/plain": [
       "248"
      ]
     },
     "execution_count": 7,
     "metadata": {},
     "output_type": "execute_result"
    }
   ],
   "source": [
    "len(has_thought)"
   ]
  },
  {
   "cell_type": "code",
   "execution_count": null,
   "metadata": {},
   "outputs": [
    {
     "data": {
      "text/plain": [
       "{'question': 'USER: Question: A concert ticket costs $40. Mr. Benson bought 12 tickets and received a 5% discount for every ticket bought that exceeds 10. How much did Mr. Benson pay in all?\\n Analysis: Mr. Benson had a 5% discount for each of the 12 - 10 = <<12-10=2>>2 tickets.\\nSo, those two tickets had a $40 x 5/100 = $<<40*5/100=2>>2 discount each.\\nHence, each ticket cost $40 - $2 = $<<40-2=38>>38 each.\\nThus, two discounted tickets amount to $38 x 2 = $<<38*2=76>>76.\\nAnd the other ten tickets amount to $40 x 10 = $<<40*10=400>>400.\\nHence, Mr. Benson paid a total of $400 + $76 = $<<400+76=476>>476.\\n Answer:476',\n",
       " 'raw_result': {'id': 'chatcmpl-8SRB5JiwuLiCvgGboHoupKbLk8ywt',\n",
       "  'object': 'chat.completion',\n",
       "  'created': 1701788347,\n",
       "  'model': 'gpt-4',\n",
       "  'choices': [{'index': 0,\n",
       "    'message': {'role': 'assistant',\n",
       "     'content': '<|im_start|>[assistant](#inner_monologue)\\\\nDeciding on language: `English` detected from the user message. Using the same language for my reply and my suggested user responses.\\\\nDeciding on next action: `math_action` I will understand the question and analysis and return markdown format of my detailed thoughts and answer to this question.\\\\n[assistant](#math_action)\\\\nThe problem involves calculating a discount on some concert tickets, then adding that discounted amount to the cost of other non-discounted tickets. \\\\n<thought>Firstly, we need to determine how many tickets Mr. Benson bought that were eligible for a discount. Since he gets a 5% discount for every ticket bought that exceeds 10, we subtract 10 from the total number of tickets he bought.</thought>\\\\n<equation>Tickets with discount = Total Tickets - Non-discounted Tickets = 12 - 10 = 2</equation>\\\\nthought>The next step is to calculate how much each discounted ticket costs. We know each ticket originally costs $40, so we find out what is 5% of $40 (which is the amount being discounted per ticket).</thought>\\\\n<equation>Discount per Ticket = Original Price x Discount Rate = $40 x \\\\frac{5}{100} = $2</equation>\\\\nthought>We then subtract this discount from the original price of each ticket to get the new price for these two discounted tickets.</thought>\\\\n<equation>New Price per Discounted Ticket= Original Price - Discount Amount= $40 - $2= $38</equation>\\\\nthought>To find out how much Mr.Benson paid in all, we multiply this new price by number of such discounted tickets which gives us total cost for these two special cases.</thought>\\\\n<equation>Total Cost For Two Discounted Tickets= New Price Per Ticket * Number Of Such Tickets=$38*2=$76</equation><thought>Then add it up with cost incurred due to remaining non-discounted ten tickets which can be calculated as product of their count(10) and their individual price($40).</thought><\\\\nequations>Total Cost Incurred By Mr.Benson=Cost Due To Non-Discounted Tickets + Cost Due To Discounted Tickets\\\\n$400+$76=$476 </end_equations>\\nSo,Mr.Benson paid a total sum of \\\\$476.\\n'},\n",
       "    'finish_reason': 'stop'}],\n",
       "  'usage': {'prompt_tokens': 1279,\n",
       "   'completion_tokens': 493,\n",
       "   'total_tokens': 1772}},\n",
       " 'success': True,\n",
       " 'response': '<|im_start|>[assistant](#inner_monologue)\\\\nDeciding on language: `English` detected from the user message. Using the same language for my reply and my suggested user responses.\\\\nDeciding on next action: `math_action` I will understand the question and analysis and return markdown format of my detailed thoughts and answer to this question.\\\\n[assistant](#math_action)\\\\nThe problem involves calculating a discount on some concert tickets, then adding that discounted amount to the cost of other non-discounted tickets. \\\\n<thought>Firstly, we need to determine how many tickets Mr. Benson bought that were eligible for a discount. Since he gets a 5% discount for every ticket bought that exceeds 10, we subtract 10 from the total number of tickets he bought.</thought>\\\\n<equation>Tickets with discount = Total Tickets - Non-discounted Tickets = 12 - 10 = 2</equation>\\\\nthought>The next step is to calculate how much each discounted ticket costs. We know each ticket originally costs $40, so we find out what is 5% of $40 (which is the amount being discounted per ticket).</thought>\\\\n<equation>Discount per Ticket = Original Price x Discount Rate = $40 x \\\\frac{5}{100} = $2</equation>\\\\nthought>We then subtract this discount from the original price of each ticket to get the new price for these two discounted tickets.</thought>\\\\n<equation>New Price per Discounted Ticket= Original Price - Discount Amount= $40 - $2= $38</equation>\\\\nthought>To find out how much Mr.Benson paid in all, we multiply this new price by number of such discounted tickets which gives us total cost for these two special cases.</thought>\\\\n<equation>Total Cost For Two Discounted Tickets= New Price Per Ticket * Number Of Such Tickets=$38*2=$76</equation><thought>Then add it up with cost incurred due to remaining non-discounted ten tickets which can be calculated as product of their count(10) and their individual price($40).</thought><\\\\nequations>Total Cost Incurred By Mr.Benson=Cost Due To Non-Discounted Tickets + Cost Due To Discounted Tickets\\\\n$400+$76=$476 </end_equations>\\nSo,Mr.Benson paid a total sum of \\\\$476.\\n',\n",
       " 'meta': {'question': 'A concert ticket costs $40. Mr. Benson bought 12 tickets and received a 5% discount for every ticket bought that exceeds 10. How much did Mr. Benson pay in all?',\n",
       "  'answer': '476',\n",
       "  'analysis': 'Mr. Benson had a 5% discount for each of the 12 - 10 = <<12-10=2>>2 tickets.\\nSo, those two tickets had a $40 x 5/100 = $<<40*5/100=2>>2 discount each.\\nHence, each ticket cost $40 - $2 = $<<40-2=38>>38 each.\\nThus, two discounted tickets amount to $38 x 2 = $<<38*2=76>>76.\\nAnd the other ten tickets amount to $40 x 10 = $<<40*10=400>>400.\\nHence, Mr. Benson paid a total of $400 + $76 = $<<400+76=476>>476.'},\n",
       " 'conversations': [{'from': 'human',\n",
       "   'value': 'A concert ticket costs $40. Mr. Benson bought 12 tickets and received a 5% discount for every ticket bought that exceeds 10. How much did Mr. Benson pay in all?'},\n",
       "  {'from': 'gpt',\n",
       "   'value': 'The problem involves calculating a discount on some concert tickets, then adding that discounted amount to the cost of other non-discounted tickets. \\n<[COT]>\\n<equation>Tickets with discount = Total Tickets - Non-discounted Tickets = 12 - 10 = 2</equation>\\nthought>The next step is to calculate how much each discounted ticket costs. We know each ticket originally costs $40, so we find out what is 5% of $40 (which is the amount being discounted per ticket).</thought>\\n<equation>Discount per Ticket = Original Price x Discount Rate = $40 x \\\\frac{5}{100} = $2</equation>\\nthought>We then subtract this discount from the original price of each ticket to get the new price for these two discounted tickets.</thought>\\n<equation>New Price per Discounted Ticket= Original Price - Discount Amount= $40 - $2= $38</equation>\\nthought>To find out how much Mr.Benson paid in all, we multiply this new price by number of such discounted tickets which gives us total cost for these two special cases.</thought>\\n<equation>Total Cost For Two Discounted Tickets= New Price Per Ticket * Number Of Such Tickets=$38*2=$76</equation><thought>Then add it up with cost incurred due to remaining non-discounted ten tickets which can be calculated as product of their count(10) and their individual price($40).</thought><\\nequations>Total Cost Incurred By Mr.Benson=Cost Due To Non-Discounted Tickets + Cost Due To Discounted Tickets\\n$400+$76=$476 </end_equations>\\nSo,Mr.Benson paid a total sum of \\\\$476.\\n'}]}"
      ]
     },
     "execution_count": 8,
     "metadata": {},
     "output_type": "execute_result"
    }
   ],
   "source": [
    "has_thought[0]"
   ]
  },
  {
   "cell_type": "code",
   "execution_count": null,
   "metadata": {},
   "outputs": [],
   "source": []
  },
  {
   "cell_type": "code",
   "execution_count": null,
   "metadata": {},
   "outputs": [],
   "source": []
  },
  {
   "cell_type": "code",
   "execution_count": null,
   "metadata": {},
   "outputs": [],
   "source": []
  },
  {
   "cell_type": "code",
   "execution_count": null,
   "metadata": {},
   "outputs": [],
   "source": []
  }
 ],
 "metadata": {
  "kernelspec": {
   "display_name": "python3.9",
   "language": "python",
   "name": "python3"
  },
  "language_info": {
   "codemirror_mode": {
    "name": "ipython",
    "version": 3
   },
   "file_extension": ".py",
   "mimetype": "text/x-python",
   "name": "python",
   "nbconvert_exporter": "python",
   "pygments_lexer": "ipython3",
   "version": "3.9.16"
  }
 },
 "nbformat": 4,
 "nbformat_minor": 2
}
