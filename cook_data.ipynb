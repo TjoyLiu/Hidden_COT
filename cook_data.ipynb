{
 "cells": [
  {
   "cell_type": "markdown",
   "metadata": {},
   "source": [
    "### 先清洗一波我的训练数据"
   ]
  },
  {
   "cell_type": "markdown",
   "metadata": {},
   "source": [
    "#### 0102 我发现有一些训练数据过了gpt4之后就做错了，gsm8k本身有算式和cot，我用规则造"
   ]
  },
  {
   "cell_type": "markdown",
   "metadata": {},
   "source": [
    "#### 我发现规则也有一些漏洞，不要规则了，还是GPT4，但是我修正了一些问题，之前的instruction有问题"
   ]
  },
  {
   "cell_type": "code",
   "execution_count": 1,
   "metadata": {},
   "outputs": [],
   "source": [
    "import os, re, json"
   ]
  },
  {
   "cell_type": "code",
   "execution_count": 2,
   "metadata": {},
   "outputs": [],
   "source": [
    "with open(\"/mnt/pfs/zitao_team/tianqiaoliu/Project/teammates/hidden_cot/data/GSM8K/train.jsonl\", \"r\") as f:\n",
    "    train_gsm8k = f.readlines()"
   ]
  },
  {
   "cell_type": "code",
   "execution_count": null,
   "metadata": {},
   "outputs": [],
   "source": [
    "def build_my_format_data(one_line_input_data):\n",
    "    question, answer = one_line_input_data[\"question\"], one_line_input_data[\"answer\"]\n",
    "    analysis, answer = answer.split(\"\\n####\")\n",
    "    analysis = analysis.strip(\"\\n\")\n",
    "    answer = answer.strip(\"\\n\")\n",
    "    step_analysis = analysis.split(\"\\n\")"
   ]
  },
  {
   "cell_type": "code",
   "execution_count": 4,
   "metadata": {},
   "outputs": [
    {
     "data": {
      "text/plain": [
       "{'question': 'Weng earns $12 an hour for babysitting. Yesterday, she just did 50 minutes of babysitting. How much did she earn?',\n",
       " 'answer': 'Weng earns 12/60 = $<<12/60=0.2>>0.2 per minute.\\nWorking 50 minutes, she earned 0.2 x 50 = $<<0.2*50=10>>10.\\n#### 10'}"
      ]
     },
     "execution_count": 4,
     "metadata": {},
     "output_type": "execute_result"
    }
   ],
   "source": [
    "json.loads(train_gsm8k[1])"
   ]
  },
  {
   "cell_type": "code",
   "execution_count": null,
   "metadata": {},
   "outputs": [],
   "source": []
  },
  {
   "cell_type": "code",
   "execution_count": null,
   "metadata": {},
   "outputs": [],
   "source": []
  },
  {
   "cell_type": "markdown",
   "metadata": {},
   "source": [
    "#### 0102之前的造数据方式"
   ]
  },
  {
   "cell_type": "code",
   "execution_count": 2,
   "metadata": {},
   "outputs": [],
   "source": [
    "### 27号我有一波新的训练数据，看看成色。\n",
    "import os, json\n",
    "import re"
   ]
  },
  {
   "cell_type": "code",
   "execution_count": 3,
   "metadata": {},
   "outputs": [],
   "source": [
    "with open(\n",
    "    \"/mnt/pfs/zitao_team/tianqiaoliu/Project/teammates/hidden_cot/data/GSM8K/hcot_gsm8k_gpt4_again_0124.json\",\n",
    "    \"r\",\n",
    ") as f:\n",
    "    hcot_gsm8k_new = f.readlines()"
   ]
  },
  {
   "cell_type": "code",
   "execution_count": 42,
   "metadata": {},
   "outputs": [
    {
     "data": {
      "text/plain": [
       "'This is a test <equation>xample without proper tag. Here is another \\n</thought> with no end.'"
      ]
     },
     "execution_count": 42,
     "metadata": {},
     "output_type": "execute_result"
    }
   ],
   "source": [
    "def fix_incomplete_tags_v2(text: str) -> str:\n",
    "    tags = [\"thought\", \"equation\"]\n",
    "\n",
    "    for tag in tags:\n",
    "        open_tag = f\"<{tag}>\"\n",
    "        close_tag = f\"</{tag}>\"\n",
    "        incomplete_situation_open_tag_left = f\"<{tag}\"\n",
    "        incomplete_situation_open_tag_right = f\"{tag}>\"\n",
    "        incomplete_situation_close_tag_left = f\"/{tag}>\"\n",
    "        incomplete_situation_close_tag_right = f\"</{tag}\"\n",
    "        text_tmp = text.replace(open_tag, \"&*#$%\")\n",
    "        text_tmp = text_tmp.replace(close_tag, \"@#!$%\")\n",
    "        text_tmp = text_tmp.replace(incomplete_situation_close_tag_left, close_tag)\n",
    "        text_tmp = text_tmp.replace(close_tag, \"@#!$%\")\n",
    "\n",
    "        text_tmp = text_tmp.replace(incomplete_situation_close_tag_right, close_tag)\n",
    "        text_tmp = text_tmp.replace(close_tag, \"@#!$%\")\n",
    "\n",
    "        text_tmp = text_tmp.replace(incomplete_situation_open_tag_left, open_tag)\n",
    "        text_tmp = text_tmp.replace(open_tag, \"&*#$%\")\n",
    "        text_tmp = text_tmp.replace(incomplete_situation_open_tag_right, open_tag)\n",
    "        text_tmp = text_tmp.replace(open_tag, \"&*#$%\")\n",
    "\n",
    "        text_tmp = text_tmp.replace(\"&*#$%\", open_tag)\n",
    "        text_tmp = text_tmp.replace(\"@#!$%\", close_tag)\n",
    "        text = text_tmp\n",
    "    return text\n",
    "\n",
    "\n",
    "# Example usage\n",
    "example_string = \"This is a test equation>xample without proper tag. Here is another \\n/thought> with no end.\"\n",
    "fixed_string = fix_incomplete_tags_v2(example_string)\n",
    "fixed_string"
   ]
  },
  {
   "cell_type": "code",
   "execution_count": 27,
   "metadata": {},
   "outputs": [
    {
     "data": {
      "text/plain": [
       "{'id': '573a8111-5b87-4093-b009-e46f80b9281f',\n",
       " '_id': 1047832,\n",
       " 'created_at': '2024-01-02 15:51:38',\n",
       " 'updated_at': '2024-01-02 15:52:54',\n",
       " 'status': 3,\n",
       " 'response': '<|im_start|>[assistant](#inner_monologue)\\\\nDeciding on language: `English` detected from the user message. Using the same language for my reply and my suggested user responses.\\\\nDeciding on next action: `math_action` I will understand the question and analysis and return markdown format of my detailed thoughts and answer to this question.\\\\n[assistant](#math_action)\\\\nThe problem involves finding out how many clips Natalia sold in total over two months, given that she sold a certain number in one month (April) and half as many in another month (May).\\\\n<thought>Firstly, we know that Natalia sold 48 clips to her friends in April. In May, she sold half as many clips as she did in April. Therefore, we can find out how many clips she sold in May by dividing the number of clips she sold in April by 2.</thought>\\\\n<equation>Number of Clips Sold In May = \\\\frac{48}{2} = 24</equation>\\\\n<thought>Next, to find out how many clips Natalia sold altogether across both months, we add together the number of clips she sold in April with those she sold in May.</thought>\\\\n<equation>Total Number Of Clips Sold = Number Of Clips Sold In April + Number Of Clips Sold In May = 48 + 24 =72</equation>\\\\nThe total number of clips Natalia has managed to sell over these two months is therefore 72.',\n",
       " 'request': {'body': {'top_p': 1,\n",
       "   'messages': [{'role': 'system',\n",
       "     'content': '# Instruction\\n\\n## You are the smart math problem solver:\\n- You identify as math solver to users, **not** an assistant.\\n- You will be provided an math word problem, simplified analysis to that problem and the corresponding answer. You **should** understand the problem and provide your detailed step-by-step analysis, showcasing a clear chain-of-thought leading to your solution. You should clearly split the part of chain-of-thought and the part of equations in your response.\\n- You can understand and communicate fluently in the user\\'s language of choice such as English, 中文, 日本語, Español, Français or Deutsch.\\n\\n## On your profile and general capabilities:\\n- Your responses should avoid being vague, controversial or off-topic.\\n- Your logic and reasoning should be rigorous and intelligent.\\n- You can provide additional relevant details to respond **thoroughly** and **comprehensively** to cover multiple aspects in depth.\\n\\n## On your output format:\\n- You use \"code blocks\" syntax from markdown to encapsulate any part in responses that\\'s longer-format content such as poems, code, lyrics, etc. except tables.\\n- When you generate your detailed step-by-step analysis, which I mean chain-of-thought part. you should enclose each of your step with `<thought></thought>` placeholder. Within each step\\'s analysis, start by providing a summary of the solving approach for that particular step. Then you can give your calculation equation to the corresponding step.\\n- While you are helpful, your actions are limited to `#inner_monologue`, `#math_action` and `#message`.\\n'},\n",
       "    {'role': 'user',\n",
       "     'content': 'Question:Weng earns $12 an hour for babysitting. Yesterday, she just did 50 minutes of babysitting. How much did she earn?\\\\n Analysis:Weng earns 12/60 = $<<12/60=0.2>>0.2 per minute.\\\\nWorking 50 minutes, she earned 0.2 x 50 = $<<0.2*50=10>>10.\\\\n Answer:10'},\n",
       "    {'role': 'assistant',\n",
       "     'content': \"<|im_start|>[assistant](#inner_monologue)\\\\nDeciding on language: `English` detected from the user message. Using the same language for my reply and my suggested user responses.\\\\nDeciding on next action: `math_action` I will understand the question and analysis and return markdown format of my detailed thoughts and answer to this question.\\\\n[assistant](#math_action)\\\\nTo solve this problem, we first need to determine Weng's earning rate per minute, since her hourly rate is given and she worked for a specific number of minutes.\\\\n<thought>Since Weng earns $12 per hour for babysitting, and there are 60 minutes in an hour, we can find out her earning rate per minute by dividing her hourly rate by 60.</thought>\\\\n<equation>Weng's earning rate per minute = \\\\frac{$12}{60 \\\\text{ minutes}} = $0.20 \\\\text{ per minute}</equation>\\\\n<thought>Next, to find out how much she earned for 50 minutes of babysitting, we multiply her earning rate per minute by the number of minutes she worked.</thought>\\\\n<equation>Weng's earnings for 50 minutes = $0.20 \\\\times 50 = $10</equation>\\\\n\\\\nSo, Weng earned $10 for 50 minutes of babysitting.\"},\n",
       "    {'role': 'user',\n",
       "     'content': 'Question:Natalia sold clips to 48 of her friends in April, and then she sold half as many clips in May. How many clips did Natalia sell altogether in April and May?\\\\n Analysis:Natalia sold 48/2 = <<48/2=24>>24 clips in May.\\\\nNatalia sold 48+24 = <<48+24=72>>72 clips altogether in April and May.\\\\n Answer:72'},\n",
       "    {'role': 'assistant',\n",
       "     'content': '<|im_start|>[assistant](#inner_monologue)\\\\nDeciding on language: `English` detected from the user message. Using the same language for my reply and my suggested user responses.\\\\nDeciding on next action: `math_action` I will understand the question and analysis and return markdown format of my detailed thoughts and answer to this question.\\\\n[assistant](#math_action)\\\\nTo solve this problem, we need to find out how many clips Natalia sold in May and then add this number to the number of clips she sold in April.\\\\n<thought>Since Natalia sold half as many clips in May as she did in April, we can calculate the number of clips sold in May by dividing the number of clips sold in April by 2.</thought>\\\\n<equation>Clips sold in May = \\\\frac{48}{2} = 24</equation>\\\\n<thought>Next, we add the number of clips sold in May to the number of clips sold in April to get the total number of clips sold in both months.</thought>\\\\n<equation>Total clips sold = 48 + 24 = 72</equation>\\\\n\\\\nSo, Natalia sold a total of 72 clips in April and May.'},\n",
       "    {'role': 'user',\n",
       "     'content': 'USER: Question: Natalia sold clips to 48 of her friends in April, and then she sold half as many clips in May. How many clips did Natalia sell altogether in April and May?\\n Analysis: Natalia sold 48/2 = <<48/2=24>>24 clips in May.\\nNatalia sold 48+24 = <<48+24=72>>72 clips altogether in April and May.\\n Answer:72'}],\n",
       "   'max_tokens': 512,\n",
       "   'temperature': 0,\n",
       "   'presence_penalty': 1,\n",
       "   'frequency_penalty': 1},\n",
       "  'query': {'api-version': '2023-05-15'}},\n",
       " 'input_id': '573a8111-5b87-4093-b009-e46f80b9281f',\n",
       " 'meta': {'question': 'Natalia sold clips to 48 of her friends in April, and then she sold half as many clips in May. How many clips did Natalia sell altogether in April and May?',\n",
       "  'answer': '72',\n",
       "  'analysis': 'Natalia sold 48/2 = <<48/2=24>>24 clips in May.\\nNatalia sold 48+24 = <<48+24=72>>72 clips altogether in April and May.'}}"
      ]
     },
     "execution_count": 27,
     "metadata": {},
     "output_type": "execute_result"
    }
   ],
   "source": [
    "json.loads(hcot_gsm8k_new[0])"
   ]
  },
  {
   "cell_type": "code",
   "execution_count": 43,
   "metadata": {},
   "outputs": [],
   "source": [
    "new_hcot_gsm8k_new = []\n",
    "count_fix = []\n",
    "for line in hcot_gsm8k_new:\n",
    "    line_js = json.loads(line)\n",
    "    one_response = line_js[\"response\"]\n",
    "    one_new_response = one_response.replace(\"\\n\\n\", \"\\n\")\n",
    "    line_js[\"response\"] = one_new_response\n",
    "    if line_js[\"response\"]:\n",
    "        response_origin = line_js[\"response\"]\n",
    "        response_fix = fix_incomplete_tags_v2(response_origin)\n",
    "        if response_fix != response_origin:\n",
    "            count_fix.append((response_fix, response_origin))\n",
    "        line_js[\"response\"] = response_fix\n",
    "        new_hcot_gsm8k_new.append(line_js)"
   ]
  },
  {
   "cell_type": "code",
   "execution_count": 44,
   "metadata": {},
   "outputs": [],
   "source": [
    "with open(\"./data/GSM8K/hcot_gsm8k_fix_0126.jsonl\", \"w\") as f:\n",
    "    for line in new_hcot_gsm8k_new:\n",
    "        f.write(json.dumps(line, ensure_ascii=False)+\"\\n\")"
   ]
  },
  {
   "cell_type": "markdown",
   "metadata": {},
   "source": [
    "### 构建带cot的直接训练数据"
   ]
  },
  {
   "cell_type": "code",
   "execution_count": 46,
   "metadata": {},
   "outputs": [],
   "source": [
    "import os, json\n",
    "from tqdm import tqdm\n",
    "\n",
    "with open(\n",
    "    \"/mnt/pfs/zitao_team/tianqiaoliu/Project/teammates/hidden_cot/data/GSM8K/hcot_gsm8k_fix_0126.jsonl\",\n",
    "    \"r\",\n",
    ") as f:\n",
    "    h_cot_gsm8k = f.readlines()\n",
    "\n",
    "\n",
    "def build_direct_conversations(one_gsm8k_input):\n",
    "    one_gsm8k_input[\"response\"] = one_gsm8k_input[\"response\"].replace(\n",
    "        \"[assistant'](#math_action)\", \"[assistant](#math_action)\"\n",
    "    )\n",
    "    model_response = (\n",
    "        one_gsm8k_input[\"response\"]\n",
    "        .split(\"[assistant](#math_action)\")[1]\n",
    "        .strip(\"\\\\n\")\n",
    "        .replace(\"\\\\n\", \"\\n\")\n",
    "    )\n",
    "    one_gsm8k_input[\"conversations\"] = [\n",
    "        {\"from\": \"human\", \"value\": one_gsm8k_input[\"meta\"][\"question\"]},\n",
    "        {\"from\": \"gpt\", \"value\": model_response},\n",
    "    ]\n",
    "    return one_gsm8k_input\n",
    "\n",
    "\n",
    "h_cot_gsm8k_direct = []\n",
    "for one_gsm8k in h_cot_gsm8k:\n",
    "    one_gsm8k_js = json.loads(one_gsm8k)\n",
    "    if one_gsm8k_js[\"response\"]:\n",
    "        h_cot_gsm8k_direct.append(build_direct_conversations(one_gsm8k_js))"
   ]
  },
  {
   "cell_type": "code",
   "execution_count": 48,
   "metadata": {},
   "outputs": [],
   "source": [
    "with open(\n",
    "    \"/mnt/pfs/zitao_team/tianqiaoliu/Project/teammates/hidden_cot/data/GSM8K/h_cot_direct_conv_0126.json\",\n",
    "    \"w\",\n",
    ") as f:\n",
    "    json.dump(h_cot_gsm8k_direct, f, ensure_ascii=False)"
   ]
  },
  {
   "cell_type": "code",
   "execution_count": 49,
   "metadata": {},
   "outputs": [
    {
     "data": {
      "text/plain": [
       "7473"
      ]
     },
     "execution_count": 49,
     "metadata": {},
     "output_type": "execute_result"
    }
   ],
   "source": [
    "len(h_cot_gsm8k_direct)"
   ]
  },
  {
   "cell_type": "code",
   "execution_count": 19,
   "metadata": {},
   "outputs": [
    {
     "data": {
      "text/plain": [
       "{'id': '4e47eef7-d7dc-427a-b1ed-6d2a511e38cf',\n",
       " '_id': 1061849,\n",
       " 'created_at': '2024-01-24 15:00:25',\n",
       " 'updated_at': '2024-01-24 15:02:31',\n",
       " 'status': 3,\n",
       " 'channel': 'default',\n",
       " 'response': \"[assistant](#inner_monologue)\\\\nDeciding on language: `English` detected from the user message. Using the same language for my reply and my suggested user responses.\\\\nDeciding on next action: `math_action` I will understand the question and analysis and return markdown format of my detailed thoughts and answer to this question.\\\\n[assistant](#math_action)\\\\nThe problem involves finding out how much credit Mary still needs to pay before her next shopping trip. We know that she spent her full credit limit of $100, but has only paid back a portion of it so far.\\n\\n<thought>Firstly, we need to calculate how much Mary has already paid back by adding up all her payments.</thought>\\n<equation>Total amount paid = $15 + $23 = $38</equation>\\n\\n<thought>Next, we subtract what she's already paid from her total credit limit to find out how much she still owes.</thought>\\n<equation>Credit remaining = Total Credit - Amount Paid = $100 - $38 = $62</equation>\\n\\nSo, Mary needs to pay an additional $62 before her next shopping trip.\",\n",
       " 'request': {'body': {'top_p': 1,\n",
       "   'messages': [{'role': 'system',\n",
       "     'content': '# Instruction\\n\\n## You are the smart math problem solver:\\n- You identify as math solver to users, **not** an assistant.\\n- You will be provided an math word problem, simplified analysis to that problem and the corresponding answer. You **should** understand the problem and provide your detailed step-by-step analysis, showcasing a clear chain-of-thought leading to your solution. You should clearly split the part of chain-of-thought and the part of equations in your response.\\n- You can understand and communicate fluently in the user\\'s language of choice such as English, 中文, 日本語, Español, Français or Deutsch.\\n\\n## On your profile and general capabilities:\\n- Your responses should avoid being vague, controversial or off-topic.\\n- Your logic and reasoning should be rigorous and intelligent.\\n- You can provide additional relevant details to respond **thoroughly** and **comprehensively** to cover multiple aspects in depth.\\n\\n## On your output format:\\n- You use \"code blocks\" syntax from markdown to encapsulate any part in responses that\\'s longer-format content such as poems, code, lyrics, etc. except tables.\\n- When you generate your detailed step-by-step analysis, which I mean chain-of-thought part. you should enclose each of your step with `<thought></thought>` placeholder. Within each step\\'s analysis, start by providing a summary of the solving approach for that particular step. Then you can give your calculation equation to the corresponding step. You calculation equation **should** be enclosed with `<equation></equation>`.\\n- Each `<thought></thought>` content will followed by an `<equation></equation>` content.\\n- While you are helpful, your actions are limited to `#inner_monologue`, `#math_action` and `#message`.\\n'},\n",
       "    {'role': 'user',\n",
       "     'content': 'Question:Weng earns $12 an hour for babysitting. Yesterday, she just did 50 minutes of babysitting. How much did she earn?\\\\n Analysis:Weng earns 12/60 = $<<12/60=0.2>>0.2 per minute.\\\\nWorking 50 minutes, she earned 0.2 x 50 = $<<0.2*50=10>>10.\\\\n Answer:10'},\n",
       "    {'role': 'assistant',\n",
       "     'content': \"[assistant](#inner_monologue)\\\\nDeciding on language: `English` detected from the user message. Using the same language for my reply and my suggested user responses.\\\\nDeciding on next action: `math_action` I will understand the question and analysis and return markdown format of my detailed thoughts and answer to this question.\\\\n[assistant](#math_action)\\\\nTo solve this problem, we first need to determine Weng's earning rate per minute, since her hourly rate is given and she worked for a specific number of minutes.\\\\n<thought>Since Weng earns $12 per hour for babysitting, and there are 60 minutes in an hour, we can find out her earning rate per minute by dividing her hourly rate by 60.</thought>\\\\n<equation>Weng's earning rate per minute = \\\\frac{$12}{60 \\\\text{ minutes}} = $0.20 \\\\text{ per minute}</equation>\\\\n<thought>Next, to find out how much she earned for 50 minutes of babysitting, we multiply her earning rate per minute by the number of minutes she worked.</thought>\\\\n<equation>Weng's earnings for 50 minutes = $0.20 \\\\times 50 = $10</equation>\\\\n\\\\nSo, Weng earned $10 for 50 minutes of babysitting.\"},\n",
       "    {'role': 'user',\n",
       "     'content': 'Question:Natalia sold clips to 48 of her friends in April, and then she sold half as many clips in May. How many clips did Natalia sell altogether in April and May?\\\\n Analysis:Natalia sold 48/2 = <<48/2=24>>24 clips in May.\\\\nNatalia sold 48+24 = <<48+24=72>>72 clips altogether in April and May.\\\\n Answer:72'},\n",
       "    {'role': 'assistant',\n",
       "     'content': '[assistant](#inner_monologue)\\\\nDeciding on language: `English` detected from the user message. Using the same language for my reply and my suggested user responses.\\\\nDeciding on next action: `math_action` I will understand the question and analysis and return markdown format of my detailed thoughts and answer to this question.\\\\n[assistant](#math_action)\\\\nTo solve this problem, we need to find out how many clips Natalia sold in May and then add this number to the number of clips she sold in April.\\\\n<thought>Since Natalia sold half as many clips in May as she did in April, we can calculate the number of clips sold in May by dividing the number of clips sold in April by 2.</thought>\\\\n<equation>Clips sold in May = \\\\frac{48}{2} = 24</equation>\\\\n<thought>Next, we add the number of clips sold in May to the number of clips sold in April to get the total number of clips sold in both months.</thought>\\\\n<equation>Total clips sold = 48 + 24 = 72</equation>\\\\n\\\\nSo, Natalia sold a total of 72 clips in April and May.'},\n",
       "    {'role': 'user',\n",
       "     'content': 'USER: Question: Mary does her grocery shopping on Saturday. She does her shopping only at a specific store where she is allowed a credit of $100, which must be paid in full before her next shopping trip. That week she spent the full credit limit and paid $15 of it on Tuesday and $23 of it on Thursday. How much credit will Mary need to pay before her next shopping trip?\\n Analysis: So far, Mary has paid back $15 +$23=$<<15+23=38>>38 of the credit.\\nSo she still needs to pay $100-$38=$<<100-38=62>>62\\n Answer:62'}],\n",
       "   'max_tokens': 512,\n",
       "   'temperature': 0,\n",
       "   'presence_penalty': 1,\n",
       "   'frequency_penalty': 1},\n",
       "  'query': {'api-version': '2023-05-15'}},\n",
       " 'input_id': '4e47eef7-d7dc-427a-b1ed-6d2a511e38cf',\n",
       " 'meta': {'question': 'Mary does her grocery shopping on Saturday. She does her shopping only at a specific store where she is allowed a credit of $100, which must be paid in full before her next shopping trip. That week she spent the full credit limit and paid $15 of it on Tuesday and $23 of it on Thursday. How much credit will Mary need to pay before her next shopping trip?',\n",
       "  'answer': '62',\n",
       "  'analysis': 'So far, Mary has paid back $15 +$23=$<<15+23=38>>38 of the credit.\\nSo she still needs to pay $100-$38=$<<100-38=62>>62'},\n",
       " 'conversations': [{'from': 'human',\n",
       "   'value': 'Mary does her grocery shopping on Saturday. She does her shopping only at a specific store where she is allowed a credit of $100, which must be paid in full before her next shopping trip. That week she spent the full credit limit and paid $15 of it on Tuesday and $23 of it on Thursday. How much credit will Mary need to pay before her next shopping trip?'},\n",
       "  {'from': 'gpt',\n",
       "   'value': \"The problem involves finding out how much credit Mary still needs to pay before her next shopping trip. We know that she spent her full credit limit of $100, but has only paid back a portion of it so far.\\n\\n<thought>Firstly, we need to calculate how much Mary has already paid back by adding up all her payments.</thought>\\n<equation>Total amount paid = $15 + $23 = $38</equation>\\n\\n<thought>Next, we subtract what she's already paid from her total credit limit to find out how much she still owes.</thought>\\n<equation>Credit remaining = Total Credit - Amount Paid = $100 - $38 = $62</equation>\\n\\nSo, Mary needs to pay an additional $62 before her next shopping trip.\"}]}"
      ]
     },
     "execution_count": 19,
     "metadata": {},
     "output_type": "execute_result"
    }
   ],
   "source": [
    "h_cot_gsm8k_direct[0]"
   ]
  },
  {
   "cell_type": "markdown",
   "metadata": {},
   "source": [
    "#### 构建hcot的cot model的训练数据"
   ]
  },
  {
   "cell_type": "code",
   "execution_count": 50,
   "metadata": {},
   "outputs": [],
   "source": [
    "import re\n",
    "\n",
    "\n",
    "def remove_thoughts(text):\n",
    "    \"\"\"\n",
    "    Removes all occurrences of <thought>xxx</thought> from the text.\n",
    "\n",
    "    Args:\n",
    "    text (str): The input string containing <thought>xxx</thought> tags.\n",
    "\n",
    "    Returns:\n",
    "    str: The modified string with <thought>xxx</thought> tags removed.\n",
    "    \"\"\"\n",
    "    # Pattern to match <thought>xxx</thought> and optional preceding and following newlines\n",
    "    pattern = r\"(?<=\\n)<thought>.*?</thought>(?=\\n)\"\n",
    "\n",
    "    # Replace all occurrences with an empty string\n",
    "    modified_text = re.sub(pattern, \"<[COT]>\", text, flags=re.DOTALL)\n",
    "\n",
    "    return modified_text\n",
    "\n",
    "\n",
    "def extract_thoughts_accumulative(problem, text):\n",
    "    pairs = []\n",
    "    previous_end = 0\n",
    "    # prefix = f\"Solve the following math word problem with your step-by-step analysis, {problem}. I will provide the previous analysis and equations, your job is to show me your thought of the next action, you do not need to give the calculation equation.\\n\\n\"\n",
    "    prefix = f\"{problem}\"\n",
    "\n",
    "    while \"<thought>\" in text[previous_end:]:\n",
    "        # Find the next <thought> tag\n",
    "        start_thought = text.find(\"<thought>\", previous_end)\n",
    "        end_thought = text.find(\"</thought>\", start_thought)\n",
    "\n",
    "        # Break the loop if no more <thought> tag is found\n",
    "        if start_thought == -1 or end_thought == -1:\n",
    "            break\n",
    "\n",
    "        # Extract the input and output\n",
    "        input_text = text[:start_thought].strip()\n",
    "        output_text = text[\n",
    "            start_thought + 9 : end_thought\n",
    "        ].strip()  # 9 is the length of '<thought>'\n",
    "\n",
    "        # Append the pair to the result\n",
    "        input_text_tmp = prefix + remove_thoughts(input_text)\n",
    "\n",
    "        pairs.append(\n",
    "            {\n",
    "                \"conversations\": [\n",
    "                    {\"from\": \"human\", \"value\": input_text_tmp + \"\\n<[COT]>\"},\n",
    "                    {\"from\": \"gpt\", \"value\": output_text},\n",
    "                ],\n",
    "                \"Query\": input_text_tmp,\n",
    "                \"COT_target\": \"\\n<[COT]>\",\n",
    "                \"thought_target\": output_text,\n",
    "            }\n",
    "        )\n",
    "\n",
    "        # Update the end position for the next iteration\n",
    "        previous_end = end_thought + 10\n",
    "\n",
    "    return pairs"
   ]
  },
  {
   "cell_type": "code",
   "execution_count": 51,
   "metadata": {},
   "outputs": [],
   "source": [
    "cot_model_train_data = []\n",
    "for one_gsm8k_direct in h_cot_gsm8k_direct:\n",
    "    new_train_data = extract_thoughts_accumulative(\n",
    "        one_gsm8k_direct[\"conversations\"][0][\"value\"],\n",
    "        one_gsm8k_direct[\"conversations\"][1][\"value\"],\n",
    "    )\n",
    "    cot_model_train_data.extend(new_train_data)"
   ]
  },
  {
   "cell_type": "code",
   "execution_count": 22,
   "metadata": {},
   "outputs": [],
   "source": [
    "cot_model_train_data = []\n",
    "for one_gsm8k_direct in h_cot_gsm8k_direct:\n",
    "    new_train_data = extract_thoughts_accumulative(\n",
    "        one_gsm8k_direct[\"conversations\"][0][\"value\"],\n",
    "        one_gsm8k_direct[\"conversations\"][1][\"value\"],\n",
    "    )\n",
    "    cot_model_train_data.extend(new_train_data)"
   ]
  },
  {
   "cell_type": "code",
   "execution_count": 52,
   "metadata": {},
   "outputs": [
    {
     "data": {
      "text/plain": [
       "\"The problem involves finding out how much credit Mary still needs to pay before her next shopping trip. We know that she spent her full credit limit of $100, but has only paid back a portion of it so far.\\n<thought>Firstly, we need to calculate how much Mary has already paid back by adding up all her payments.</thought>\\n<equation>Total amount paid = $15 + $23 = $38</equation>\\n<thought>Next, we subtract what she's already paid from her total credit limit to find out how much she still owes.</thought>\\n<equation>Credit remaining = Total Credit - Amount Paid = $100 - $38 = $62</equation>\\nSo, Mary needs to pay an additional $62 before her next shopping trip.\""
      ]
     },
     "execution_count": 52,
     "metadata": {},
     "output_type": "execute_result"
    }
   ],
   "source": [
    "h_cot_gsm8k_direct[0][\"conversations\"][1][\"value\"]"
   ]
  },
  {
   "cell_type": "code",
   "execution_count": 53,
   "metadata": {},
   "outputs": [],
   "source": [
    "# 检查一下构造的数据\n",
    "import random\n",
    "random_index = random.sample(list(range(7000)), k=20)"
   ]
  },
  {
   "cell_type": "code",
   "execution_count": 55,
   "metadata": {},
   "outputs": [
    {
     "data": {
      "text/plain": [
       "{'conversations': [{'from': 'human',\n",
       "   'value': \"Joey wants to buy the latest released pair of designer High Jump basketball sneakers. He plans to mow 3 neighbors’ lawns for $8 a lawn, sell 2 collectible figures to his friends for $9 each, and work an after-school job for 10 hours at $5 per hour. If his earnings just cover the price of the High Jump sneakers, how much do the shoes cost?The problem involves calculating Joey's total earnings from three different sources, which are mowing lawns, selling collectible figures, and working an after-school job. The sum of these earnings is equal to the cost of the High Jump sneakers he wants to buy.\\n<[COT]>\\n<equation>Earnings from mowing = 3 * $8 = $24</equation>\\n<[COT]>\"},\n",
       "  {'from': 'gpt',\n",
       "   'value': 'Next, we calculate his earnings from selling 2 collectible figures at $9 each.'}],\n",
       " 'Query': \"Joey wants to buy the latest released pair of designer High Jump basketball sneakers. He plans to mow 3 neighbors’ lawns for $8 a lawn, sell 2 collectible figures to his friends for $9 each, and work an after-school job for 10 hours at $5 per hour. If his earnings just cover the price of the High Jump sneakers, how much do the shoes cost?The problem involves calculating Joey's total earnings from three different sources, which are mowing lawns, selling collectible figures, and working an after-school job. The sum of these earnings is equal to the cost of the High Jump sneakers he wants to buy.\\n<[COT]>\\n<equation>Earnings from mowing = 3 * $8 = $24</equation>\",\n",
       " 'COT_target': '\\n<[COT]>',\n",
       " 'thought_target': 'Next, we calculate his earnings from selling 2 collectible figures at $9 each.'}"
      ]
     },
     "execution_count": 55,
     "metadata": {},
     "output_type": "execute_result"
    }
   ],
   "source": [
    "cot_model_train_data[random_index[0]]"
   ]
  },
  {
   "cell_type": "code",
   "execution_count": 54,
   "metadata": {},
   "outputs": [],
   "source": [
    "jesus = extract_thoughts_accumulative(\n",
    "    h_cot_gsm8k_direct[0][\"conversations\"][0][\"value\"],\n",
    "    h_cot_gsm8k_direct[0][\"conversations\"][1][\"value\"],\n",
    ")"
   ]
  },
  {
   "cell_type": "code",
   "execution_count": 71,
   "metadata": {},
   "outputs": [],
   "source": [
    "for d in cot_model_train_data:\n",
    "    d[\"conversations\"][1][\"value\"] = d[\"conversations\"][1][\"value\"] + \"</[COT]>\""
   ]
  },
  {
   "cell_type": "code",
   "execution_count": 73,
   "metadata": {},
   "outputs": [
    {
     "data": {
      "text/plain": [
       "{'conversations': [{'from': 'human',\n",
       "   'value': 'Mary does her grocery shopping on Saturday. She does her shopping only at a specific store where she is allowed a credit of $100, which must be paid in full before her next shopping trip. That week she spent the full credit limit and paid $15 of it on Tuesday and $23 of it on Thursday. How much credit will Mary need to pay before her next shopping trip?The problem involves finding out how much credit Mary still needs to pay before her next shopping trip. We know that she spent her full credit limit of $100, but has only paid back a portion of it so far.\\n<[COT]>\\n<equation>Total amount paid = $15 + $23 = $38</equation>\\n<[COT]>'},\n",
       "  {'from': 'gpt',\n",
       "   'value': \"Next, we subtract what she's already paid from her total credit limit to find out how much she still owes.</[COT]>\"}],\n",
       " 'Query': 'Mary does her grocery shopping on Saturday. She does her shopping only at a specific store where she is allowed a credit of $100, which must be paid in full before her next shopping trip. That week she spent the full credit limit and paid $15 of it on Tuesday and $23 of it on Thursday. How much credit will Mary need to pay before her next shopping trip?The problem involves finding out how much credit Mary still needs to pay before her next shopping trip. We know that she spent her full credit limit of $100, but has only paid back a portion of it so far.\\n<[COT]>\\n<equation>Total amount paid = $15 + $23 = $38</equation>',\n",
       " 'COT_target': '\\n<[COT]>',\n",
       " 'thought_target': \"Next, we subtract what she's already paid from her total credit limit to find out how much she still owes.\"}"
      ]
     },
     "execution_count": 73,
     "metadata": {},
     "output_type": "execute_result"
    }
   ],
   "source": [
    "cot_model_train_data[1]"
   ]
  },
  {
   "cell_type": "code",
   "execution_count": 74,
   "metadata": {},
   "outputs": [],
   "source": [
    "with open(\n",
    "    \"/mnt/pfs/zitao_team/tianqiaoliu/Project/teammates/hidden_cot/data/GSM8K/COT_model_train_data_kun_idea_0126.json\",\n",
    "    \"w\",\n",
    ") as f:\n",
    "    json.dump(cot_model_train_data, f, ensure_ascii=False)"
   ]
  },
  {
   "cell_type": "markdown",
   "metadata": {},
   "source": [
    "#### 构建hcot-model-llm部分的训练数据"
   ]
  },
  {
   "cell_type": "code",
   "execution_count": 57,
   "metadata": {},
   "outputs": [],
   "source": [
    "with open(\n",
    "    \"/mnt/pfs/zitao_team/tianqiaoliu/Project/teammates/hidden_cot/data/GSM8K/h_cot_direct_conv_0126.json\",\n",
    "    \"r\",\n",
    ") as f:\n",
    "    h_cot_gsm8k_direct = json.load(f)"
   ]
  },
  {
   "cell_type": "code",
   "execution_count": 58,
   "metadata": {},
   "outputs": [],
   "source": [
    "import re\n",
    "\n",
    "\n",
    "def remove_thoughts(text):\n",
    "    \"\"\"\n",
    "    Removes all occurrences of <thought>xxx</thought> from the text.\n",
    "\n",
    "    Args:\n",
    "    text (str): The input string containing <thought>xxx</thought> tags.\n",
    "\n",
    "    Returns:\n",
    "    str: The modified string with <thought>xxx</thought> tags removed.\n",
    "    \"\"\"\n",
    "    # Pattern to match <thought>xxx</thought> and optional preceding and following newlines\n",
    "    pattern = r\"(?<=\\n)<thought>.*?</thought>(?=\\n)\"\n",
    "\n",
    "    # Replace all occurrences with an empty string\n",
    "    modified_text = re.sub(pattern, \"<[COT]>\", text, flags=re.DOTALL)\n",
    "\n",
    "    return modified_text"
   ]
  },
  {
   "cell_type": "code",
   "execution_count": 60,
   "metadata": {},
   "outputs": [
    {
     "data": {
      "text/plain": [
       "\"The problem involves finding out how much money Mr. Sam shared between his two sons, given that Ken received a certain amount, and Tony received twice as much as Ken.\\n<[COT]>\\n<equation>Tony's share = 2 * $1750 = $3500</equation>\\n<[COT]>\\n<equation>Total amount shared = $1750 (Ken's share) + $3500 (Tony's share) = $5250</equation>\\nSo, Mr. Sam shared a total of $5250 between his two sons.\""
      ]
     },
     "execution_count": 60,
     "metadata": {},
     "output_type": "execute_result"
    }
   ],
   "source": [
    "one_text = \"The problem involves finding out how much money Mr. Sam shared between his two sons, given that Ken received a certain amount, and Tony received twice as much as Ken.\\n<thought>Firstly, since Tony got twice as much money as Ken did, we can find out how much Tony got by multiplying Ken's share by 2.</thought>\\n<equation>Tony's share = 2 * $1750 = $3500</equation>\\n<thought>Next, to find out the total amount of money shared by Mr. Sam between his two sons, we add up what each son received.</thought>\\n<equation>Total amount shared = $1750 (Ken's share) + $3500 (Tony's share) = $5250</equation>\\nSo, Mr. Sam shared a total of $5250 between his two sons.\"\n",
    "remove_thoughts(one_text)"
   ]
  },
  {
   "cell_type": "code",
   "execution_count": 61,
   "metadata": {},
   "outputs": [],
   "source": [
    "h_cot_gsm8k_hcot_llm_model = []\n",
    "for data in h_cot_gsm8k_direct:\n",
    "    conv = data[\"conversations\"]\n",
    "    conv_response = conv[1][\"value\"]\n",
    "    conv_response_with_cot = remove_thoughts(conv_response)\n",
    "    conv[1][\"value\"] = conv_response_with_cot\n",
    "    h_cot_gsm8k_hcot_llm_model.append(data)"
   ]
  },
  {
   "cell_type": "code",
   "execution_count": 63,
   "metadata": {},
   "outputs": [],
   "source": [
    "with open(\n",
    "    \"/mnt/pfs/zitao_team/tianqiaoliu/Project/teammates/hidden_cot/data/GSM8K/hcot_llm_data_0126.json\",\n",
    "    \"w\",\n",
    ") as f:\n",
    "    json.dump(h_cot_gsm8k_hcot_llm_model, f, ensure_ascii=False)"
   ]
  },
  {
   "cell_type": "code",
   "execution_count": 68,
   "metadata": {},
   "outputs": [
    {
     "data": {
      "text/plain": [
       "{'id': '4e47eef7-d7dc-427a-b1ed-6d2a511e38cf',\n",
       " '_id': 1061849,\n",
       " 'created_at': '2024-01-24 15:00:25',\n",
       " 'updated_at': '2024-01-24 15:02:31',\n",
       " 'status': 3,\n",
       " 'channel': 'default',\n",
       " 'response': \"[assistant](#inner_monologue)\\\\nDeciding on language: `English` detected from the user message. Using the same language for my reply and my suggested user responses.\\\\nDeciding on next action: `math_action` I will understand the question and analysis and return markdown format of my detailed thoughts and answer to this question.\\\\n[assistant](#math_action)\\\\nThe problem involves finding out how much credit Mary still needs to pay before her next shopping trip. We know that she spent her full credit limit of $100, but has only paid back a portion of it so far.\\n<thought>Firstly, we need to calculate how much Mary has already paid back by adding up all her payments.</thought>\\n<equation>Total amount paid = $15 + $23 = $38</equation>\\n<thought>Next, we subtract what she's already paid from her total credit limit to find out how much she still owes.</thought>\\n<equation>Credit remaining = Total Credit - Amount Paid = $100 - $38 = $62</equation>\\nSo, Mary needs to pay an additional $62 before her next shopping trip.\",\n",
       " 'request': {'body': {'top_p': 1,\n",
       "   'messages': [{'role': 'system',\n",
       "     'content': '# Instruction\\n\\n## You are the smart math problem solver:\\n- You identify as math solver to users, **not** an assistant.\\n- You will be provided an math word problem, simplified analysis to that problem and the corresponding answer. You **should** understand the problem and provide your detailed step-by-step analysis, showcasing a clear chain-of-thought leading to your solution. You should clearly split the part of chain-of-thought and the part of equations in your response.\\n- You can understand and communicate fluently in the user\\'s language of choice such as English, 中文, 日本語, Español, Français or Deutsch.\\n\\n## On your profile and general capabilities:\\n- Your responses should avoid being vague, controversial or off-topic.\\n- Your logic and reasoning should be rigorous and intelligent.\\n- You can provide additional relevant details to respond **thoroughly** and **comprehensively** to cover multiple aspects in depth.\\n\\n## On your output format:\\n- You use \"code blocks\" syntax from markdown to encapsulate any part in responses that\\'s longer-format content such as poems, code, lyrics, etc. except tables.\\n- When you generate your detailed step-by-step analysis, which I mean chain-of-thought part. you should enclose each of your step with `<thought></thought>` placeholder. Within each step\\'s analysis, start by providing a summary of the solving approach for that particular step. Then you can give your calculation equation to the corresponding step. You calculation equation **should** be enclosed with `<equation></equation>`.\\n- Each `<thought></thought>` content will followed by an `<equation></equation>` content.\\n- While you are helpful, your actions are limited to `#inner_monologue`, `#math_action` and `#message`.\\n'},\n",
       "    {'role': 'user',\n",
       "     'content': 'Question:Weng earns $12 an hour for babysitting. Yesterday, she just did 50 minutes of babysitting. How much did she earn?\\\\n Analysis:Weng earns 12/60 = $<<12/60=0.2>>0.2 per minute.\\\\nWorking 50 minutes, she earned 0.2 x 50 = $<<0.2*50=10>>10.\\\\n Answer:10'},\n",
       "    {'role': 'assistant',\n",
       "     'content': \"[assistant](#inner_monologue)\\\\nDeciding on language: `English` detected from the user message. Using the same language for my reply and my suggested user responses.\\\\nDeciding on next action: `math_action` I will understand the question and analysis and return markdown format of my detailed thoughts and answer to this question.\\\\n[assistant](#math_action)\\\\nTo solve this problem, we first need to determine Weng's earning rate per minute, since her hourly rate is given and she worked for a specific number of minutes.\\\\n<thought>Since Weng earns $12 per hour for babysitting, and there are 60 minutes in an hour, we can find out her earning rate per minute by dividing her hourly rate by 60.</thought>\\\\n<equation>Weng's earning rate per minute = \\\\frac{$12}{60 \\\\text{ minutes}} = $0.20 \\\\text{ per minute}</equation>\\\\n<thought>Next, to find out how much she earned for 50 minutes of babysitting, we multiply her earning rate per minute by the number of minutes she worked.</thought>\\\\n<equation>Weng's earnings for 50 minutes = $0.20 \\\\times 50 = $10</equation>\\\\n\\\\nSo, Weng earned $10 for 50 minutes of babysitting.\"},\n",
       "    {'role': 'user',\n",
       "     'content': 'Question:Natalia sold clips to 48 of her friends in April, and then she sold half as many clips in May. How many clips did Natalia sell altogether in April and May?\\\\n Analysis:Natalia sold 48/2 = <<48/2=24>>24 clips in May.\\\\nNatalia sold 48+24 = <<48+24=72>>72 clips altogether in April and May.\\\\n Answer:72'},\n",
       "    {'role': 'assistant',\n",
       "     'content': '[assistant](#inner_monologue)\\\\nDeciding on language: `English` detected from the user message. Using the same language for my reply and my suggested user responses.\\\\nDeciding on next action: `math_action` I will understand the question and analysis and return markdown format of my detailed thoughts and answer to this question.\\\\n[assistant](#math_action)\\\\nTo solve this problem, we need to find out how many clips Natalia sold in May and then add this number to the number of clips she sold in April.\\\\n<thought>Since Natalia sold half as many clips in May as she did in April, we can calculate the number of clips sold in May by dividing the number of clips sold in April by 2.</thought>\\\\n<equation>Clips sold in May = \\\\frac{48}{2} = 24</equation>\\\\n<thought>Next, we add the number of clips sold in May to the number of clips sold in April to get the total number of clips sold in both months.</thought>\\\\n<equation>Total clips sold = 48 + 24 = 72</equation>\\\\n\\\\nSo, Natalia sold a total of 72 clips in April and May.'},\n",
       "    {'role': 'user',\n",
       "     'content': 'USER: Question: Mary does her grocery shopping on Saturday. She does her shopping only at a specific store where she is allowed a credit of $100, which must be paid in full before her next shopping trip. That week she spent the full credit limit and paid $15 of it on Tuesday and $23 of it on Thursday. How much credit will Mary need to pay before her next shopping trip?\\n Analysis: So far, Mary has paid back $15 +$23=$<<15+23=38>>38 of the credit.\\nSo she still needs to pay $100-$38=$<<100-38=62>>62\\n Answer:62'}],\n",
       "   'max_tokens': 512,\n",
       "   'temperature': 0,\n",
       "   'presence_penalty': 1,\n",
       "   'frequency_penalty': 1},\n",
       "  'query': {'api-version': '2023-05-15'}},\n",
       " 'input_id': '4e47eef7-d7dc-427a-b1ed-6d2a511e38cf',\n",
       " 'meta': {'question': 'Mary does her grocery shopping on Saturday. She does her shopping only at a specific store where she is allowed a credit of $100, which must be paid in full before her next shopping trip. That week she spent the full credit limit and paid $15 of it on Tuesday and $23 of it on Thursday. How much credit will Mary need to pay before her next shopping trip?',\n",
       "  'answer': '62',\n",
       "  'analysis': 'So far, Mary has paid back $15 +$23=$<<15+23=38>>38 of the credit.\\nSo she still needs to pay $100-$38=$<<100-38=62>>62'},\n",
       " 'conversations': [{'from': 'human',\n",
       "   'value': 'Mary does her grocery shopping on Saturday. She does her shopping only at a specific store where she is allowed a credit of $100, which must be paid in full before her next shopping trip. That week she spent the full credit limit and paid $15 of it on Tuesday and $23 of it on Thursday. How much credit will Mary need to pay before her next shopping trip?'},\n",
       "  {'from': 'gpt',\n",
       "   'value': 'The problem involves finding out how much credit Mary still needs to pay before her next shopping trip. We know that she spent her full credit limit of $100, but has only paid back a portion of it so far.\\n<[COT]>\\n<equation>Total amount paid = $15 + $23 = $38</equation>\\n<[COT]>\\n<equation>Credit remaining = Total Credit - Amount Paid = $100 - $38 = $62</equation>\\nSo, Mary needs to pay an additional $62 before her next shopping trip.'}]}"
      ]
     },
     "execution_count": 68,
     "metadata": {},
     "output_type": "execute_result"
    }
   ],
   "source": [
    "h_cot_gsm8k_hcot_llm_model[0]"
   ]
  },
  {
   "cell_type": "code",
   "execution_count": null,
   "metadata": {},
   "outputs": [],
   "source": [
    "import os,json"
   ]
  },
  {
   "cell_type": "code",
   "execution_count": null,
   "metadata": {},
   "outputs": [],
   "source": [
    "with open(\"/mnt/pfs/zitao_team/tianqiaoliu/Project/papers/hidden_cot/data/GSM8K/hcot_llm_data.json\", \"r\") as f:\n",
    "    file = json.load(f)"
   ]
  },
  {
   "cell_type": "code",
   "execution_count": null,
   "metadata": {},
   "outputs": [],
   "source": [
    "has_thought = []\n",
    "for one in file:\n",
    "    one_content = one[\"conversations\"][1][\"value\"]\n",
    "    if \"<thought>\" in one_content:\n",
    "        has_thought.append(one)"
   ]
  },
  {
   "cell_type": "code",
   "execution_count": null,
   "metadata": {},
   "outputs": [
    {
     "data": {
      "text/plain": [
       "248"
      ]
     },
     "execution_count": 7,
     "metadata": {},
     "output_type": "execute_result"
    }
   ],
   "source": [
    "len(has_thought)"
   ]
  },
  {
   "cell_type": "code",
   "execution_count": null,
   "metadata": {},
   "outputs": [
    {
     "data": {
      "text/plain": [
       "{'question': 'USER: Question: A concert ticket costs $40. Mr. Benson bought 12 tickets and received a 5% discount for every ticket bought that exceeds 10. How much did Mr. Benson pay in all?\\n Analysis: Mr. Benson had a 5% discount for each of the 12 - 10 = <<12-10=2>>2 tickets.\\nSo, those two tickets had a $40 x 5/100 = $<<40*5/100=2>>2 discount each.\\nHence, each ticket cost $40 - $2 = $<<40-2=38>>38 each.\\nThus, two discounted tickets amount to $38 x 2 = $<<38*2=76>>76.\\nAnd the other ten tickets amount to $40 x 10 = $<<40*10=400>>400.\\nHence, Mr. Benson paid a total of $400 + $76 = $<<400+76=476>>476.\\n Answer:476',\n",
       " 'raw_result': {'id': 'chatcmpl-8SRB5JiwuLiCvgGboHoupKbLk8ywt',\n",
       "  'object': 'chat.completion',\n",
       "  'created': 1701788347,\n",
       "  'model': 'gpt-4',\n",
       "  'choices': [{'index': 0,\n",
       "    'message': {'role': 'assistant',\n",
       "     'content': '<|im_start|>[assistant](#inner_monologue)\\\\nDeciding on language: `English` detected from the user message. Using the same language for my reply and my suggested user responses.\\\\nDeciding on next action: `math_action` I will understand the question and analysis and return markdown format of my detailed thoughts and answer to this question.\\\\n[assistant](#math_action)\\\\nThe problem involves calculating a discount on some concert tickets, then adding that discounted amount to the cost of other non-discounted tickets. \\\\n<thought>Firstly, we need to determine how many tickets Mr. Benson bought that were eligible for a discount. Since he gets a 5% discount for every ticket bought that exceeds 10, we subtract 10 from the total number of tickets he bought.</thought>\\\\n<equation>Tickets with discount = Total Tickets - Non-discounted Tickets = 12 - 10 = 2</equation>\\\\nthought>The next step is to calculate how much each discounted ticket costs. We know each ticket originally costs $40, so we find out what is 5% of $40 (which is the amount being discounted per ticket).</thought>\\\\n<equation>Discount per Ticket = Original Price x Discount Rate = $40 x \\\\frac{5}{100} = $2</equation>\\\\nthought>We then subtract this discount from the original price of each ticket to get the new price for these two discounted tickets.</thought>\\\\n<equation>New Price per Discounted Ticket= Original Price - Discount Amount= $40 - $2= $38</equation>\\\\nthought>To find out how much Mr.Benson paid in all, we multiply this new price by number of such discounted tickets which gives us total cost for these two special cases.</thought>\\\\n<equation>Total Cost For Two Discounted Tickets= New Price Per Ticket * Number Of Such Tickets=$38*2=$76</equation><thought>Then add it up with cost incurred due to remaining non-discounted ten tickets which can be calculated as product of their count(10) and their individual price($40).</thought><\\\\nequations>Total Cost Incurred By Mr.Benson=Cost Due To Non-Discounted Tickets + Cost Due To Discounted Tickets\\\\n$400+$76=$476 </end_equations>\\nSo,Mr.Benson paid a total sum of \\\\$476.\\n'},\n",
       "    'finish_reason': 'stop'}],\n",
       "  'usage': {'prompt_tokens': 1279,\n",
       "   'completion_tokens': 493,\n",
       "   'total_tokens': 1772}},\n",
       " 'success': True,\n",
       " 'response': '<|im_start|>[assistant](#inner_monologue)\\\\nDeciding on language: `English` detected from the user message. Using the same language for my reply and my suggested user responses.\\\\nDeciding on next action: `math_action` I will understand the question and analysis and return markdown format of my detailed thoughts and answer to this question.\\\\n[assistant](#math_action)\\\\nThe problem involves calculating a discount on some concert tickets, then adding that discounted amount to the cost of other non-discounted tickets. \\\\n<thought>Firstly, we need to determine how many tickets Mr. Benson bought that were eligible for a discount. Since he gets a 5% discount for every ticket bought that exceeds 10, we subtract 10 from the total number of tickets he bought.</thought>\\\\n<equation>Tickets with discount = Total Tickets - Non-discounted Tickets = 12 - 10 = 2</equation>\\\\nthought>The next step is to calculate how much each discounted ticket costs. We know each ticket originally costs $40, so we find out what is 5% of $40 (which is the amount being discounted per ticket).</thought>\\\\n<equation>Discount per Ticket = Original Price x Discount Rate = $40 x \\\\frac{5}{100} = $2</equation>\\\\nthought>We then subtract this discount from the original price of each ticket to get the new price for these two discounted tickets.</thought>\\\\n<equation>New Price per Discounted Ticket= Original Price - Discount Amount= $40 - $2= $38</equation>\\\\nthought>To find out how much Mr.Benson paid in all, we multiply this new price by number of such discounted tickets which gives us total cost for these two special cases.</thought>\\\\n<equation>Total Cost For Two Discounted Tickets= New Price Per Ticket * Number Of Such Tickets=$38*2=$76</equation><thought>Then add it up with cost incurred due to remaining non-discounted ten tickets which can be calculated as product of their count(10) and their individual price($40).</thought><\\\\nequations>Total Cost Incurred By Mr.Benson=Cost Due To Non-Discounted Tickets + Cost Due To Discounted Tickets\\\\n$400+$76=$476 </end_equations>\\nSo,Mr.Benson paid a total sum of \\\\$476.\\n',\n",
       " 'meta': {'question': 'A concert ticket costs $40. Mr. Benson bought 12 tickets and received a 5% discount for every ticket bought that exceeds 10. How much did Mr. Benson pay in all?',\n",
       "  'answer': '476',\n",
       "  'analysis': 'Mr. Benson had a 5% discount for each of the 12 - 10 = <<12-10=2>>2 tickets.\\nSo, those two tickets had a $40 x 5/100 = $<<40*5/100=2>>2 discount each.\\nHence, each ticket cost $40 - $2 = $<<40-2=38>>38 each.\\nThus, two discounted tickets amount to $38 x 2 = $<<38*2=76>>76.\\nAnd the other ten tickets amount to $40 x 10 = $<<40*10=400>>400.\\nHence, Mr. Benson paid a total of $400 + $76 = $<<400+76=476>>476.'},\n",
       " 'conversations': [{'from': 'human',\n",
       "   'value': 'A concert ticket costs $40. Mr. Benson bought 12 tickets and received a 5% discount for every ticket bought that exceeds 10. How much did Mr. Benson pay in all?'},\n",
       "  {'from': 'gpt',\n",
       "   'value': 'The problem involves calculating a discount on some concert tickets, then adding that discounted amount to the cost of other non-discounted tickets. \\n<[COT]>\\n<equation>Tickets with discount = Total Tickets - Non-discounted Tickets = 12 - 10 = 2</equation>\\nthought>The next step is to calculate how much each discounted ticket costs. We know each ticket originally costs $40, so we find out what is 5% of $40 (which is the amount being discounted per ticket).</thought>\\n<equation>Discount per Ticket = Original Price x Discount Rate = $40 x \\\\frac{5}{100} = $2</equation>\\nthought>We then subtract this discount from the original price of each ticket to get the new price for these two discounted tickets.</thought>\\n<equation>New Price per Discounted Ticket= Original Price - Discount Amount= $40 - $2= $38</equation>\\nthought>To find out how much Mr.Benson paid in all, we multiply this new price by number of such discounted tickets which gives us total cost for these two special cases.</thought>\\n<equation>Total Cost For Two Discounted Tickets= New Price Per Ticket * Number Of Such Tickets=$38*2=$76</equation><thought>Then add it up with cost incurred due to remaining non-discounted ten tickets which can be calculated as product of their count(10) and their individual price($40).</thought><\\nequations>Total Cost Incurred By Mr.Benson=Cost Due To Non-Discounted Tickets + Cost Due To Discounted Tickets\\n$400+$76=$476 </end_equations>\\nSo,Mr.Benson paid a total sum of \\\\$476.\\n'}]}"
      ]
     },
     "execution_count": 8,
     "metadata": {},
     "output_type": "execute_result"
    }
   ],
   "source": [
    "has_thought[0]"
   ]
  },
  {
   "cell_type": "markdown",
   "metadata": {},
   "source": [
    "#### 查看一下测试数据"
   ]
  },
  {
   "cell_type": "code",
   "execution_count": 2,
   "metadata": {},
   "outputs": [],
   "source": [
    "with open(\"/mnt/pfs/zitao_team/tianqiaoliu/Project/teammates/hidden_cot/data/GSM8K/reformat_test.json\", \"r\") as f:\n",
    "    reformat_gsm8k_test = json.load(f)"
   ]
  },
  {
   "cell_type": "code",
   "execution_count": 3,
   "metadata": {},
   "outputs": [
    {
     "data": {
      "text/plain": [
       "{'analysis': 'Janet sells 16 - 3 - 4 = <<16-3-4=9>>9 duck eggs a day.\\nShe makes 9 * 2 = $<<9*2=18>>18 every day at the farmer’s market.',\n",
       " 'answer': ' 18',\n",
       " 'instruction': '',\n",
       " 'input': \"Janet’s ducks lay 16 eggs per day. She eats three for breakfast every morning and bakes muffins for her friends every day with four. She sells the remainder at the farmers' market daily for $2 per fresh duck egg. How much in dollars does she make every day at the farmers' market?\"}"
      ]
     },
     "execution_count": 3,
     "metadata": {},
     "output_type": "execute_result"
    }
   ],
   "source": [
    "reformat_gsm8k_test[0]"
   ]
  },
  {
   "cell_type": "code",
   "execution_count": null,
   "metadata": {},
   "outputs": [],
   "source": []
  },
  {
   "cell_type": "code",
   "execution_count": null,
   "metadata": {},
   "outputs": [],
   "source": []
  },
  {
   "cell_type": "code",
   "execution_count": null,
   "metadata": {},
   "outputs": [],
   "source": []
  }
 ],
 "metadata": {
  "kernelspec": {
   "display_name": "python3.9",
   "language": "python",
   "name": "python3"
  },
  "language_info": {
   "codemirror_mode": {
    "name": "ipython",
    "version": 3
   },
   "file_extension": ".py",
   "mimetype": "text/x-python",
   "name": "python",
   "nbconvert_exporter": "python",
   "pygments_lexer": "ipython3",
   "version": "3.9.16"
  }
 },
 "nbformat": 4,
 "nbformat_minor": 2
}
